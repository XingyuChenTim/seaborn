{
 "cells": [
  {
   "cell_type": "markdown",
   "metadata": {},
   "source": [
    "# Week 15, Day 1 - JointGrid & Palettes"
   ]
  },
  {
   "cell_type": "markdown",
   "metadata": {},
   "source": [
    "#What is the Seaborn JointGrid?:\n",
    "\n",
    "\n",
    "1. The JointGrid serves as the backbone of the Seaborn Jointplot\n",
    "\n",
    "2. The JointGrid is similar to the FacetGrid and the PairGrid - but allows you more flexibility when plotting joint and marginal distributions than the Jointplot \n",
    "\n",
    "\n",
    "#When can you use Seaborn's JointGrid?\n",
    "\n",
    "1. You use the JointGrid when you want increased flexibility when plotting Joint distributions and marginal distributions\n",
    "\n",
    "\n",
    "#What is the Seaborn Palette?\n",
    "\n",
    "1. Used to provide a color scheme to your charts\n",
    "\n",
    "#When can you use the Seaborn Palette?\n",
    "\n",
    "1. When you need to use a color scheme to style a chart broken out by a categorical variable\n",
    "\n",
    "2. When you need to highlight a particular chart or compare and contrast charts"
   ]
  },
  {
   "cell_type": "code",
   "execution_count": 14,
   "metadata": {},
   "outputs": [],
   "source": [
    "import seaborn as sns\n",
    "\n",
    "from matplotlib import pyplot as plt\n",
    "\n",
    "import numpy as np\n"
   ]
  },
  {
   "cell_type": "code",
   "execution_count": 15,
   "metadata": {},
   "outputs": [],
   "source": [
    "cars = sns.load_dataset('mpg')"
   ]
  },
  {
   "cell_type": "code",
   "execution_count": null,
   "metadata": {},
   "outputs": [],
   "source": [
    "cars.head()"
   ]
  },
  {
   "cell_type": "code",
   "execution_count": null,
   "metadata": {},
   "outputs": [],
   "source": [
    "#Gives you a dark backgroud\n",
    "sns.set_style('dark')"
   ]
  },
  {
   "cell_type": "code",
   "execution_count": null,
   "metadata": {},
   "outputs": [],
   "source": [
    "#Gives you a dark grid\n",
    "\n",
    "sns.set_style('darkgrid')"
   ]
  },
  {
   "cell_type": "code",
   "execution_count": null,
   "metadata": {},
   "outputs": [],
   "source": [
    "#Create blank Joint Grid\n",
    "\n",
    "sns.JointGrid()"
   ]
  },
  {
   "cell_type": "code",
   "execution_count": null,
   "metadata": {},
   "outputs": [],
   "source": [
    "#Notice that we get a blank joint plot - on which we can insert the jointplot\n",
    "# and marginal plots\n",
    "\n",
    "#The middle part is for a jointplot and the edges are for the marginal plots"
   ]
  },
  {
   "cell_type": "code",
   "execution_count": null,
   "metadata": {},
   "outputs": [],
   "source": [
    "#Save the output of the JointGrid() function as object g\n",
    "\n",
    "g=sns.JointGrid()"
   ]
  },
  {
   "cell_type": "code",
   "execution_count": null,
   "metadata": {},
   "outputs": [],
   "source": [
    "type(g)"
   ]
  },
  {
   "cell_type": "code",
   "execution_count": null,
   "metadata": {},
   "outputs": [],
   "source": [
    "#g is a JointGrid object"
   ]
  },
  {
   "cell_type": "code",
   "execution_count": null,
   "metadata": {},
   "outputs": [],
   "source": [
    "#Specify what data frame you are going to use with the JointGrid () function\n",
    "\n",
    "#and plot a jointplot for the mpg-weight relationship\n",
    "\n",
    "g=sns.JointGrid(data=cars, x='weight', y='mpg')"
   ]
  },
  {
   "cell_type": "code",
   "execution_count": null,
   "metadata": {},
   "outputs": [],
   "source": [
    "#JointGrid() allows you to keep the grid portions blank while just assigning\n",
    "# names to the vertical and horizontal axes\n",
    "\n",
    "#You are allowed to indicate what features JointGrid is going to work with\n",
    "# without specifying the type of plots for the two parts of the pplot"
   ]
  },
  {
   "cell_type": "code",
   "execution_count": null,
   "metadata": {},
   "outputs": [],
   "source": [
    "#To specify the type of plot we want, we use the .plot() method\n",
    "\n",
    "g=sns.JointGrid(data=cars, x='weight', y='mpg')\n",
    "g.plot(sns.scatterplot,sns.histplot)# put a scatterplot in the joint area and histograms in the marginal areas\n",
    "\n",
    "\n"
   ]
  },
  {
   "cell_type": "code",
   "execution_count": null,
   "metadata": {},
   "outputs": [],
   "source": [
    "#To specify the type of plot we want, we use the .plot() method\n",
    "\n",
    "g=sns.JointGrid(data=cars, x='weight', y='mpg')\n",
    "g.plot(sns.regplot,sns.kdeplot)# put a regplot in the joint area and kdeplots in the marginal areas\n"
   ]
  },
  {
   "cell_type": "code",
   "execution_count": null,
   "metadata": {},
   "outputs": [],
   "source": [
    "#Seaborn JointGrid() allows you to vary the charts in the joint distribution area\n",
    "# and the marginal distribution area\n",
    "\n",
    "#Working with Joint and Marginal Plots\n",
    "\n",
    "#Use the .plot_joint() for the joint distribution area only\n",
    "\n",
    "g=sns.JointGrid(data=cars,x='weight', y='mpg')\n",
    "g.plot_joint(sns.regplot)\n",
    "\n"
   ]
  },
  {
   "cell_type": "code",
   "execution_count": null,
   "metadata": {},
   "outputs": [],
   "source": [
    "#Seaborn JointGrid() allows you to vary the charts in the joint distribution area\n",
    "# and the marginal distribution area\n",
    "\n",
    "#Working with Joint and Marginal Plots\n",
    "\n",
    "#Use .plot_marginals() method for the marginal distribution areas\n",
    "\n",
    "g=sns.JointGrid(data=cars,x='weight', y='mpg')\n",
    "g.plot_marginals(sns.kdeplot)"
   ]
  },
  {
   "cell_type": "code",
   "execution_count": null,
   "metadata": {},
   "outputs": [],
   "source": [
    "#Add marginal plots and joint plots using .plot_joint() and .plot_marginals()\n",
    "# at the same time\n",
    "\n",
    "g=sns.JointGrid(data=cars,x='weight', y='mpg')\n",
    "g.plot_joint(sns.regplot)\n",
    "g.plot_marginals(sns.kdeplot)"
   ]
  },
  {
   "cell_type": "code",
   "execution_count": null,
   "metadata": {},
   "outputs": [],
   "source": [
    "#Add marginal plots and joint plots using .plot_joint() and .plot_marginals()\n",
    "# at the same time\n",
    "\n",
    "#Fill the area below the kdeplot - focus the code on the .plot_marginals()\n",
    "\n",
    "g=sns.JointGrid(data=cars,x='weight', y='mpg')\n",
    "g.plot_joint(sns.regplot)\n",
    "g.plot_marginals(sns.kdeplot, fill=True) #Use the fill=argument"
   ]
  },
  {
   "cell_type": "markdown",
   "metadata": {},
   "source": [
    "# Working with particular JointGrid axes"
   ]
  },
  {
   "cell_type": "code",
   "execution_count": null,
   "metadata": {},
   "outputs": [],
   "source": [
    "#pressing Tab after you type g. provides a list of options to work with the\n",
    "# joint distribution area and marginal distribution area\n",
    "\n",
    "g."
   ]
  },
  {
   "cell_type": "code",
   "execution_count": null,
   "metadata": {},
   "outputs": [],
   "source": [
    "#Use ax_joint option to insert a regplot in the joint plot area\n",
    "\n",
    "g=sns.JointGrid()\n",
    "x,y = cars.weight, cars.mpg\n",
    "sns.regplot(x=x, y=y, ax=g.ax_joint)"
   ]
  },
  {
   "cell_type": "code",
   "execution_count": null,
   "metadata": {},
   "outputs": [],
   "source": [
    "#Use ax_joint option to insert a scatterplot in the joint plot area\n",
    "\n",
    "g=sns.JointGrid()\n",
    "x,y = cars.weight, cars.mpg\n",
    "sns.scatterplot(x=x, y=y, ax=g.ax_joint)"
   ]
  },
  {
   "cell_type": "code",
   "execution_count": null,
   "metadata": {},
   "outputs": [],
   "source": [
    "#Use ax_joint option to insert a scatterplot in the joint plot area\n",
    "#Use ax_marg_x option to insert a kdeplot on the horizontal axis only\n",
    "\n",
    "g=sns.JointGrid()\n",
    "x,y = cars.weight, cars.mpg\n",
    "sns.scatterplot(x=x, y=y, ax=g.ax_joint)\n",
    "sns.kdeplot(x=x, ax=g.ax_marg_x)"
   ]
  },
  {
   "cell_type": "code",
   "execution_count": null,
   "metadata": {},
   "outputs": [],
   "source": [
    "#Use ax_joint option to insert a scatterplot in the joint plot area\n",
    "#Use ax_marg_y option to insert a kdeplot on the vertical axis only\n",
    "\n",
    "g=sns.JointGrid()\n",
    "x,y = cars.weight, cars.mpg\n",
    "sns.scatterplot(x=x, y=y, ax=g.ax_joint)\n",
    "sns.kdeplot(y=y, ax=g.ax_marg_y)"
   ]
  },
  {
   "cell_type": "code",
   "execution_count": null,
   "metadata": {},
   "outputs": [],
   "source": [
    "#Use ax_joint option to insert a scatterplot in the joint plot area\n",
    "#Use ax_marg_x option to insert a kdeplot on the horizontal axis\n",
    "#Use ax_marg_y option to insert a histogram on the vertical axis\n",
    "\n",
    "g=sns.JointGrid()\n",
    "x,y = cars.weight, cars.mpg\n",
    "sns.scatterplot(x=x, y=y, ax=g.ax_joint)\n",
    "sns.kdeplot(x=x, ax=g.ax_marg_x)\n",
    "sns.histplot(y=y, ax=g.ax_marg_y)"
   ]
  },
  {
   "cell_type": "code",
   "execution_count": null,
   "metadata": {},
   "outputs": [],
   "source": [
    "#Use hue= argument to include categorical variables\n",
    "\n",
    "#Case 1. Using hue= to breakout the joint and marginal plots\n",
    "\n",
    "\n",
    "g=sns.JointGrid(data=cars, x='weight', y='mpg', hue='origin')\n",
    "g.plot(sns.scatterplot, sns.kdeplot)"
   ]
  },
  {
   "cell_type": "code",
   "execution_count": null,
   "metadata": {},
   "outputs": [],
   "source": [
    "#Use hue= argument to include categorical variables\n",
    "\n",
    "#Case 2. Using hue= to breakout only for the horizontal distribution chart\n",
    "\n",
    "\n",
    "\n",
    "g=sns.JointGrid()\n",
    "x,y=cars.weight, cars.mpg\n",
    "sns.regplot(x=x, y=y, ax=g.ax_joint)\n",
    "sns.kdeplot(x=x,ax=g.ax_marg_x, hue=cars.origin)\n",
    "\n",
    "\n",
    "\n",
    "\n",
    "\n"
   ]
  },
  {
   "cell_type": "code",
   "execution_count": null,
   "metadata": {},
   "outputs": [],
   "source": [
    "#Use hue= argument to include categorical variables\n",
    "\n",
    "#Case 3. Using hue= to breakout only for the vertical distribution chart\n",
    "\n",
    "\n",
    "\n",
    "g=sns.JointGrid()\n",
    "x,y=cars.weight, cars.mpg\n",
    "sns.regplot(x=x, y=y, ax=g.ax_joint)\n",
    "sns.kdeplot(y=y,ax=g.ax_marg_y, hue=cars.origin)\n"
   ]
  },
  {
   "cell_type": "code",
   "execution_count": null,
   "metadata": {},
   "outputs": [],
   "source": [
    "#Use hue= argument to include categorical variables\n",
    "\n",
    "#Case 4. Using hue= to breakout only for the vertical and distribution chart\n",
    "\n",
    "\n",
    "\n",
    "g=sns.JointGrid()\n",
    "x,y=cars.weight, cars.mpg\n",
    "sns.regplot(x=x, y=y, ax=g.ax_joint)\n",
    "sns.kdeplot(x=x, ax=g.ax_marg_x, hue=cars.origin)\n",
    "sns.histplot(y=y,ax=g.ax_marg_y)"
   ]
  },
  {
   "cell_type": "code",
   "execution_count": null,
   "metadata": {},
   "outputs": [],
   "source": [
    "#General Styling use .plot() to style both marginal \n",
    "# and joint distribution plots\n",
    "\n",
    "g=sns.JointGrid(data=cars, x='weight', y='mpg')\n",
    "g.plot(sns.scatterplot, sns.histplot, edgecolor='blue')"
   ]
  },
  {
   "cell_type": "code",
   "execution_count": null,
   "metadata": {},
   "outputs": [],
   "source": [
    "#General Styling use .plot_joint() and .plot_marginals() \n",
    "# to style both marginal \n",
    "# apply plot-specific keywords to style the plots\n",
    "\n",
    "#Make the regplot line black\n",
    "\n",
    "\n",
    "g=sns.JointGrid(data=cars, x='weight', y='mpg')\n",
    "g.plot_joint(sns.regplot, line_kws={'color':'black'})\n",
    "g.plot_marginals(sns.kdeplot)\n"
   ]
  },
  {
   "cell_type": "code",
   "execution_count": null,
   "metadata": {},
   "outputs": [],
   "source": [
    "#General Styling use .plot_joint() and .plot_marginals() \n",
    "# to style both marginal \n",
    "# apply plot-specific keywords to style the plots\n",
    "\n",
    "#Make the regplot line red\n",
    "\n",
    "\n",
    "g=sns.JointGrid(data=cars, x='weight', y='mpg')\n",
    "g.plot_joint(sns.regplot, line_kws={'color':'red'})\n",
    "g.plot_marginals(sns.kdeplot, fill=True, color='purple')"
   ]
  },
  {
   "cell_type": "code",
   "execution_count": null,
   "metadata": {},
   "outputs": [],
   "source": [
    "#JointGrid Properties\n",
    "\n",
    "#Change labels and increase font size\n",
    "\n",
    "g=sns.JointGrid(data=cars, x='weight', y='mpg')\n",
    "g.plot(sns.scatterplot,sns.histplot)\n",
    "g.set_axis_labels(xlabel='Weight (lbs)', ylabel='Miles per Gallon', fontsize=14)\n",
    "               "
   ]
  },
  {
   "cell_type": "markdown",
   "metadata": {},
   "source": [
    "# Seaborn Color Palettes"
   ]
  },
  {
   "cell_type": "code",
   "execution_count": 1,
   "metadata": {},
   "outputs": [],
   "source": [
    "import seaborn as sns\n",
    "import numpy as np\n",
    "import matplotlib\n",
    "from matplotlib import pyplot as plt"
   ]
  },
  {
   "cell_type": "code",
   "execution_count": null,
   "metadata": {},
   "outputs": [],
   "source": [
    "#There are 170+ Seaborn color palettes"
   ]
  },
  {
   "cell_type": "code",
   "execution_count": 16,
   "metadata": {},
   "outputs": [],
   "source": [
    "sns.set_style('whitegrid')"
   ]
  },
  {
   "cell_type": "code",
   "execution_count": 17,
   "metadata": {},
   "outputs": [],
   "source": [
    "tips=sns.load_dataset('tips')"
   ]
  },
  {
   "cell_type": "code",
   "execution_count": 18,
   "metadata": {},
   "outputs": [
    {
     "data": {
      "text/html": [
       "<div>\n",
       "<style scoped>\n",
       "    .dataframe tbody tr th:only-of-type {\n",
       "        vertical-align: middle;\n",
       "    }\n",
       "\n",
       "    .dataframe tbody tr th {\n",
       "        vertical-align: top;\n",
       "    }\n",
       "\n",
       "    .dataframe thead th {\n",
       "        text-align: right;\n",
       "    }\n",
       "</style>\n",
       "<table border=\"1\" class=\"dataframe\">\n",
       "  <thead>\n",
       "    <tr style=\"text-align: right;\">\n",
       "      <th></th>\n",
       "      <th>total_bill</th>\n",
       "      <th>tip</th>\n",
       "      <th>sex</th>\n",
       "      <th>smoker</th>\n",
       "      <th>day</th>\n",
       "      <th>time</th>\n",
       "      <th>size</th>\n",
       "    </tr>\n",
       "  </thead>\n",
       "  <tbody>\n",
       "    <tr>\n",
       "      <th>0</th>\n",
       "      <td>16.99</td>\n",
       "      <td>1.01</td>\n",
       "      <td>Female</td>\n",
       "      <td>No</td>\n",
       "      <td>Sun</td>\n",
       "      <td>Dinner</td>\n",
       "      <td>2</td>\n",
       "    </tr>\n",
       "    <tr>\n",
       "      <th>1</th>\n",
       "      <td>10.34</td>\n",
       "      <td>1.66</td>\n",
       "      <td>Male</td>\n",
       "      <td>No</td>\n",
       "      <td>Sun</td>\n",
       "      <td>Dinner</td>\n",
       "      <td>3</td>\n",
       "    </tr>\n",
       "    <tr>\n",
       "      <th>2</th>\n",
       "      <td>21.01</td>\n",
       "      <td>3.50</td>\n",
       "      <td>Male</td>\n",
       "      <td>No</td>\n",
       "      <td>Sun</td>\n",
       "      <td>Dinner</td>\n",
       "      <td>3</td>\n",
       "    </tr>\n",
       "    <tr>\n",
       "      <th>3</th>\n",
       "      <td>23.68</td>\n",
       "      <td>3.31</td>\n",
       "      <td>Male</td>\n",
       "      <td>No</td>\n",
       "      <td>Sun</td>\n",
       "      <td>Dinner</td>\n",
       "      <td>2</td>\n",
       "    </tr>\n",
       "    <tr>\n",
       "      <th>4</th>\n",
       "      <td>24.59</td>\n",
       "      <td>3.61</td>\n",
       "      <td>Female</td>\n",
       "      <td>No</td>\n",
       "      <td>Sun</td>\n",
       "      <td>Dinner</td>\n",
       "      <td>4</td>\n",
       "    </tr>\n",
       "  </tbody>\n",
       "</table>\n",
       "</div>"
      ],
      "text/plain": [
       "   total_bill   tip     sex smoker  day    time  size\n",
       "0       16.99  1.01  Female     No  Sun  Dinner     2\n",
       "1       10.34  1.66    Male     No  Sun  Dinner     3\n",
       "2       21.01  3.50    Male     No  Sun  Dinner     3\n",
       "3       23.68  3.31    Male     No  Sun  Dinner     2\n",
       "4       24.59  3.61  Female     No  Sun  Dinner     4"
      ]
     },
     "execution_count": 18,
     "metadata": {},
     "output_type": "execute_result"
    }
   ],
   "source": [
    "tips.head()"
   ]
  },
  {
   "cell_type": "code",
   "execution_count": null,
   "metadata": {},
   "outputs": [],
   "source": [
    "#Scatterplot of tip-total_bill relationship\n",
    "\n",
    "sns.scatterplot(x='total_bill', y='tip', data=tips)"
   ]
  },
  {
   "cell_type": "code",
   "execution_count": null,
   "metadata": {},
   "outputs": [],
   "source": [
    "#Basic and Custom Palettes\n",
    "\n"
   ]
  },
  {
   "cell_type": "code",
   "execution_count": null,
   "metadata": {},
   "outputs": [],
   "source": [
    "#Breakout data by day feature\n",
    "\n",
    "sns.scatterplot(data=tips, x='total_bill', y='tip', hue='day')"
   ]
  },
  {
   "cell_type": "code",
   "execution_count": null,
   "metadata": {},
   "outputs": [],
   "source": [
    "#Check out the Seaborn default color palette\n",
    "\n",
    "sns.color_palette()"
   ]
  },
  {
   "cell_type": "code",
   "execution_count": null,
   "metadata": {},
   "outputs": [],
   "source": [
    "#Available Palettes\n",
    "\n",
    "#You can check the palettes available in Seaborn by deliberately passing a faulty \n",
    "#palette name.\n",
    "\n",
    "#The error message you get from passing a faulty palette lists all Seaborn named palettes\n",
    "\n",
    "#You can then choose any palette you like from the list\n",
    "\n",
    "sns.scatterplot(x='total_bill', y='tip', data=tips, hue='day', palette='g')\n"
   ]
  },
  {
   "cell_type": "code",
   "execution_count": null,
   "metadata": {},
   "outputs": [],
   "source": [
    "sns.scatterplot(x='total_bill', y='tip', data=tips, hue='day', palette='copper')"
   ]
  },
  {
   "cell_type": "code",
   "execution_count": null,
   "metadata": {},
   "outputs": [],
   "source": [
    "#To reverse a particluar palette, use the _r option of the palette\n",
    "\n",
    "sns.scatterplot(x='total_bill', y='tip', data=tips, hue='day', palette='copper_r')"
   ]
  },
  {
   "cell_type": "code",
   "execution_count": null,
   "metadata": {},
   "outputs": [],
   "source": [
    "#You can display the list of colors in a palette using the color_palette() function\n",
    "\n",
    "#Palettes ending in \"_r\" are the same palette but in reverse order\n",
    "\n",
    "sns.color_palette('copper')"
   ]
  },
  {
   "cell_type": "code",
   "execution_count": null,
   "metadata": {},
   "outputs": [],
   "source": [
    "#You can display the list of colors in a palette using the color_palette() function\n",
    "\n",
    "#Palettes ending in \"_r\" are the same palette but in reverse order\n",
    "\n",
    "sns.color_palette('copper_r')"
   ]
  },
  {
   "cell_type": "code",
   "execution_count": null,
   "metadata": {},
   "outputs": [],
   "source": [
    "#You can display the list of colors in a palette using the color_palette() function\n",
    "\n",
    "#Palettes ending in \"_r\" are the same palette but in reverse order\n",
    "\n",
    "sns.color_palette('terrain')"
   ]
  },
  {
   "cell_type": "code",
   "execution_count": null,
   "metadata": {},
   "outputs": [],
   "source": [
    "#You can reverse the display the list of colors in a palette using the color_palette() function\n",
    "\n",
    "#Palettes ending in \"_r\" are the same palette but in reverse order\n",
    "\n",
    "sns.color_palette('terrain_r')"
   ]
  },
  {
   "cell_type": "code",
   "execution_count": null,
   "metadata": {},
   "outputs": [],
   "source": [
    "#You can extend a specific palette beyond the default 6 colors\n",
    "\n",
    "#Add a number to the color_palette() function\n",
    "\n",
    "sns.color_palette('terrain_r',15)"
   ]
  },
  {
   "cell_type": "code",
   "execution_count": null,
   "metadata": {},
   "outputs": [],
   "source": [
    "#We can extract colors as variables\n",
    "\n",
    "sns.color_palette()"
   ]
  },
  {
   "cell_type": "code",
   "execution_count": null,
   "metadata": {},
   "outputs": [],
   "source": [
    "#We can extract the first two colors above (blue and orange) as variables\n",
    "\n",
    "sns.color_palette()[:2]"
   ]
  },
  {
   "cell_type": "code",
   "execution_count": null,
   "metadata": {},
   "outputs": [],
   "source": [
    "#We put the first row (blue) into blue \n",
    "# and the second row () into a variable orange\n",
    "\n",
    "blue, orange = sns.color_palette()[:2]"
   ]
  },
  {
   "cell_type": "code",
   "execution_count": null,
   "metadata": {},
   "outputs": [],
   "source": [
    "#We can then use those variables in our function call with the color=argument\n",
    "\n",
    "\n",
    "sns.scatterplot(x='total_bill', y='tip', data=tips, color=blue)\n"
   ]
  },
  {
   "cell_type": "code",
   "execution_count": null,
   "metadata": {},
   "outputs": [],
   "source": [
    "sns.scatterplot(x='total_bill', y='tip', data=tips, color=orange)"
   ]
  },
  {
   "cell_type": "code",
   "execution_count": null,
   "metadata": {},
   "outputs": [],
   "source": [
    "#You can use Seaborn palettes in two other cases\n",
    "\n",
    "#1. Create and use a custom blended palette\n",
    "#2. Create and use a highlighting palette"
   ]
  },
  {
   "cell_type": "code",
   "execution_count": 5,
   "metadata": {},
   "outputs": [
    {
     "data": {
      "text/html": [
       "<svg  width=\"330\" height=\"55\"><rect x=\"0\" y=\"0\" width=\"55\" height=\"55\" style=\"fill:#f0f0f3;stroke-width:2;stroke:rgb(255,255,255)\"/><rect x=\"55\" y=\"0\" width=\"55\" height=\"55\" style=\"fill:#c0c0f5;stroke-width:2;stroke:rgb(255,255,255)\"/><rect x=\"110\" y=\"0\" width=\"55\" height=\"55\" style=\"fill:#9090f8;stroke-width:2;stroke:rgb(255,255,255)\"/><rect x=\"165\" y=\"0\" width=\"55\" height=\"55\" style=\"fill:#6060fa;stroke-width:2;stroke:rgb(255,255,255)\"/><rect x=\"220\" y=\"0\" width=\"55\" height=\"55\" style=\"fill:#3030fd;stroke-width:2;stroke:rgb(255,255,255)\"/><rect x=\"275\" y=\"0\" width=\"55\" height=\"55\" style=\"fill:#0000ff;stroke-width:2;stroke:rgb(255,255,255)\"/></svg>"
      ],
      "text/plain": [
       "[(0.9427942677547513, 0.942825384792593, 0.9519953287278279),\n",
       " (0.754235414203801, 0.7542603078340744, 0.9615962629822623),\n",
       " (0.5656765606528508, 0.5656952308755558, 0.9711971972366967),\n",
       " (0.3771177071019005, 0.3771301539170372, 0.9807981314911312),\n",
       " (0.18855885355095026, 0.18856507695851854, 0.9903990657455656),\n",
       " (0.0, 0.0, 1.0)]"
      ]
     },
     "execution_count": 5,
     "metadata": {},
     "output_type": "execute_result"
    }
   ],
   "source": [
    "#Case 1: Create and use a custom blended palette\n",
    "#Use light_palette() function\n",
    "\n",
    "#The function below shows colors from light color to dark blue\n",
    "\n",
    "sns.light_palette('blue')\n"
   ]
  },
  {
   "cell_type": "code",
   "execution_count": null,
   "metadata": {},
   "outputs": [],
   "source": [
    "#Case 1: Create and use a custom blended palette\n",
    "#Use light_palette() function\n",
    "\n",
    "#The function below shows colors from light color to dark green\n",
    "\n",
    "sns.light_palette('green')"
   ]
  },
  {
   "cell_type": "code",
   "execution_count": null,
   "metadata": {},
   "outputs": [],
   "source": [
    "#Case 1: Create and use a custom blended palette\n",
    "#Use light_palette() function\n",
    "\n",
    "#The function below shows colors from light color to dark orange\n",
    "\n",
    "sns.light_palette('orange')"
   ]
  },
  {
   "cell_type": "code",
   "execution_count": null,
   "metadata": {},
   "outputs": [],
   "source": [
    "#Case 1: Create and use a custom blended palette\n",
    "#Use light_palette() function\n",
    "\n",
    "#The function below shows colors from light color to dark purple\n",
    "\n",
    "sns.light_palette('purple')"
   ]
  },
  {
   "cell_type": "code",
   "execution_count": null,
   "metadata": {},
   "outputs": [],
   "source": [
    "#Case 1: Create and use a custom blended palette\n",
    "#Use light_palette() function\n",
    "\n",
    "#The function below shows colors from light color to dark black\n",
    "\n",
    "sns.light_palette('black')"
   ]
  },
  {
   "cell_type": "code",
   "execution_count": null,
   "metadata": {},
   "outputs": [],
   "source": [
    "#Case 1: Create and use a custom blended palette\n",
    "#Use light_palette() function\n",
    "\n",
    "#The function below shows colors from light color to dark red\n",
    "\n",
    "sns.light_palette('red')"
   ]
  },
  {
   "cell_type": "code",
   "execution_count": null,
   "metadata": {},
   "outputs": [],
   "source": [
    "#Case 1: Create and use a custom blended palette\n",
    "#Use light_palette() function\n",
    "\n",
    "#The function below shows colors from light color to dark yellow\n",
    "\n",
    "sns.light_palette('yellow')"
   ]
  },
  {
   "cell_type": "code",
   "execution_count": 6,
   "metadata": {},
   "outputs": [
    {
     "data": {
      "text/html": [
       "<svg  width=\"330\" height=\"55\"><rect x=\"0\" y=\"0\" width=\"55\" height=\"55\" style=\"fill:#242433;stroke-width:2;stroke:rgb(255,255,255)\"/><rect x=\"55\" y=\"0\" width=\"55\" height=\"55\" style=\"fill:#1d1d5c;stroke-width:2;stroke:rgb(255,255,255)\"/><rect x=\"110\" y=\"0\" width=\"55\" height=\"55\" style=\"fill:#161684;stroke-width:2;stroke:rgb(255,255,255)\"/><rect x=\"165\" y=\"0\" width=\"55\" height=\"55\" style=\"fill:#0f0fad;stroke-width:2;stroke:rgb(255,255,255)\"/><rect x=\"220\" y=\"0\" width=\"55\" height=\"55\" style=\"fill:#0707d6;stroke-width:2;stroke:rgb(255,255,255)\"/><rect x=\"275\" y=\"0\" width=\"55\" height=\"55\" style=\"fill:#0000ff;stroke-width:2;stroke:rgb(255,255,255)\"/></svg>"
      ],
      "text/plain": [
       "[(0.14289171628325356, 0.14289583210240445, 0.19919851992384108),\n",
       " (0.11431337302660285, 0.11431666568192356, 0.3593588159390729),\n",
       " (0.08573502976995213, 0.08573749926144267, 0.5195191119543047),\n",
       " (0.05715668651330143, 0.05715833284096178, 0.6796794079695364),\n",
       " (0.028578343256650707, 0.02857916642048089, 0.8398397039847683),\n",
       " (0.0, 0.0, 1.0)]"
      ]
     },
     "execution_count": 6,
     "metadata": {},
     "output_type": "execute_result"
    }
   ],
   "source": [
    "#Case 1: Create and use a custom blended palette\n",
    "#Use light_palette() function\n",
    "\n",
    "#The function below shows colors from a dark color to dark blue\n",
    "\n",
    "sns.dark_palette('blue')"
   ]
  },
  {
   "cell_type": "code",
   "execution_count": 8,
   "metadata": {},
   "outputs": [
    {
     "data": {
      "text/html": [
       "<svg  width=\"1100\" height=\"55\"><rect x=\"0\" y=\"0\" width=\"55\" height=\"55\" style=\"fill:#292522;stroke-width:2;stroke:rgb(255,255,255)\"/><rect x=\"55\" y=\"0\" width=\"55\" height=\"55\" style=\"fill:#342b20;stroke-width:2;stroke:rgb(255,255,255)\"/><rect x=\"110\" y=\"0\" width=\"55\" height=\"55\" style=\"fill:#3f321e;stroke-width:2;stroke:rgb(255,255,255)\"/><rect x=\"165\" y=\"0\" width=\"55\" height=\"55\" style=\"fill:#4b391c;stroke-width:2;stroke:rgb(255,255,255)\"/><rect x=\"220\" y=\"0\" width=\"55\" height=\"55\" style=\"fill:#563f1b;stroke-width:2;stroke:rgb(255,255,255)\"/><rect x=\"275\" y=\"0\" width=\"55\" height=\"55\" style=\"fill:#624719;stroke-width:2;stroke:rgb(255,255,255)\"/><rect x=\"330\" y=\"0\" width=\"55\" height=\"55\" style=\"fill:#6c4d17;stroke-width:2;stroke:rgb(255,255,255)\"/><rect x=\"385\" y=\"0\" width=\"55\" height=\"55\" style=\"fill:#785415;stroke-width:2;stroke:rgb(255,255,255)\"/><rect x=\"440\" y=\"0\" width=\"55\" height=\"55\" style=\"fill:#835b14;stroke-width:2;stroke:rgb(255,255,255)\"/><rect x=\"495\" y=\"0\" width=\"55\" height=\"55\" style=\"fill:#8f6212;stroke-width:2;stroke:rgb(255,255,255)\"/><rect x=\"550\" y=\"0\" width=\"55\" height=\"55\" style=\"fill:#9a6810;stroke-width:2;stroke:rgb(255,255,255)\"/><rect x=\"605\" y=\"0\" width=\"55\" height=\"55\" style=\"fill:#a56f0e;stroke-width:2;stroke:rgb(255,255,255)\"/><rect x=\"660\" y=\"0\" width=\"55\" height=\"55\" style=\"fill:#b0760c;stroke-width:2;stroke:rgb(255,255,255)\"/><rect x=\"715\" y=\"0\" width=\"55\" height=\"55\" style=\"fill:#bc7d0b;stroke-width:2;stroke:rgb(255,255,255)\"/><rect x=\"770\" y=\"0\" width=\"55\" height=\"55\" style=\"fill:#c78309;stroke-width:2;stroke:rgb(255,255,255)\"/><rect x=\"825\" y=\"0\" width=\"55\" height=\"55\" style=\"fill:#d38a07;stroke-width:2;stroke:rgb(255,255,255)\"/><rect x=\"880\" y=\"0\" width=\"55\" height=\"55\" style=\"fill:#dd9105;stroke-width:2;stroke:rgb(255,255,255)\"/><rect x=\"935\" y=\"0\" width=\"55\" height=\"55\" style=\"fill:#e99803;stroke-width:2;stroke:rgb(255,255,255)\"/><rect x=\"990\" y=\"0\" width=\"55\" height=\"55\" style=\"fill:#f49e02;stroke-width:2;stroke:rgb(255,255,255)\"/><rect x=\"1045\" y=\"0\" width=\"55\" height=\"55\" style=\"fill:#ffa500;stroke-width:2;stroke:rgb(255,255,255)\"/></svg>"
      ],
      "text/plain": [
       "[(0.16242582495759608, 0.14453866726676728, 0.1325356776096219),\n",
       " (0.20512568486171864, 0.17015734189976484, 0.12577895679030784),\n",
       " (0.24782554476584118, 0.19577601653276241, 0.11902223597099379),\n",
       " (0.2938100092779732, 0.22336535844522132, 0.11174576739634788),\n",
       " (0.3365098691820957, 0.24898403307821887, 0.10498904657703381),\n",
       " (0.3824943336942277, 0.2765733749906778, 0.09771257800238792),\n",
       " (0.4251941935983503, 0.30219204962367535, 0.09095585718307386),\n",
       " (0.4711786581104822, 0.3297813915361343, 0.08367938860842794),\n",
       " (0.5138785180146048, 0.35540006616913183, 0.07692266778911389),\n",
       " (0.5598629825267367, 0.3829894080815907, 0.06964619921446798),\n",
       " (0.6025628424308593, 0.4086080827145883, 0.06288947839515392),\n",
       " (0.6485473069429912, 0.4361974246270472, 0.05561300982050803),\n",
       " (0.6912471668471138, 0.46181609926004474, 0.04885628900119396),\n",
       " (0.7372316313592459, 0.4894054411725037, 0.04157982042654805),\n",
       " (0.7799314912633684, 0.5150241158055013, 0.03482309960723398),\n",
       " (0.8259159557755004, 0.5426134577179602, 0.027546631032588087),\n",
       " (0.8686158156796229, 0.5682321323509577, 0.020789910213274018),\n",
       " (0.9146002801917549, 0.5958214742634167, 0.01351344163862811),\n",
       " (0.9573001400958774, 0.6214401488964141, 0.006756720819314055),\n",
       " (1.0, 0.6470588235294118, 0.0)]"
      ]
     },
     "execution_count": 8,
     "metadata": {},
     "output_type": "execute_result"
    }
   ],
   "source": [
    "#Case 1: Create and use a custom blended palette\n",
    "#Use light_palette() function\n",
    "\n",
    "#The function below shows colors from a dark color to dark orange\n",
    "\n",
    "sns.dark_palette('orange', 20)"
   ]
  },
  {
   "cell_type": "code",
   "execution_count": null,
   "metadata": {},
   "outputs": [],
   "source": [
    "#Case 1: Create and use a custom blended palette\n",
    "#Use light_palette() function\n",
    "\n",
    "#The function below shows colors from a dark color to dark black\n",
    "\n",
    "sns.dark_palette('black')"
   ]
  },
  {
   "cell_type": "code",
   "execution_count": null,
   "metadata": {},
   "outputs": [],
   "source": [
    "#Case 1: Create and use a custom blended palette\n",
    "#Use light_palette() function\n",
    "\n",
    "#The function below shows colors from a dark color to dark green\n",
    "\n",
    "sns.dark_palette('green')"
   ]
  },
  {
   "cell_type": "code",
   "execution_count": null,
   "metadata": {},
   "outputs": [],
   "source": [
    "#Case 1: Create and use a custom blended palette\n",
    "#Use light_palette() function\n",
    "\n",
    "#The function below shows colors from a dark color to dark crimson\n",
    "\n",
    "sns.dark_palette('crimson')"
   ]
  },
  {
   "cell_type": "code",
   "execution_count": 10,
   "metadata": {},
   "outputs": [
    {
     "data": {
      "text/html": [
       "<svg  width=\"1100\" height=\"55\"><rect x=\"0\" y=\"0\" width=\"55\" height=\"55\" style=\"fill:#0000ff;stroke-width:2;stroke:rgb(255,255,255)\"/><rect x=\"55\" y=\"0\" width=\"55\" height=\"55\" style=\"fill:#0d00f2;stroke-width:2;stroke:rgb(255,255,255)\"/><rect x=\"110\" y=\"0\" width=\"55\" height=\"55\" style=\"fill:#1a00e5;stroke-width:2;stroke:rgb(255,255,255)\"/><rect x=\"165\" y=\"0\" width=\"55\" height=\"55\" style=\"fill:#2800d7;stroke-width:2;stroke:rgb(255,255,255)\"/><rect x=\"220\" y=\"0\" width=\"55\" height=\"55\" style=\"fill:#3500ca;stroke-width:2;stroke:rgb(255,255,255)\"/><rect x=\"275\" y=\"0\" width=\"55\" height=\"55\" style=\"fill:#4300bc;stroke-width:2;stroke:rgb(255,255,255)\"/><rect x=\"330\" y=\"0\" width=\"55\" height=\"55\" style=\"fill:#5000af;stroke-width:2;stroke:rgb(255,255,255)\"/><rect x=\"385\" y=\"0\" width=\"55\" height=\"55\" style=\"fill:#5e00a1;stroke-width:2;stroke:rgb(255,255,255)\"/><rect x=\"440\" y=\"0\" width=\"55\" height=\"55\" style=\"fill:#6b0094;stroke-width:2;stroke:rgb(255,255,255)\"/><rect x=\"495\" y=\"0\" width=\"55\" height=\"55\" style=\"fill:#790086;stroke-width:2;stroke:rgb(255,255,255)\"/><rect x=\"550\" y=\"0\" width=\"55\" height=\"55\" style=\"fill:#860079;stroke-width:2;stroke:rgb(255,255,255)\"/><rect x=\"605\" y=\"0\" width=\"55\" height=\"55\" style=\"fill:#94006b;stroke-width:2;stroke:rgb(255,255,255)\"/><rect x=\"660\" y=\"0\" width=\"55\" height=\"55\" style=\"fill:#a1005e;stroke-width:2;stroke:rgb(255,255,255)\"/><rect x=\"715\" y=\"0\" width=\"55\" height=\"55\" style=\"fill:#af0050;stroke-width:2;stroke:rgb(255,255,255)\"/><rect x=\"770\" y=\"0\" width=\"55\" height=\"55\" style=\"fill:#bc0043;stroke-width:2;stroke:rgb(255,255,255)\"/><rect x=\"825\" y=\"0\" width=\"55\" height=\"55\" style=\"fill:#ca0035;stroke-width:2;stroke:rgb(255,255,255)\"/><rect x=\"880\" y=\"0\" width=\"55\" height=\"55\" style=\"fill:#d70028;stroke-width:2;stroke:rgb(255,255,255)\"/><rect x=\"935\" y=\"0\" width=\"55\" height=\"55\" style=\"fill:#e5001a;stroke-width:2;stroke:rgb(255,255,255)\"/><rect x=\"990\" y=\"0\" width=\"55\" height=\"55\" style=\"fill:#f2000d;stroke-width:2;stroke:rgb(255,255,255)\"/><rect x=\"1045\" y=\"0\" width=\"55\" height=\"55\" style=\"fill:#ff0000;stroke-width:2;stroke:rgb(255,255,255)\"/></svg>"
      ],
      "text/plain": [
       "[(0.0, 0.0, 1.0),\n",
       " (0.050980392156862744, 0.0, 0.9490196078431372),\n",
       " (0.10196078431372549, 0.0, 0.8980392156862745),\n",
       " (0.1568627450980392, 0.0, 0.8431372549019608),\n",
       " (0.20784313725490194, 0.0, 0.7921568627450981),\n",
       " (0.2627450980392157, 0.0, 0.7372549019607844),\n",
       " (0.3137254901960784, 0.0, 0.6862745098039216),\n",
       " (0.3686274509803922, 0.0, 0.6313725490196078),\n",
       " (0.4196078431372549, 0.0, 0.580392156862745),\n",
       " (0.4745098039215686, 0.0, 0.5254901960784314),\n",
       " (0.5254901960784314, 0.0, 0.4745098039215686),\n",
       " (0.580392156862745, 0.0, 0.41960784313725497),\n",
       " (0.6313725490196078, 0.0, 0.3686274509803922),\n",
       " (0.6862745098039216, 0.0, 0.3137254901960784),\n",
       " (0.7372549019607844, 0.0, 0.26274509803921564),\n",
       " (0.792156862745098, 0.0, 0.207843137254902),\n",
       " (0.8431372549019608, 0.0, 0.1568627450980392),\n",
       " (0.8980392156862745, 0.0, 0.10196078431372546),\n",
       " (0.9490196078431372, 0.0, 0.050980392156862786),\n",
       " (1.0, 0.0, 0.0)]"
      ]
     },
     "execution_count": 10,
     "metadata": {},
     "output_type": "execute_result"
    }
   ],
   "source": [
    "#Case 1:Create and use a blended palette\n",
    "\n",
    "#Start with blue, end with red, create a blend of the two in the middle of the color palette\n",
    "\n",
    "sns.blend_palette(['blue', 'red'], 20)"
   ]
  },
  {
   "cell_type": "code",
   "execution_count": 12,
   "metadata": {},
   "outputs": [
    {
     "data": {
      "text/html": [
       "<svg  width=\"1100\" height=\"55\"><rect x=\"0\" y=\"0\" width=\"55\" height=\"55\" style=\"fill:#0000ff;stroke-width:2;stroke:rgb(255,255,255)\"/><rect x=\"55\" y=\"0\" width=\"55\" height=\"55\" style=\"fill:#1a00e5;stroke-width:2;stroke:rgb(255,255,255)\"/><rect x=\"110\" y=\"0\" width=\"55\" height=\"55\" style=\"fill:#3400cb;stroke-width:2;stroke:rgb(255,255,255)\"/><rect x=\"165\" y=\"0\" width=\"55\" height=\"55\" style=\"fill:#5000af;stroke-width:2;stroke:rgb(255,255,255)\"/><rect x=\"220\" y=\"0\" width=\"55\" height=\"55\" style=\"fill:#6a0095;stroke-width:2;stroke:rgb(255,255,255)\"/><rect x=\"275\" y=\"0\" width=\"55\" height=\"55\" style=\"fill:#860079;stroke-width:2;stroke:rgb(255,255,255)\"/><rect x=\"330\" y=\"0\" width=\"55\" height=\"55\" style=\"fill:#a0005f;stroke-width:2;stroke:rgb(255,255,255)\"/><rect x=\"385\" y=\"0\" width=\"55\" height=\"55\" style=\"fill:#bc0043;stroke-width:2;stroke:rgb(255,255,255)\"/><rect x=\"440\" y=\"0\" width=\"55\" height=\"55\" style=\"fill:#d60029;stroke-width:2;stroke:rgb(255,255,255)\"/><rect x=\"495\" y=\"0\" width=\"55\" height=\"55\" style=\"fill:#f2000d;stroke-width:2;stroke:rgb(255,255,255)\"/><rect x=\"550\" y=\"0\" width=\"55\" height=\"55\" style=\"fill:#ff0d00;stroke-width:2;stroke:rgb(255,255,255)\"/><rect x=\"605\" y=\"0\" width=\"55\" height=\"55\" style=\"fill:#ff2900;stroke-width:2;stroke:rgb(255,255,255)\"/><rect x=\"660\" y=\"0\" width=\"55\" height=\"55\" style=\"fill:#ff4300;stroke-width:2;stroke:rgb(255,255,255)\"/><rect x=\"715\" y=\"0\" width=\"55\" height=\"55\" style=\"fill:#ff5f00;stroke-width:2;stroke:rgb(255,255,255)\"/><rect x=\"770\" y=\"0\" width=\"55\" height=\"55\" style=\"fill:#ff7900;stroke-width:2;stroke:rgb(255,255,255)\"/><rect x=\"825\" y=\"0\" width=\"55\" height=\"55\" style=\"fill:#ff9500;stroke-width:2;stroke:rgb(255,255,255)\"/><rect x=\"880\" y=\"0\" width=\"55\" height=\"55\" style=\"fill:#ffaf00;stroke-width:2;stroke:rgb(255,255,255)\"/><rect x=\"935\" y=\"0\" width=\"55\" height=\"55\" style=\"fill:#ffcb00;stroke-width:2;stroke:rgb(255,255,255)\"/><rect x=\"990\" y=\"0\" width=\"55\" height=\"55\" style=\"fill:#ffe500;stroke-width:2;stroke:rgb(255,255,255)\"/><rect x=\"1045\" y=\"0\" width=\"55\" height=\"55\" style=\"fill:#ffff00;stroke-width:2;stroke:rgb(255,255,255)\"/></svg>"
      ],
      "text/plain": [
       "[(0.0, 0.0, 1.0),\n",
       " (0.10196078431372549, 0.0, 0.8980392156862745),\n",
       " (0.20392156862745098, 0.0, 0.7960784313725491),\n",
       " (0.3137254901960784, 0.0, 0.6862745098039216),\n",
       " (0.4156862745098039, 0.0, 0.5843137254901961),\n",
       " (0.5254901960784314, 0.0, 0.4745098039215686),\n",
       " (0.6274509803921569, 0.0, 0.37254901960784315),\n",
       " (0.7372549019607844, 0.0, 0.26274509803921564),\n",
       " (0.8392156862745098, 0.0, 0.16078431372549018),\n",
       " (0.9490196078431372, 0.0, 0.050980392156862786),\n",
       " (1.0, 0.050980392156862744, 0.0),\n",
       " (1.0, 0.16078431372548999, 0.0),\n",
       " (1.0, 0.2627450980392157, 0.0),\n",
       " (1.0, 0.37254901960784315, 0.0),\n",
       " (1.0, 0.4745098039215686, 0.0),\n",
       " (1.0, 0.5843137254901961, 0.0),\n",
       " (1.0, 0.6862745098039216, 0.0),\n",
       " (1.0, 0.796078431372549, 0.0),\n",
       " (1.0, 0.8980392156862745, 0.0),\n",
       " (1.0, 1.0, 0.0)]"
      ]
     },
     "execution_count": 12,
     "metadata": {},
     "output_type": "execute_result"
    }
   ],
   "source": [
    "#Case 1:Create and use a blended palette\n",
    "\n",
    "#Start with blue, end with yellow, blend in the middle\n",
    "\n",
    "sns.blend_palette(['blue', 'red', 'yellow'], 20)"
   ]
  },
  {
   "cell_type": "code",
   "execution_count": null,
   "metadata": {},
   "outputs": [],
   "source": [
    "#Case 1:Create and use a blended palette\n",
    "\n",
    "#Start with blue, end with yellow, blend in the middle\n",
    "\n",
    "sns.blend_palette(['green', 'red', 'yellow'])"
   ]
  },
  {
   "cell_type": "code",
   "execution_count": null,
   "metadata": {},
   "outputs": [],
   "source": [
    "#Case 1:Create and use a blended palette\n",
    "\n",
    "#Start with blue, end with yellow, blend in the middle\n",
    "\n",
    "sns.blend_palette(['blue', 'orange', 'yellow'])"
   ]
  },
  {
   "cell_type": "code",
   "execution_count": null,
   "metadata": {},
   "outputs": [],
   "source": [
    "#Case 1:Create and use a blended palette\n",
    "\n",
    "#Start with blue, end with yellow, blend in the middle\n",
    "\n",
    "#Extend the number of colors in the list from default 6 to 10\n",
    "\n",
    "sns.blend_palette(['blue', 'red', 'yellow'], 10)"
   ]
  },
  {
   "cell_type": "code",
   "execution_count": 19,
   "metadata": {},
   "outputs": [
    {
     "data": {
      "text/plain": [
       "<AxesSubplot:xlabel='total_bill', ylabel='tip'>"
      ]
     },
     "execution_count": 19,
     "metadata": {},
     "output_type": "execute_result"
    },
    {
     "data": {
      "image/png": "[encoded data removed]",
      "text/plain": [
       "<Figure size 432x288 with 1 Axes>"
      ]
     },
     "metadata": {},
     "output_type": "display_data"
    }
   ],
   "source": [
    "#You can use your blended palette for your charts when you condition on a categorical variable - just make sure\n",
    "# that the number of colors in your palette equals the number of levels/gropus for the categorical variable\n",
    "\n",
    "#In the case below, the categorical variable 'day' has 4 groups\n",
    "#Thursday, Friday, Saturday, Sunday. So we need 4 colors in our palette\n",
    "\n",
    "sns.scatterplot(data=tips,x='total_bill',\n",
    "               y='tip',               \n",
    "               hue='day',\n",
    "               palette=sns.blend_palette(['blue', 'red'],4))"
   ]
  },
  {
   "cell_type": "code",
   "execution_count": 20,
   "metadata": {},
   "outputs": [
    {
     "data": {
      "text/plain": [
       "<AxesSubplot:xlabel='total_bill', ylabel='tip'>"
      ]
     },
     "execution_count": 20,
     "metadata": {},
     "output_type": "execute_result"
    },
    {
     "data": {
      "image/png": "[encoded data removed]",
      "text/plain": [
       "<Figure size 432x288 with 1 Axes>"
      ]
     },
     "metadata": {},
     "output_type": "display_data"
    }
   ],
   "source": [
    "#You can use your blended palette for your charts when you condition on a categorical variable - just make sure\n",
    "# that the number of colors in your palette equals the number of levels/gropus for the categorical variable\n",
    "\n",
    "#In the case below, the categorical variable 'day' has 4 groups\n",
    "#Thursday, Friday, Saturday, Sunday. So we need 4 colors in our palette\n",
    "\n",
    "sns.scatterplot(data=tips,x='total_bill',\n",
    "               y='tip',               \n",
    "               hue='day',\n",
    "               palette=sns.blend_palette(['blue', 'green', 'red'],4))"
   ]
  },
  {
   "cell_type": "code",
   "execution_count": null,
   "metadata": {},
   "outputs": [],
   "source": [
    "#You can use your blended palette for your charts when you condition on a categorical variable - just make sure\n",
    "# that the number of colors in your palette equals the number of levels/gropus for the categorical variable\n",
    "\n",
    "#In the case below, the categorical variable 'day' has 4 groups\n",
    "#Thursday, Friday, Saturday, Sunday. So we need 4 colors in our palette\n",
    "\n",
    "sns.scatterplot(data=tips,x='total_bill',\n",
    "               y='tip',               \n",
    "               hue='day',\n",
    "               palette=sns.blend_palette(['gray','black', 'red'],4))"
   ]
  },
  {
   "cell_type": "code",
   "execution_count": null,
   "metadata": {},
   "outputs": [],
   "source": [
    "#We see that 4 colors are mapped to the 4 groups in the categorical variable"
   ]
  },
  {
   "cell_type": "code",
   "execution_count": 21,
   "metadata": {},
   "outputs": [],
   "source": [
    "#Case 2: Create and use a highlighting palette - to highlight a category\n",
    "\n",
    "palette_dict = {x:'gray' for x in tips.day.unique()}"
   ]
  },
  {
   "cell_type": "code",
   "execution_count": 22,
   "metadata": {},
   "outputs": [
    {
     "data": {
      "text/plain": [
       "{'Sun': 'gray', 'Sat': 'gray', 'Thur': 'gray', 'Fri': 'gray'}"
      ]
     },
     "execution_count": 22,
     "metadata": {},
     "output_type": "execute_result"
    }
   ],
   "source": [
    "palette_dict"
   ]
  },
  {
   "cell_type": "code",
   "execution_count": 23,
   "metadata": {},
   "outputs": [],
   "source": [
    "#Change the color for 'Sat' to 'crimson' - to hightlight it in a chart\n",
    "\n",
    "palette_dict['Sat'] = 'crimson'"
   ]
  },
  {
   "cell_type": "code",
   "execution_count": 24,
   "metadata": {},
   "outputs": [
    {
     "data": {
      "text/plain": [
       "{'Sun': 'gray', 'Sat': 'crimson', 'Thur': 'gray', 'Fri': 'gray'}"
      ]
     },
     "execution_count": 24,
     "metadata": {},
     "output_type": "execute_result"
    }
   ],
   "source": [
    "palette_dict"
   ]
  },
  {
   "cell_type": "code",
   "execution_count": 25,
   "metadata": {},
   "outputs": [
    {
     "data": {
      "text/plain": [
       "<AxesSubplot:xlabel='total_bill', ylabel='tip'>"
      ]
     },
     "execution_count": 25,
     "metadata": {},
     "output_type": "execute_result"
    },
    {
     "data": {
      "image/png": "[encoded data removed]",
      "text/plain": [
       "<Figure size 432x288 with 1 Axes>"
      ]
     },
     "metadata": {},
     "output_type": "display_data"
    }
   ],
   "source": [
    "#Use palette_dict in scatterplot chart\n",
    "\n",
    "sns.scatterplot(x='total_bill', y='tip', data=tips, hue='day', palette=palette_dict)"
   ]
  },
  {
   "cell_type": "code",
   "execution_count": null,
   "metadata": {},
   "outputs": [],
   "source": [
    "#Notice everything else is gray - except the observations for Sat, which have now been highlighted with crimson"
   ]
  },
  {
   "cell_type": "code",
   "execution_count": 26,
   "metadata": {},
   "outputs": [
    {
     "data": {
      "text/plain": [
       "<seaborn.axisgrid.FacetGrid at 0x1a0c763c280>"
      ]
     },
     "execution_count": 26,
     "metadata": {},
     "output_type": "execute_result"
    },
    {
     "data": {
      "image/png": "[encoded data removed]",
      "text/plain": [
       "<Figure size 1496.62x360 with 4 Axes>"
      ]
     },
     "metadata": {},
     "output_type": "display_data"
    }
   ],
   "source": [
    "sns.displot(x='tip', data=tips, hue='day', col='day', palette=palette_dict)"
   ]
  },
  {
   "cell_type": "markdown",
   "metadata": {},
   "source": [
    "# Day 3 - 12/2/2022"
   ]
  },
  {
   "cell_type": "code",
   "execution_count": 27,
   "metadata": {},
   "outputs": [
    {
     "data": {
      "text/html": [
       "<div>\n",
       "<style scoped>\n",
       "    .dataframe tbody tr th:only-of-type {\n",
       "        vertical-align: middle;\n",
       "    }\n",
       "\n",
       "    .dataframe tbody tr th {\n",
       "        vertical-align: top;\n",
       "    }\n",
       "\n",
       "    .dataframe thead th {\n",
       "        text-align: right;\n",
       "    }\n",
       "</style>\n",
       "<table border=\"1\" class=\"dataframe\">\n",
       "  <thead>\n",
       "    <tr style=\"text-align: right;\">\n",
       "      <th></th>\n",
       "      <th>wage</th>\n",
       "      <th>education</th>\n",
       "      <th>experience</th>\n",
       "      <th>age</th>\n",
       "      <th>ethnicity</th>\n",
       "      <th>region</th>\n",
       "      <th>gender</th>\n",
       "      <th>occupation</th>\n",
       "      <th>sector</th>\n",
       "      <th>union</th>\n",
       "      <th>married</th>\n",
       "    </tr>\n",
       "  </thead>\n",
       "  <tbody>\n",
       "    <tr>\n",
       "      <th>1</th>\n",
       "      <td>5.10</td>\n",
       "      <td>8</td>\n",
       "      <td>21</td>\n",
       "      <td>35</td>\n",
       "      <td>hispanic</td>\n",
       "      <td>other</td>\n",
       "      <td>female</td>\n",
       "      <td>worker</td>\n",
       "      <td>manufacturing</td>\n",
       "      <td>no</td>\n",
       "      <td>yes</td>\n",
       "    </tr>\n",
       "    <tr>\n",
       "      <th>1100</th>\n",
       "      <td>4.95</td>\n",
       "      <td>9</td>\n",
       "      <td>42</td>\n",
       "      <td>57</td>\n",
       "      <td>cauc</td>\n",
       "      <td>other</td>\n",
       "      <td>female</td>\n",
       "      <td>worker</td>\n",
       "      <td>manufacturing</td>\n",
       "      <td>no</td>\n",
       "      <td>yes</td>\n",
       "    </tr>\n",
       "    <tr>\n",
       "      <th>2</th>\n",
       "      <td>6.67</td>\n",
       "      <td>12</td>\n",
       "      <td>1</td>\n",
       "      <td>19</td>\n",
       "      <td>cauc</td>\n",
       "      <td>other</td>\n",
       "      <td>male</td>\n",
       "      <td>worker</td>\n",
       "      <td>manufacturing</td>\n",
       "      <td>no</td>\n",
       "      <td>no</td>\n",
       "    </tr>\n",
       "    <tr>\n",
       "      <th>3</th>\n",
       "      <td>4.00</td>\n",
       "      <td>12</td>\n",
       "      <td>4</td>\n",
       "      <td>22</td>\n",
       "      <td>cauc</td>\n",
       "      <td>other</td>\n",
       "      <td>male</td>\n",
       "      <td>worker</td>\n",
       "      <td>other</td>\n",
       "      <td>no</td>\n",
       "      <td>no</td>\n",
       "    </tr>\n",
       "    <tr>\n",
       "      <th>4</th>\n",
       "      <td>7.50</td>\n",
       "      <td>12</td>\n",
       "      <td>17</td>\n",
       "      <td>35</td>\n",
       "      <td>cauc</td>\n",
       "      <td>other</td>\n",
       "      <td>male</td>\n",
       "      <td>worker</td>\n",
       "      <td>other</td>\n",
       "      <td>no</td>\n",
       "      <td>yes</td>\n",
       "    </tr>\n",
       "  </tbody>\n",
       "</table>\n",
       "</div>"
      ],
      "text/plain": [
       "      wage  education  experience  age ethnicity region  gender occupation  \\\n",
       "1     5.10          8          21   35  hispanic  other  female     worker   \n",
       "1100  4.95          9          42   57      cauc  other  female     worker   \n",
       "2     6.67         12           1   19      cauc  other    male     worker   \n",
       "3     4.00         12           4   22      cauc  other    male     worker   \n",
       "4     7.50         12          17   35      cauc  other    male     worker   \n",
       "\n",
       "             sector union married  \n",
       "1     manufacturing    no     yes  \n",
       "1100  manufacturing    no     yes  \n",
       "2     manufacturing    no      no  \n",
       "3             other    no      no  \n",
       "4             other    no     yes  "
      ]
     },
     "execution_count": 27,
     "metadata": {},
     "output_type": "execute_result"
    }
   ],
   "source": [
    "import pandas as pd\n",
    "import seaborn as sns\n",
    "import numpy as np\n",
    "from matplotlib import pyplot as plt\n",
    "import matplotlib\n",
    "Wage_data = pd.read_csv(\"https://vincentarelbundock.github.io/Rdatasets/csv/AER/CPS1985.csv\", index_col=0).dropna()\n",
    "Wage_data.head()"
   ]
  },
  {
   "cell_type": "code",
   "execution_count": 30,
   "metadata": {},
   "outputs": [
    {
     "data": {
      "text/plain": [
       "<seaborn.axisgrid.JointGrid at 0x1a0c8d8ce80>"
      ]
     },
     "execution_count": 30,
     "metadata": {},
     "output_type": "execute_result"
    },
    {
     "data": {
      "image/png": "[encoded data removed]",
      "text/plain": [
       "<Figure size 432x432 with 3 Axes>"
      ]
     },
     "metadata": {},
     "output_type": "display_data"
    }
   ],
   "source": [
    "#Plot a jointplot for the wage-education relationship\n",
    "\n",
    "g=sns.JointGrid(data=Wage_data, x='education', y='wage')\n",
    "g.plot_joint(sns.regplot)\n",
    "g.plot_marginals(sns.kdeplot, fill=True)"
   ]
  },
  {
   "cell_type": "code",
   "execution_count": 31,
   "metadata": {},
   "outputs": [
    {
     "data": {
      "text/plain": [
       "<AxesSubplot:xlabel='education', ylabel='wage'>"
      ]
     },
     "execution_count": 31,
     "metadata": {},
     "output_type": "execute_result"
    },
    {
     "data": {
      "image/png": "[encoded data removed]",
      "text/plain": [
       "<Figure size 432x288 with 1 Axes>"
      ]
     },
     "metadata": {},
     "output_type": "display_data"
    }
   ],
   "source": [
    "#You can use a blended palette for your charts when you condition on a categorical variable - just make sure\n",
    "# that the number of colors in your palette equals the number of levels/gropus for the categorical variable\n",
    "\n",
    "#In the case below, the categorical variable 'ethnicity' has 3 groups (hispanic, cauc, other).\n",
    "#So we need 3 colors in our palette\n",
    "\n",
    "sns.scatterplot(data=Wage_data,x='education',\n",
    "               y='wage',               \n",
    "               hue='ethnicity',\n",
    "               palette=sns.blend_palette(['blue', 'red'],3))"
   ]
  },
  {
   "cell_type": "code",
   "execution_count": 32,
   "metadata": {},
   "outputs": [
    {
     "data": {
      "text/plain": [
       "<AxesSubplot:xlabel='education', ylabel='wage'>"
      ]
     },
     "execution_count": 32,
     "metadata": {},
     "output_type": "execute_result"
    },
    {
     "data": {
      "image/png": "[encoded data removed]",
      "text/plain": [
       "<Figure size 432x288 with 1 Axes>"
      ]
     },
     "metadata": {},
     "output_type": "display_data"
    }
   ],
   "source": [
    "#You can use a blended palette for your charts when you condition on a categorical variable - just make sure\n",
    "# that the number of colors in your palette equals the number of levels/gropus for the categorical variable\n",
    "\n",
    "#In the case below, the categorical variable 'ethnicity' has 3 groups (hispanic, cauc, other).\n",
    "#So we need 3 colors in our palette\n",
    "\n",
    "sns.scatterplot(data=Wage_data,x='education',\n",
    "               y='wage',               \n",
    "               hue='ethnicity',\n",
    "               palette=sns.blend_palette(['blue', 'yellow'],3))"
   ]
  },
  {
   "cell_type": "code",
   "execution_count": 33,
   "metadata": {},
   "outputs": [
    {
     "data": {
      "text/plain": [
       "<AxesSubplot:xlabel='education', ylabel='wage'>"
      ]
     },
     "execution_count": 33,
     "metadata": {},
     "output_type": "execute_result"
    },
    {
     "data": {
      "image/png": "[encoded data removed]",
      "text/plain": [
       "<Figure size 432x288 with 1 Axes>"
      ]
     },
     "metadata": {},
     "output_type": "display_data"
    }
   ],
   "source": [
    "#You can use a blended palette for your charts when you condition on a categorical variable - just make sure\n",
    "# that the number of colors in your palette equals the number of levels/gropus for the categorical variable\n",
    "\n",
    "#In the case below, the categorical variable 'ethnicity' has 3 groups (hispanic, cauc, other).\n",
    "#So we need 3 colors in our palette\n",
    "\n",
    "sns.scatterplot(data=Wage_data,x='education',\n",
    "               y='wage',               \n",
    "               hue='ethnicity',\n",
    "               palette=sns.blend_palette(['green', 'purple'],3))"
   ]
  },
  {
   "cell_type": "code",
   "execution_count": 34,
   "metadata": {},
   "outputs": [
    {
     "data": {
      "text/plain": [
       "<seaborn.axisgrid.JointGrid at 0x1a0ca668250>"
      ]
     },
     "execution_count": 34,
     "metadata": {},
     "output_type": "execute_result"
    },
    {
     "data": {
      "image/png": "[encoded data removed]",
      "text/plain": [
       "<Figure size 432x432 with 3 Axes>"
      ]
     },
     "metadata": {},
     "output_type": "display_data"
    }
   ],
   "source": [
    "#Plot a jointplot for the wage-education relationship\n",
    "\n",
    "#Put histograms in the marginal sections of the plot\n",
    "\n",
    "g=sns.JointGrid(data=Wage_data, x='education', y='wage')\n",
    "g.plot_joint(sns.regplot)\n",
    "g.plot_marginals(sns.histplot, fill=False)#False is the default"
   ]
  },
  {
   "cell_type": "code",
   "execution_count": null,
   "metadata": {},
   "outputs": [],
   "source": []
  },
  {
   "cell_type": "code",
   "execution_count": 35,
   "metadata": {},
   "outputs": [
    {
     "data": {
      "text/plain": [
       "<AxesSubplot:xlabel='experience', ylabel='wage'>"
      ]
     },
     "execution_count": 35,
     "metadata": {},
     "output_type": "execute_result"
    },
    {
     "data": {
      "image/png": "[encoded data removed]",
      "text/plain": [
       "<Figure size 432x288 with 1 Axes>"
      ]
     },
     "metadata": {},
     "output_type": "display_data"
    }
   ],
   "source": [
    "#You can use your blended palette for your charts when you condition on a categorical variable - just make sure\n",
    "# that the number of colors in your palette equals the number of levels/gropus for the categorical variable\n",
    "\n",
    "#In the case below, the categorical variable 'region' has 2 groups\n",
    "#other, south. So we need 2 colors in our palette\n",
    "\n",
    "sns.scatterplot(data=Wage_data,x='experience',\n",
    "               y='wage',               \n",
    "               hue='region',\n",
    "               palette=sns.blend_palette(['blue', 'red'],2))"
   ]
  },
  {
   "cell_type": "code",
   "execution_count": 36,
   "metadata": {},
   "outputs": [
    {
     "data": {
      "text/plain": [
       "<AxesSubplot:xlabel='age', ylabel='wage'>"
      ]
     },
     "execution_count": 36,
     "metadata": {},
     "output_type": "execute_result"
    },
    {
     "data": {
      "image/png": "[encoded data removed]",
      "text/plain": [
       "<Figure size 432x288 with 1 Axes>"
      ]
     },
     "metadata": {},
     "output_type": "display_data"
    }
   ],
   "source": [
    "#You can use your blended palette for your charts when you condition on a categorical variable - just make sure\n",
    "# that the number of colors in your palette equals the number of levels/gropus for the categorical variable\n",
    "\n",
    "#In the case below, the categorical variable 'region' has 2 groups\n",
    "#Thursday, Friday, Saturday, Sunday. So we need 2 colors in our palette\n",
    "\n",
    "sns.scatterplot(data=Wage_data,x='age',\n",
    "               y='wage',               \n",
    "               hue='region',\n",
    "               palette=sns.blend_palette(['blue', 'red'],2))"
   ]
  },
  {
   "cell_type": "code",
   "execution_count": 37,
   "metadata": {},
   "outputs": [],
   "source": [
    "#Create and use a highlighting palette - to highlight a category\n",
    "\n",
    "palette_dict2 = {x:'gray' for x in Wage_data.region.unique()}"
   ]
  },
  {
   "cell_type": "code",
   "execution_count": 38,
   "metadata": {},
   "outputs": [
    {
     "data": {
      "text/plain": [
       "{'other': 'gray', 'south': 'gray'}"
      ]
     },
     "execution_count": 38,
     "metadata": {},
     "output_type": "execute_result"
    }
   ],
   "source": [
    "palette_dict2"
   ]
  },
  {
   "cell_type": "code",
   "execution_count": 39,
   "metadata": {},
   "outputs": [],
   "source": [
    "#Change the color for 'South' to 'green' - to hightlight it in a chart\n",
    "\n",
    "palette_dict2['south'] = 'blue'"
   ]
  },
  {
   "cell_type": "code",
   "execution_count": 40,
   "metadata": {},
   "outputs": [
    {
     "data": {
      "text/plain": [
       "{'other': 'gray', 'south': 'blue'}"
      ]
     },
     "execution_count": 40,
     "metadata": {},
     "output_type": "execute_result"
    }
   ],
   "source": [
    "palette_dict2"
   ]
  },
  {
   "cell_type": "code",
   "execution_count": 41,
   "metadata": {},
   "outputs": [
    {
     "data": {
      "text/plain": [
       "<seaborn.axisgrid.FacetGrid at 0x1a0ca94bf40>"
      ]
     },
     "execution_count": 41,
     "metadata": {},
     "output_type": "execute_result"
    },
    {
     "data": {
      "image/png": "[encoded data removed]",
      "text/plain": [
       "<Figure size 780.75x360 with 2 Axes>"
      ]
     },
     "metadata": {},
     "output_type": "display_data"
    }
   ],
   "source": [
    "sns.displot(x='wage', data=Wage_data, hue='region', col='region', palette=palette_dict2)"
   ]
  },
  {
   "cell_type": "code",
   "execution_count": 42,
   "metadata": {},
   "outputs": [],
   "source": [
    "#Step 1: Create and use a highlighting palette - to highlight a category\n",
    "\n",
    "palette_dict3 = {x:'gray' for x in Wage_data.gender.unique()}"
   ]
  },
  {
   "cell_type": "code",
   "execution_count": 43,
   "metadata": {},
   "outputs": [
    {
     "data": {
      "text/plain": [
       "{'female': 'gray', 'male': 'gray'}"
      ]
     },
     "execution_count": 43,
     "metadata": {},
     "output_type": "execute_result"
    }
   ],
   "source": [
    "#View the highlighting palette you created\n",
    "\n",
    "palette_dict3"
   ]
  },
  {
   "cell_type": "code",
   "execution_count": 44,
   "metadata": {},
   "outputs": [],
   "source": [
    "#Step 2: Change the color for 'male' value of gender feature to 'yellow' - to hightlight it in a histogram\n",
    "\n",
    "palette_dict3['male'] = 'yellow'"
   ]
  },
  {
   "cell_type": "code",
   "execution_count": 45,
   "metadata": {},
   "outputs": [
    {
     "data": {
      "text/plain": [
       "{'female': 'gray', 'male': 'yellow'}"
      ]
     },
     "execution_count": 45,
     "metadata": {},
     "output_type": "execute_result"
    }
   ],
   "source": [
    "#View color for the updated feature\n",
    "\n",
    "palette_dict3"
   ]
  },
  {
   "cell_type": "code",
   "execution_count": 46,
   "metadata": {},
   "outputs": [
    {
     "data": {
      "text/plain": [
       "<seaborn.axisgrid.FacetGrid at 0x1a0ca7cd0d0>"
      ]
     },
     "execution_count": 46,
     "metadata": {},
     "output_type": "execute_result"
    },
    {
     "data": {
      "image/png": "[encoded data removed]",
      "text/plain": [
       "<Figure size 786.125x360 with 2 Axes>"
      ]
     },
     "metadata": {},
     "output_type": "display_data"
    }
   ],
   "source": [
    "#Step 3: Plot histogram for age and apply palette_dict3 to the gender feature\n",
    "\n",
    "sns.displot(x='age', data=Wage_data, hue='gender', col='gender', palette=palette_dict3)"
   ]
  },
  {
   "cell_type": "code",
   "execution_count": 47,
   "metadata": {},
   "outputs": [
    {
     "data": {
      "text/plain": [
       "<seaborn.axisgrid.FacetGrid at 0x1a0ca5c98b0>"
      ]
     },
     "execution_count": 47,
     "metadata": {},
     "output_type": "execute_result"
    },
    {
     "data": {
      "image/png": "[encoded data removed]",
      "text/plain": [
       "<Figure size 426.125x720 with 2 Axes>"
      ]
     },
     "metadata": {},
     "output_type": "display_data"
    }
   ],
   "source": [
    "#Step 3: Plot histogram for age and apply palette_dict3 to the gender feature\n",
    "\n",
    "#Display the chart in one column - use the row argument rather than the col argument\n",
    "\n",
    "sns.displot(x='age', data=Wage_data, hue='gender', row='gender', palette=palette_dict3)"
   ]
  },
  {
   "cell_type": "code",
   "execution_count": 48,
   "metadata": {},
   "outputs": [
    {
     "data": {
      "text/plain": [
       "<seaborn.axisgrid.FacetGrid at 0x1a0cabef3a0>"
      ]
     },
     "execution_count": 48,
     "metadata": {},
     "output_type": "execute_result"
    },
    {
     "data": {
      "image/png": "[encoded data removed]",
      "text/plain": [
       "<Figure size 786.125x360 with 2 Axes>"
      ]
     },
     "metadata": {},
     "output_type": "display_data"
    }
   ],
   "source": [
    "#Step 3: Plot histogram for experience and apply palette_dict3 to the gender feature\n",
    "\n",
    "sns.displot(x='experience', data=Wage_data, hue='gender', col='gender', palette=palette_dict3)"
   ]
  },
  {
   "cell_type": "code",
   "execution_count": 49,
   "metadata": {},
   "outputs": [
    {
     "data": {
      "text/plain": [
       "<seaborn.axisgrid.FacetGrid at 0x1a0cae04310>"
      ]
     },
     "execution_count": 49,
     "metadata": {},
     "output_type": "execute_result"
    },
    {
     "data": {
      "image/png": "[encoded data removed]",
      "text/plain": [
       "<Figure size 786.125x360 with 2 Axes>"
      ]
     },
     "metadata": {},
     "output_type": "display_data"
    }
   ],
   "source": [
    "#Step 3: Plot histogram for education and apply palette_dict3 to the gender feature\n",
    "\n",
    "sns.displot(x='education', data=Wage_data, hue='gender', col='gender', palette=palette_dict3)"
   ]
  },
  {
   "cell_type": "code",
   "execution_count": 50,
   "metadata": {},
   "outputs": [],
   "source": [
    "#Step 1: Create and use a highlighting palette - to highlight a category\n",
    "\n",
    "#occupation has 6 levels\n",
    "\n",
    "palette_dict7 = {x:'gray' for x in Wage_data.occupation.unique()}"
   ]
  },
  {
   "cell_type": "code",
   "execution_count": 51,
   "metadata": {},
   "outputs": [
    {
     "data": {
      "text/plain": [
       "{'worker': 'gray',\n",
       " 'management': 'gray',\n",
       " 'sales': 'gray',\n",
       " 'office': 'gray',\n",
       " 'services': 'gray',\n",
       " 'technical': 'gray'}"
      ]
     },
     "execution_count": 51,
     "metadata": {},
     "output_type": "execute_result"
    }
   ],
   "source": [
    "palette_dict7"
   ]
  },
  {
   "cell_type": "code",
   "execution_count": 52,
   "metadata": {},
   "outputs": [],
   "source": [
    "#Step 2: Change the color for 'management' value of occupation feature \n",
    "# to 'crimson' - to hightlight it later in a histogram\n",
    "\n",
    "palette_dict7['management'] = 'crimson'"
   ]
  },
  {
   "cell_type": "code",
   "execution_count": 53,
   "metadata": {},
   "outputs": [
    {
     "data": {
      "text/plain": [
       "<seaborn.axisgrid.FacetGrid at 0x1a0ca96fc10>"
      ]
     },
     "execution_count": 53,
     "metadata": {},
     "output_type": "execute_result"
    },
    {
     "data": {
      "image/png": "[encoded data removed]",
      "text/plain": [
       "<Figure size 2254.75x360 with 6 Axes>"
      ]
     },
     "metadata": {},
     "output_type": "display_data"
    }
   ],
   "source": [
    "#Step 3: Plot histogram for age and apply palette_dict3 to the gender feature\n",
    "\n",
    "sns.displot(x='age', data=Wage_data, hue='occupation', col='occupation', palette=palette_dict7)"
   ]
  },
  {
   "cell_type": "code",
   "execution_count": null,
   "metadata": {},
   "outputs": [],
   "source": [
    "#The chart above shows clearly that the age of management is among the lowest of all the occupations in the dataset\n",
    "\n",
    "#This is one value a highlighting palette can bring to your visualizations."
   ]
  },
  {
   "cell_type": "code",
   "execution_count": null,
   "metadata": {},
   "outputs": [],
   "source": []
  },
  {
   "cell_type": "code",
   "execution_count": 54,
   "metadata": {},
   "outputs": [
    {
     "data": {
      "text/html": [
       "<div>\n",
       "<style scoped>\n",
       "    .dataframe tbody tr th:only-of-type {\n",
       "        vertical-align: middle;\n",
       "    }\n",
       "\n",
       "    .dataframe tbody tr th {\n",
       "        vertical-align: top;\n",
       "    }\n",
       "\n",
       "    .dataframe thead th {\n",
       "        text-align: right;\n",
       "    }\n",
       "</style>\n",
       "<table border=\"1\" class=\"dataframe\">\n",
       "  <thead>\n",
       "    <tr style=\"text-align: right;\">\n",
       "      <th></th>\n",
       "      <th>price</th>\n",
       "      <th>lotsize</th>\n",
       "      <th>bedrooms</th>\n",
       "      <th>bathrooms</th>\n",
       "      <th>stories</th>\n",
       "      <th>driveway</th>\n",
       "      <th>recreation</th>\n",
       "      <th>fullbase</th>\n",
       "      <th>gasheat</th>\n",
       "      <th>aircon</th>\n",
       "      <th>garage</th>\n",
       "      <th>prefer</th>\n",
       "    </tr>\n",
       "  </thead>\n",
       "  <tbody>\n",
       "    <tr>\n",
       "      <th>1</th>\n",
       "      <td>42000.0</td>\n",
       "      <td>5850</td>\n",
       "      <td>3</td>\n",
       "      <td>1</td>\n",
       "      <td>2</td>\n",
       "      <td>yes</td>\n",
       "      <td>no</td>\n",
       "      <td>yes</td>\n",
       "      <td>no</td>\n",
       "      <td>no</td>\n",
       "      <td>1</td>\n",
       "      <td>no</td>\n",
       "    </tr>\n",
       "    <tr>\n",
       "      <th>2</th>\n",
       "      <td>38500.0</td>\n",
       "      <td>4000</td>\n",
       "      <td>2</td>\n",
       "      <td>1</td>\n",
       "      <td>1</td>\n",
       "      <td>yes</td>\n",
       "      <td>no</td>\n",
       "      <td>no</td>\n",
       "      <td>no</td>\n",
       "      <td>no</td>\n",
       "      <td>0</td>\n",
       "      <td>no</td>\n",
       "    </tr>\n",
       "    <tr>\n",
       "      <th>3</th>\n",
       "      <td>49500.0</td>\n",
       "      <td>3060</td>\n",
       "      <td>3</td>\n",
       "      <td>1</td>\n",
       "      <td>1</td>\n",
       "      <td>yes</td>\n",
       "      <td>no</td>\n",
       "      <td>no</td>\n",
       "      <td>no</td>\n",
       "      <td>no</td>\n",
       "      <td>0</td>\n",
       "      <td>no</td>\n",
       "    </tr>\n",
       "    <tr>\n",
       "      <th>4</th>\n",
       "      <td>60500.0</td>\n",
       "      <td>6650</td>\n",
       "      <td>3</td>\n",
       "      <td>1</td>\n",
       "      <td>2</td>\n",
       "      <td>yes</td>\n",
       "      <td>yes</td>\n",
       "      <td>no</td>\n",
       "      <td>no</td>\n",
       "      <td>no</td>\n",
       "      <td>0</td>\n",
       "      <td>no</td>\n",
       "    </tr>\n",
       "    <tr>\n",
       "      <th>5</th>\n",
       "      <td>61000.0</td>\n",
       "      <td>6360</td>\n",
       "      <td>2</td>\n",
       "      <td>1</td>\n",
       "      <td>1</td>\n",
       "      <td>yes</td>\n",
       "      <td>no</td>\n",
       "      <td>no</td>\n",
       "      <td>no</td>\n",
       "      <td>no</td>\n",
       "      <td>0</td>\n",
       "      <td>no</td>\n",
       "    </tr>\n",
       "  </tbody>\n",
       "</table>\n",
       "</div>"
      ],
      "text/plain": [
       "     price  lotsize  bedrooms  bathrooms  stories driveway recreation  \\\n",
       "1  42000.0     5850         3          1        2      yes         no   \n",
       "2  38500.0     4000         2          1        1      yes         no   \n",
       "3  49500.0     3060         3          1        1      yes         no   \n",
       "4  60500.0     6650         3          1        2      yes        yes   \n",
       "5  61000.0     6360         2          1        1      yes         no   \n",
       "\n",
       "  fullbase gasheat aircon  garage prefer  \n",
       "1      yes      no     no       1     no  \n",
       "2       no      no     no       0     no  \n",
       "3       no      no     no       0     no  \n",
       "4       no      no     no       0     no  \n",
       "5       no      no     no       0     no  "
      ]
     },
     "execution_count": 54,
     "metadata": {},
     "output_type": "execute_result"
    }
   ],
   "source": [
    "#Lets work with another dataset\n",
    "\n",
    "\n",
    "import pandas as pd\n",
    "import seaborn as sns\n",
    "import numpy as np\n",
    "from matplotlib import pyplot as plt\n",
    "import matplotlib\n",
    "Mortgage_data = pd.read_csv(\"https://vincentarelbundock.github.io/Rdatasets/csv/AER/HousePrices.csv\", index_col=0).dropna()\n",
    "Mortgage_data.head()"
   ]
  },
  {
   "cell_type": "code",
   "execution_count": null,
   "metadata": {},
   "outputs": [],
   "source": [
    "#Variable definitions\n",
    "\n",
    "Format\n",
    "A data frame containing 546 observations on 12 variables.\n",
    "\n",
    "price\n",
    "Sale price of a house.\n",
    "\n",
    "lotsize\n",
    "Lot size of a property in square feet.\n",
    "\n",
    "bedrooms\n",
    "Number of bedrooms.\n",
    "\n",
    "bathrooms\n",
    "Number of full bathrooms.\n",
    "\n",
    "stories\n",
    "Number of stories excluding basement.\n",
    "\n",
    "driveway\n",
    "Factor. Does the house have a driveway?\n",
    "\n",
    "recreation\n",
    "Factor. Does the house have a recreational room?\n",
    "\n",
    "fullbase\n",
    "Factor. Does the house have a full finished basement?\n",
    "\n",
    "gasheat\n",
    "Factor. Does the house use gas for hot water heating?\n",
    "\n",
    "aircon\n",
    "Factor. Is there central air conditioning?\n",
    "\n",
    "garage\n",
    "Number of garage places.\n",
    "\n",
    "prefer\n",
    "Factor. Is the house located in the preferred neighborhood of the city?"
   ]
  },
  {
   "cell_type": "code",
   "execution_count": 55,
   "metadata": {},
   "outputs": [
    {
     "data": {
      "text/plain": [
       "<seaborn.axisgrid.JointGrid at 0x1a0cc9b48b0>"
      ]
     },
     "execution_count": 55,
     "metadata": {},
     "output_type": "execute_result"
    },
    {
     "data": {
      "image/png": "[encoded data removed]",
      "text/plain": [
       "<Figure size 432x432 with 3 Axes>"
      ]
     },
     "metadata": {},
     "output_type": "display_data"
    }
   ],
   "source": [
    "#Task 1: \n",
    "\n",
    "#Plot a jointplot for the price-lotsize relationship\n",
    "\n",
    "g=sns.JointGrid(data=Mortgage_data, x='lotsize', y='price')\n",
    "g.plot_joint(sns.regplot)\n",
    "g.plot_marginals(sns.kdeplot, fill=True)"
   ]
  },
  {
   "cell_type": "code",
   "execution_count": 56,
   "metadata": {},
   "outputs": [
    {
     "data": {
      "text/plain": [
       "<AxesSubplot:xlabel='lotsize', ylabel='price'>"
      ]
     },
     "execution_count": 56,
     "metadata": {},
     "output_type": "execute_result"
    },
    {
     "data": {
      "image/png": "[encoded data removed]",
      "text/plain": [
       "<Figure size 432x288 with 1 Axes>"
      ]
     },
     "metadata": {},
     "output_type": "display_data"
    }
   ],
   "source": [
    "#Task 2:\n",
    "\n",
    "#Create and use a blended palette for a scatterplot on the price-lotsize relationship and condition on a categorical variable - just make sure\n",
    "# that the number of colors in your palette equals the number of levels/gropus for the categorical variable\n",
    "\n",
    "#In the case below, the categorical variable 'driveway' has 2 groups\n",
    "#other, south. So we need 2 colors in our palette\n",
    "\n",
    "sns.scatterplot(data=Mortgage_data,x='lotsize',\n",
    "               y='price',               \n",
    "               hue='driveway',\n",
    "               palette=sns.blend_palette(['blue', 'red'],2))"
   ]
  },
  {
   "cell_type": "code",
   "execution_count": 57,
   "metadata": {},
   "outputs": [
    {
     "data": {
      "text/plain": [
       "<AxesSubplot:xlabel='lotsize', ylabel='price'>"
      ]
     },
     "execution_count": 57,
     "metadata": {},
     "output_type": "execute_result"
    },
    {
     "data": {
      "image/png": "[encoded data removed]",
      "text/plain": [
       "<Figure size 432x288 with 1 Axes>"
      ]
     },
     "metadata": {},
     "output_type": "display_data"
    }
   ],
   "source": [
    "#Create and use a blended palette for a scatterplot on the price-lotsize relationship and condition on a categorical variable - just make sure\n",
    "# that the number of colors in your palette equals the number of levels/gropus for the categorical variable\n",
    "\n",
    "#In the case below, the categorical variable 'driveway' has 2 groups\n",
    "#other, south. So we need 2 colors in our palette\n",
    "\n",
    "sns.scatterplot(data=Mortgage_data,x='lotsize',\n",
    "               y='price',               \n",
    "               hue='driveway',\n",
    "               palette=sns.blend_palette(['green', 'yellow'],2))"
   ]
  },
  {
   "cell_type": "code",
   "execution_count": 58,
   "metadata": {},
   "outputs": [
    {
     "data": {
      "text/plain": [
       "<AxesSubplot:xlabel='lotsize', ylabel='price'>"
      ]
     },
     "execution_count": 58,
     "metadata": {},
     "output_type": "execute_result"
    },
    {
     "data": {
      "image/png": "[encoded data removed]",
      "text/plain": [
       "<Figure size 432x288 with 1 Axes>"
      ]
     },
     "metadata": {},
     "output_type": "display_data"
    }
   ],
   "source": [
    "#Create and use a blended palette for a scatterplot on the price-lotsize relationship and condition on a categorical variable - just make sure\n",
    "# that the number of colors in your palette equals the number of levels/gropus for the categorical variable\n",
    "\n",
    "#In the case below, the categorical variable 'driveway' has 2 groups\n",
    "#other, south. So we need 2 colors in our palette\n",
    "\n",
    "sns.scatterplot(data=Mortgage_data,x='lotsize',\n",
    "               y='price',               \n",
    "               hue='driveway',\n",
    "               palette=sns.blend_palette(['purple', 'gray'],2))"
   ]
  },
  {
   "cell_type": "code",
   "execution_count": null,
   "metadata": {},
   "outputs": [],
   "source": [
    "#We can infer that there are more price-lotsize dots when driveway = yes than when driveway = no"
   ]
  },
  {
   "cell_type": "code",
   "execution_count": 59,
   "metadata": {},
   "outputs": [],
   "source": [
    "#Task 3: Create and use a highlighting palette - to highlight the driveway = yes category value\n",
    "\n",
    "#Call the highlighting palette palette_dict4\n",
    "\n",
    "\n",
    "\n",
    "palette_dict4 = {x:'gray' for x in Mortgage_data.driveway.unique()}"
   ]
  },
  {
   "cell_type": "code",
   "execution_count": 60,
   "metadata": {},
   "outputs": [],
   "source": [
    "#Notice that gray is a good color used to de-emphasize categorical values"
   ]
  },
  {
   "cell_type": "code",
   "execution_count": 61,
   "metadata": {},
   "outputs": [
    {
     "data": {
      "text/plain": [
       "{'yes': 'gray', 'no': 'gray'}"
      ]
     },
     "execution_count": 61,
     "metadata": {},
     "output_type": "execute_result"
    }
   ],
   "source": [
    "palette_dict4"
   ]
  },
  {
   "cell_type": "code",
   "execution_count": 62,
   "metadata": {},
   "outputs": [],
   "source": [
    "#Task 4: Change the color for 'yes' value of driveway feature to 'purple' - to hightlight it in a histogram\n",
    "\n",
    "palette_dict4['yes'] = 'purple'"
   ]
  },
  {
   "cell_type": "code",
   "execution_count": 63,
   "metadata": {},
   "outputs": [
    {
     "data": {
      "text/plain": [
       "{'yes': 'purple', 'no': 'gray'}"
      ]
     },
     "execution_count": 63,
     "metadata": {},
     "output_type": "execute_result"
    }
   ],
   "source": [
    "palette_dict4"
   ]
  },
  {
   "cell_type": "code",
   "execution_count": null,
   "metadata": {},
   "outputs": [],
   "source": [
    "#Once we have the updated palette, we can modify a Seaborn command to plot histograms for all the numeric variables\n",
    "#The charts can give insights about the normality (or deviation from normality) of each of the numeric variables - conditioned \n",
    "# on a particular categorical variable"
   ]
  },
  {
   "cell_type": "code",
   "execution_count": 64,
   "metadata": {},
   "outputs": [
    {
     "data": {
      "text/plain": [
       "<seaborn.axisgrid.FacetGrid at 0x1a0cc96e730>"
      ]
     },
     "execution_count": 64,
     "metadata": {},
     "output_type": "execute_result"
    },
    {
     "data": {
      "image/png": "[encoded data removed]",
      "text/plain": [
       "<Figure size 771.625x360 with 2 Axes>"
      ]
     },
     "metadata": {},
     "output_type": "display_data"
    }
   ],
   "source": [
    "#Task 5: Plot histogram for price and apply palette_dict4 to the driveway feature. Put the charts in one row\n",
    "\n",
    "sns.displot(x='price', data=Mortgage_data, hue='driveway', col='driveway', palette=palette_dict4)"
   ]
  },
  {
   "cell_type": "code",
   "execution_count": 65,
   "metadata": {},
   "outputs": [
    {
     "data": {
      "text/plain": [
       "<seaborn.axisgrid.FacetGrid at 0x1a0ccd40520>"
      ]
     },
     "execution_count": 65,
     "metadata": {},
     "output_type": "execute_result"
    },
    {
     "data": {
      "image/png": "[encoded data removed]",
      "text/plain": [
       "<Figure size 771.625x360 with 2 Axes>"
      ]
     },
     "metadata": {},
     "output_type": "display_data"
    }
   ],
   "source": [
    "#Task 6: Plot histogram for lotsize and apply palette_dict4 to the driveway feature. Put the charts in one row\n",
    "\n",
    "sns.displot(x='lotsize', data=Mortgage_data, hue='driveway', col='driveway', palette=palette_dict4)"
   ]
  },
  {
   "cell_type": "code",
   "execution_count": 66,
   "metadata": {},
   "outputs": [
    {
     "data": {
      "text/plain": [
       "<seaborn.axisgrid.FacetGrid at 0x1a0cca24fd0>"
      ]
     },
     "execution_count": 66,
     "metadata": {},
     "output_type": "execute_result"
    },
    {
     "data": {
      "image/png": "[encoded data removed]",
      "text/plain": [
       "<Figure size 771.625x360 with 2 Axes>"
      ]
     },
     "metadata": {},
     "output_type": "display_data"
    }
   ],
   "source": [
    "#Task 7: Plot histogram for bedrooms and apply palette_dict4 to the driveway feature. Put the charts in one row\n",
    "\n",
    "sns.displot(x='bedrooms', data=Mortgage_data, hue='driveway', col='driveway', palette=palette_dict4)"
   ]
  },
  {
   "cell_type": "code",
   "execution_count": 67,
   "metadata": {},
   "outputs": [
    {
     "data": {
      "text/plain": [
       "<seaborn.axisgrid.FacetGrid at 0x1a0cd4b8df0>"
      ]
     },
     "execution_count": 67,
     "metadata": {},
     "output_type": "execute_result"
    },
    {
     "data": {
      "image/png": "[encoded data removed]",
      "text/plain": [
       "<Figure size 771.625x360 with 2 Axes>"
      ]
     },
     "metadata": {},
     "output_type": "display_data"
    }
   ],
   "source": [
    "#Task 8: Plot histogram for bathrooms and apply palette_dict4 to the driveway feature. Put the charts in one row\n",
    "\n",
    "sns.displot(x='bathrooms', data=Mortgage_data, hue='driveway', col='driveway', palette=palette_dict4)"
   ]
  },
  {
   "cell_type": "code",
   "execution_count": 68,
   "metadata": {},
   "outputs": [
    {
     "data": {
      "text/plain": [
       "<seaborn.axisgrid.FacetGrid at 0x1a0ccc6daf0>"
      ]
     },
     "execution_count": 68,
     "metadata": {},
     "output_type": "execute_result"
    },
    {
     "data": {
      "image/png": "[encoded data removed]",
      "text/plain": [
       "<Figure size 771.625x360 with 2 Axes>"
      ]
     },
     "metadata": {},
     "output_type": "display_data"
    }
   ],
   "source": [
    "#Task 9: Plot histogram for stories and apply palette_dict4 to the driveway feature. Put the charts in one row\n",
    "\n",
    "sns.displot(x='stories', data=Mortgage_data, hue='driveway', col='driveway', palette=palette_dict4)"
   ]
  },
  {
   "cell_type": "code",
   "execution_count": 69,
   "metadata": {},
   "outputs": [
    {
     "data": {
      "text/plain": [
       "<seaborn.axisgrid.FacetGrid at 0x1a0cd4b8a00>"
      ]
     },
     "execution_count": 69,
     "metadata": {},
     "output_type": "execute_result"
    },
    {
     "data": {
      "image/png": "[encoded data removed]",
      "text/plain": [
       "<Figure size 771.625x360 with 2 Axes>"
      ]
     },
     "metadata": {},
     "output_type": "display_data"
    }
   ],
   "source": [
    "#Task 10: Plot histogram for garage and apply palette_dict4 to the driveway feature. Put the charts in one row\n",
    "\n",
    "sns.displot(x='garage', data=Mortgage_data, hue='driveway', col='driveway', palette=palette_dict4)"
   ]
  },
  {
   "cell_type": "code",
   "execution_count": 70,
   "metadata": {},
   "outputs": [
    {
     "data": {
      "text/plain": [
       "<seaborn.axisgrid.FacetGrid at 0x1a0ce8b21c0>"
      ]
     },
     "execution_count": 70,
     "metadata": {},
     "output_type": "execute_result"
    },
    {
     "data": {
      "image/png": "[encoded data removed]",
      "text/plain": [
       "<Figure size 772.75x360 with 2 Axes>"
      ]
     },
     "metadata": {},
     "output_type": "display_data"
    }
   ],
   "source": [
    "#Task 11: Plot histogram for price and apply palette_dict4 to the recreation feature. Put the charts in one row\n",
    "\n",
    "sns.displot(x='price', data=Mortgage_data, hue='recreation', col='recreation', palette=palette_dict4)"
   ]
  },
  {
   "cell_type": "code",
   "execution_count": 71,
   "metadata": {},
   "outputs": [
    {
     "data": {
      "text/plain": [
       "<seaborn.axisgrid.FacetGrid at 0x1a0ccc32d60>"
      ]
     },
     "execution_count": 71,
     "metadata": {},
     "output_type": "execute_result"
    },
    {
     "data": {
      "image/png": "[encoded data removed]",
      "text/plain": [
       "<Figure size 771.625x360 with 2 Axes>"
      ]
     },
     "metadata": {},
     "output_type": "display_data"
    }
   ],
   "source": [
    "#Task 5: Plot histogram for price and apply palette_dict4 to the driveway feature. Put the charts in one row\n",
    "\n",
    "sns.displot(x='price', data=Mortgage_data, hue='driveway', col='driveway', palette=palette_dict4)"
   ]
  },
  {
   "cell_type": "code",
   "execution_count": null,
   "metadata": {},
   "outputs": [],
   "source": [
    "#Note that the distribution for a numeric variable can be affected by the way it is currently classified in various categories\n",
    "\n",
    "#The distribution of price when recreation = yes is clearly different from the distribution of price when driveway = yes"
   ]
  },
  {
   "cell_type": "code",
   "execution_count": 72,
   "metadata": {},
   "outputs": [
    {
     "data": {
      "text/plain": [
       "<seaborn.axisgrid.FacetGrid at 0x1a0ced14bb0>"
      ]
     },
     "execution_count": 72,
     "metadata": {},
     "output_type": "execute_result"
    },
    {
     "data": {
      "image/png": "[encoded data removed]",
      "text/plain": [
       "<Figure size 772.75x360 with 2 Axes>"
      ]
     },
     "metadata": {},
     "output_type": "display_data"
    }
   ],
   "source": [
    "#Task 12: Plot histogram for lotsize and apply palette_dict4 to the recreation feature. Put the charts in one row\n",
    "\n",
    "sns.displot(x='lotsize', data=Mortgage_data, hue='recreation', col='recreation', palette=palette_dict4)"
   ]
  },
  {
   "cell_type": "code",
   "execution_count": 73,
   "metadata": {},
   "outputs": [
    {
     "data": {
      "text/plain": [
       "<seaborn.axisgrid.FacetGrid at 0x1a0cd4d90a0>"
      ]
     },
     "execution_count": 73,
     "metadata": {},
     "output_type": "execute_result"
    },
    {
     "data": {
      "image/png": "[encoded data removed]",
      "text/plain": [
       "<Figure size 771.625x360 with 2 Axes>"
      ]
     },
     "metadata": {},
     "output_type": "display_data"
    }
   ],
   "source": [
    "#Task 6: Plot histogram for lotsize and apply palette_dict4 to the driveway feature. Put the charts in one row\n",
    "\n",
    "sns.displot(x='lotsize', data=Mortgage_data, hue='driveway', col='driveway', palette=palette_dict4)"
   ]
  },
  {
   "cell_type": "code",
   "execution_count": null,
   "metadata": {},
   "outputs": [],
   "source": [
    "#Note that the distribution for a numeric variable can be affected by the way it is currently classified in various categories\n",
    "\n",
    "#The distribution of lotsize when recreation = yes is clearly different from the distribution of lotsize when driveway = yes"
   ]
  },
  {
   "cell_type": "code",
   "execution_count": null,
   "metadata": {},
   "outputs": [],
   "source": []
  },
  {
   "cell_type": "code",
   "execution_count": null,
   "metadata": {},
   "outputs": [],
   "source": []
  },
  {
   "cell_type": "code",
   "execution_count": null,
   "metadata": {},
   "outputs": [],
   "source": []
  },
  {
   "cell_type": "code",
   "execution_count": null,
   "metadata": {},
   "outputs": [],
   "source": []
  },
  {
   "cell_type": "code",
   "execution_count": null,
   "metadata": {},
   "outputs": [],
   "source": []
  },
  {
   "cell_type": "code",
   "execution_count": null,
   "metadata": {},
   "outputs": [],
   "source": []
  },
  {
   "cell_type": "code",
   "execution_count": null,
   "metadata": {},
   "outputs": [],
   "source": []
  },
  {
   "cell_type": "code",
   "execution_count": null,
   "metadata": {},
   "outputs": [],
   "source": []
  },
  {
   "cell_type": "code",
   "execution_count": null,
   "metadata": {},
   "outputs": [],
   "source": []
  },
  {
   "cell_type": "code",
   "execution_count": null,
   "metadata": {},
   "outputs": [],
   "source": [
    "#Lets work with another dataset\n",
    "\n",
    "\n",
    "import pandas as pd\n",
    "import seaborn as sns\n",
    "import numpy as np\n",
    "from matplotlib import pyplot as plt\n",
    "import matplotlib\n",
    "Mortgage_data = pd.read_csv(\"https://vincentarelbundock.github.io/Rdatasets/csv/AER/HousePrices.csv\", index_col=0).dropna()\n",
    "Mortgage_data.head()"
   ]
  },
  {
   "cell_type": "code",
   "execution_count": null,
   "metadata": {},
   "outputs": [],
   "source": []
  },
  {
   "cell_type": "code",
   "execution_count": null,
   "metadata": {},
   "outputs": [],
   "source": []
  },
  {
   "cell_type": "code",
   "execution_count": null,
   "metadata": {},
   "outputs": [],
   "source": []
  },
  {
   "cell_type": "code",
   "execution_count": null,
   "metadata": {},
   "outputs": [],
   "source": []
  },
  {
   "cell_type": "code",
   "execution_count": null,
   "metadata": {},
   "outputs": [],
   "source": []
  },
  {
   "cell_type": "code",
   "execution_count": null,
   "metadata": {},
   "outputs": [],
   "source": []
  },
  {
   "cell_type": "code",
   "execution_count": null,
   "metadata": {},
   "outputs": [],
   "source": []
  },
  {
   "cell_type": "code",
   "execution_count": null,
   "metadata": {},
   "outputs": [],
   "source": []
  },
  {
   "cell_type": "code",
   "execution_count": null,
   "metadata": {},
   "outputs": [],
   "source": []
  },
  {
   "cell_type": "code",
   "execution_count": null,
   "metadata": {},
   "outputs": [],
   "source": []
  },
  {
   "cell_type": "code",
   "execution_count": null,
   "metadata": {},
   "outputs": [],
   "source": []
  },
  {
   "cell_type": "code",
   "execution_count": null,
   "metadata": {},
   "outputs": [],
   "source": []
  },
  {
   "cell_type": "code",
   "execution_count": null,
   "metadata": {},
   "outputs": [],
   "source": []
  },
  {
   "cell_type": "code",
   "execution_count": null,
   "metadata": {},
   "outputs": [],
   "source": []
  },
  {
   "cell_type": "code",
   "execution_count": null,
   "metadata": {},
   "outputs": [],
   "source": []
  },
  {
   "cell_type": "code",
   "execution_count": null,
   "metadata": {},
   "outputs": [],
   "source": [
    "#Task 3: \n",
    "\n",
    "#Create and use a blended palette for a scatterplot on the price-bedrooms relationship and condition on feature recreation\n",
    "\n",
    "#In the case below, the categorical variable 'recreation' has 2 groups (yes, no)\n",
    "#So we need 2 colors in our palette - use green and black\n",
    "\n",
    "sns.scatterplot(data=Mortgage_data,x='lotsize',\n",
    "               y='bedrooms',               \n",
    "               hue='recreation',\n",
    "               palette=sns.blend_palette(['green', 'black'],2))"
   ]
  },
  {
   "cell_type": "code",
   "execution_count": null,
   "metadata": {},
   "outputs": [],
   "source": []
  },
  {
   "cell_type": "code",
   "execution_count": null,
   "metadata": {},
   "outputs": [],
   "source": []
  },
  {
   "cell_type": "code",
   "execution_count": null,
   "metadata": {},
   "outputs": [],
   "source": []
  },
  {
   "cell_type": "code",
   "execution_count": null,
   "metadata": {},
   "outputs": [],
   "source": []
  },
  {
   "cell_type": "code",
   "execution_count": null,
   "metadata": {},
   "outputs": [],
   "source": []
  },
  {
   "cell_type": "code",
   "execution_count": null,
   "metadata": {},
   "outputs": [],
   "source": []
  },
  {
   "cell_type": "code",
   "execution_count": null,
   "metadata": {},
   "outputs": [],
   "source": []
  },
  {
   "cell_type": "code",
   "execution_count": null,
   "metadata": {},
   "outputs": [],
   "source": [
    "#Task 3:\n",
    "\n",
    "#Create a highlighting palette for "
   ]
  },
  {
   "cell_type": "code",
   "execution_count": null,
   "metadata": {},
   "outputs": [],
   "source": []
  },
  {
   "cell_type": "code",
   "execution_count": null,
   "metadata": {},
   "outputs": [],
   "source": [
    "#Task 3:\n",
    "\n",
    "#\n",
    "\n",
    "#Step 3: Plot histogram for the price feature and apply palette_dict3 to the gender feature\n",
    "\n",
    "sns.displot(x='age', data=Mortgage_data, hue='gender', col='gender', palette=palette_dict3)"
   ]
  },
  {
   "cell_type": "code",
   "execution_count": null,
   "metadata": {},
   "outputs": [],
   "source": []
  },
  {
   "cell_type": "code",
   "execution_count": null,
   "metadata": {},
   "outputs": [],
   "source": []
  },
  {
   "cell_type": "code",
   "execution_count": null,
   "metadata": {},
   "outputs": [],
   "source": []
  },
  {
   "cell_type": "code",
   "execution_count": null,
   "metadata": {},
   "outputs": [],
   "source": []
  },
  {
   "cell_type": "code",
   "execution_count": null,
   "metadata": {},
   "outputs": [],
   "source": []
  },
  {
   "cell_type": "code",
   "execution_count": null,
   "metadata": {},
   "outputs": [],
   "source": []
  },
  {
   "cell_type": "code",
   "execution_count": null,
   "metadata": {},
   "outputs": [],
   "source": []
  },
  {
   "cell_type": "code",
   "execution_count": null,
   "metadata": {},
   "outputs": [],
   "source": []
  },
  {
   "cell_type": "code",
   "execution_count": null,
   "metadata": {},
   "outputs": [],
   "source": []
  },
  {
   "cell_type": "code",
   "execution_count": null,
   "metadata": {},
   "outputs": [],
   "source": []
  },
  {
   "cell_type": "code",
   "execution_count": null,
   "metadata": {},
   "outputs": [],
   "source": []
  },
  {
   "cell_type": "code",
   "execution_count": null,
   "metadata": {},
   "outputs": [],
   "source": []
  },
  {
   "cell_type": "code",
   "execution_count": null,
   "metadata": {},
   "outputs": [],
   "source": []
  },
  {
   "cell_type": "code",
   "execution_count": null,
   "metadata": {},
   "outputs": [],
   "source": []
  },
  {
   "cell_type": "code",
   "execution_count": null,
   "metadata": {},
   "outputs": [],
   "source": []
  },
  {
   "cell_type": "code",
   "execution_count": null,
   "metadata": {},
   "outputs": [],
   "source": []
  },
  {
   "cell_type": "code",
   "execution_count": null,
   "metadata": {},
   "outputs": [],
   "source": []
  },
  {
   "cell_type": "code",
   "execution_count": null,
   "metadata": {},
   "outputs": [],
   "source": []
  },
  {
   "cell_type": "code",
   "execution_count": null,
   "metadata": {},
   "outputs": [],
   "source": []
  },
  {
   "cell_type": "code",
   "execution_count": null,
   "metadata": {},
   "outputs": [],
   "source": [
    "#You can use your blended palette for your charts when you condition on a categorical variable - just make sure\n",
    "# that the number of colors in your palette equals the number of levels/gropus for the categorical variable\n",
    "\n",
    "#In the case below, the categorical variable 'day' has 4 groups\n",
    "#Thursday, Friday, Saturday, Sunday. So we need 4 colors in our palette\n",
    "\n",
    "sns.scatterplot(data=Wage_data,x='education',\n",
    "               y='wage',               \n",
    "               hue='region',\n",
    "               palette=sns.blend_palette(['blue', 'red'],2))"
   ]
  },
  {
   "cell_type": "code",
   "execution_count": null,
   "metadata": {},
   "outputs": [],
   "source": []
  },
  {
   "cell_type": "code",
   "execution_count": null,
   "metadata": {},
   "outputs": [],
   "source": []
  },
  {
   "cell_type": "code",
   "execution_count": null,
   "metadata": {},
   "outputs": [],
   "source": []
  },
  {
   "cell_type": "code",
   "execution_count": null,
   "metadata": {},
   "outputs": [],
   "source": []
  },
  {
   "cell_type": "code",
   "execution_count": null,
   "metadata": {},
   "outputs": [],
   "source": []
  },
  {
   "cell_type": "code",
   "execution_count": null,
   "metadata": {},
   "outputs": [],
   "source": []
  },
  {
   "cell_type": "code",
   "execution_count": null,
   "metadata": {},
   "outputs": [],
   "source": []
  },
  {
   "cell_type": "code",
   "execution_count": null,
   "metadata": {},
   "outputs": [],
   "source": [
    "#You can use your blended palette for your charts when you condition on a categorical variable - just make sure\n",
    "# that the number of colors in your palette equals the number of levels/gropus for the categorical variable\n",
    "\n",
    "#In the case below, the categorical variable 'day' has 4 groups\n",
    "#Thursday, Friday, Saturday, Sunday. So we need 4 colors in our palette\n",
    "\n",
    "sns.scatterplot(data=tips,x='total_bill',\n",
    "               y='tip',               \n",
    "               hue='day',\n",
    "               palette=sns.blend_palette(['blue', 'red'],4))"
   ]
  },
  {
   "cell_type": "code",
   "execution_count": null,
   "metadata": {},
   "outputs": [],
   "source": []
  },
  {
   "cell_type": "code",
   "execution_count": null,
   "metadata": {},
   "outputs": [],
   "source": []
  },
  {
   "cell_type": "code",
   "execution_count": null,
   "metadata": {},
   "outputs": [],
   "source": []
  },
  {
   "cell_type": "code",
   "execution_count": null,
   "metadata": {},
   "outputs": [],
   "source": []
  },
  {
   "cell_type": "code",
   "execution_count": null,
   "metadata": {},
   "outputs": [],
   "source": []
  },
  {
   "cell_type": "code",
   "execution_count": null,
   "metadata": {},
   "outputs": [],
   "source": []
  },
  {
   "cell_type": "code",
   "execution_count": null,
   "metadata": {},
   "outputs": [],
   "source": []
  },
  {
   "cell_type": "code",
   "execution_count": null,
   "metadata": {},
   "outputs": [],
   "source": []
  },
  {
   "cell_type": "code",
   "execution_count": null,
   "metadata": {},
   "outputs": [],
   "source": []
  },
  {
   "cell_type": "code",
   "execution_count": null,
   "metadata": {},
   "outputs": [],
   "source": []
  },
  {
   "cell_type": "code",
   "execution_count": null,
   "metadata": {},
   "outputs": [],
   "source": []
  },
  {
   "cell_type": "code",
   "execution_count": null,
   "metadata": {},
   "outputs": [],
   "source": []
  },
  {
   "cell_type": "code",
   "execution_count": null,
   "metadata": {},
   "outputs": [],
   "source": []
  },
  {
   "cell_type": "code",
   "execution_count": null,
   "metadata": {},
   "outputs": [],
   "source": [
    "#Build lmplot for bill_length_mm and bill_depth_mm\n",
    "\n",
    "sns.lmplot(x='bill_length_mm', y='bill_depth_mm', data=Penguins_data)"
   ]
  },
  {
   "cell_type": "code",
   "execution_count": null,
   "metadata": {},
   "outputs": [],
   "source": [
    "#We see an apparent negative bill_length_mm - bill_depth_mm relationship "
   ]
  },
  {
   "cell_type": "code",
   "execution_count": null,
   "metadata": {},
   "outputs": [],
   "source": [
    "sns.lmplot(x='bill_length_mm', y='bill_depth_mm', \n",
    "           hue='species',\n",
    "           data=Penguins_data)"
   ]
  },
  {
   "cell_type": "code",
   "execution_count": null,
   "metadata": {},
   "outputs": [],
   "source": [
    "# The assciation between bill_length_mm and bill_depth_mm appear to have\n",
    "# reversed. This phenomenon is known as Simposon's Paradox"
   ]
  },
  {
   "cell_type": "code",
   "execution_count": null,
   "metadata": {},
   "outputs": [],
   "source": [
    "#Simpson's Paradox Explained:\n",
    "\n",
    "# Simpson's Paradox is a statistical phenomenon where \n",
    "# an association between two variables in a population emerges, disappears or reverses \n",
    "# when the population is divided into subpopulations\n",
    "\n",
    "\n",
    "#Simpson's Paradox happens because disaggregation of the data (e.g., splitting it into subgroups) can cause certain \n",
    "# subgroups to have an imbalanced representation compared to other subgroups\n",
    "\n",
    "\n",
    "#Dealing with Simpson's Paradox:\n",
    "\n",
    "#To avoid Simpson's Paradox leading us to two opposite conclusions, \n",
    "#we need to choose to segregate the data in groups or aggregate it together.\n",
    "\n",
    "#Simpson's paradox can be avoided in a study if the most accurate experimental design is used. \n",
    "#During the planning stage, the selection of the analysis should include the \n",
    "#confounding variables so that the most correct answer to \n",
    "#the research question will be obtained when the study is being analyzed"
   ]
  },
  {
   "cell_type": "code",
   "execution_count": null,
   "metadata": {},
   "outputs": [],
   "source": [
    "#The Facet Grid option of the lmplot allows you to separate\n",
    "# regplots into \"Small Multiples\" or a grid of regplots \n",
    "#when you have many categories in one categorical variable\n",
    "\n",
    "# in the case of the species categorical variable, we have only 3 categories/groups\n",
    "\n"
   ]
  },
  {
   "cell_type": "code",
   "execution_count": null,
   "metadata": {},
   "outputs": [],
   "source": [
    "#Working with Small Multiples (using FacetGrid)\n",
    "\n",
    "#Arrange regplots for the various categories separately\n",
    "\n",
    "#Use the col= argument\n",
    "\n",
    "sns.lmplot(x='bill_length_mm', y='bill_depth_mm',\n",
    "          hue='species',\n",
    "           col='species',\n",
    "          data=Penguins_data)\n",
    "           \n",
    "          "
   ]
  },
  {
   "cell_type": "code",
   "execution_count": null,
   "metadata": {},
   "outputs": [],
   "source": [
    "#We see we can breakout the relationship into small multiples using the FacetGrid\n",
    "# instead of having them in one chart\n",
    "\n"
   ]
  },
  {
   "cell_type": "code",
   "execution_count": null,
   "metadata": {},
   "outputs": [],
   "source": [
    "#Arrange regplots for the various categories separately\n",
    "\n",
    "#Use the col= argument and the row=\n",
    "\n",
    "sns.lmplot(x='bill_length_mm', y='bill_depth_mm',\n",
    "          hue='species',\n",
    "           col='species',\n",
    "           row='sex',\n",
    "          data=Penguins_data)"
   ]
  },
  {
   "cell_type": "code",
   "execution_count": null,
   "metadata": {},
   "outputs": [],
   "source": [
    "# To remove the whitespace around the plots above\n",
    "# use the Truncate= argument, which makes the plot span the \n",
    "# entire range of the chart\n",
    "\n",
    "\n",
    "#Arrange regplots for the various categories separately\n",
    "\n",
    "#Use the col= argument and the row=\n",
    "\n",
    "sns.lmplot(x='bill_length_mm', y='bill_depth_mm',\n",
    "          hue='species',\n",
    "           col='species',\n",
    "           row='sex',\n",
    "           truncate=False,\n",
    "          data=Penguins_data)\n"
   ]
  },
  {
   "cell_type": "code",
   "execution_count": null,
   "metadata": {},
   "outputs": [],
   "source": []
  },
  {
   "cell_type": "code",
   "execution_count": null,
   "metadata": {},
   "outputs": [],
   "source": []
  },
  {
   "cell_type": "code",
   "execution_count": null,
   "metadata": {},
   "outputs": [],
   "source": []
  },
  {
   "cell_type": "code",
   "execution_count": null,
   "metadata": {},
   "outputs": [],
   "source": [
    "#Countplot"
   ]
  },
  {
   "cell_type": "code",
   "execution_count": null,
   "metadata": {},
   "outputs": [],
   "source": [
    "#Count the number of observations you have per category in your dataset - and then\n",
    "#display that information in bars\n",
    "\n",
    "#Countplot differs from the barplot because it focuses on counts, while the barplot\n",
    "# focuses on various extimates e.g. means, standard deviation etc\n",
    "\n",
    "#You can think of countplot as a histogram but for categorical data"
   ]
  },
  {
   "cell_type": "code",
   "execution_count": null,
   "metadata": {},
   "outputs": [],
   "source": [
    "import seaborn as sns\n",
    "import matplotlib\n",
    "from matplotlib import pyplot as plt\n",
    "import numpy as np"
   ]
  },
  {
   "cell_type": "code",
   "execution_count": null,
   "metadata": {},
   "outputs": [],
   "source": [
    "diamonds = sns.load_dataset('diamonds')\n",
    "\n",
    "diamonds.head()"
   ]
  },
  {
   "cell_type": "code",
   "execution_count": null,
   "metadata": {},
   "outputs": [],
   "source": [
    "#lets filter the data by a categorical variable and restrict the values to 2 \n",
    "\n",
    "diamonds = diamonds[diamonds.clarity.isin(['ST1', 'VS2'])]"
   ]
  },
  {
   "cell_type": "code",
   "execution_count": null,
   "metadata": {},
   "outputs": [],
   "source": [
    "diamonds.head()"
   ]
  },
  {
   "cell_type": "code",
   "execution_count": null,
   "metadata": {},
   "outputs": [],
   "source": [
    "diamonds.shape"
   ]
  },
  {
   "cell_type": "code",
   "execution_count": null,
   "metadata": {},
   "outputs": [],
   "source": [
    "#the filtered dataset has 12258 rows and 10 columns"
   ]
  },
  {
   "cell_type": "code",
   "execution_count": null,
   "metadata": {},
   "outputs": [],
   "source": [
    "sns.set_style('darkgrid')"
   ]
  },
  {
   "cell_type": "code",
   "execution_count": null,
   "metadata": {},
   "outputs": [],
   "source": [
    "diamonds.dtypes"
   ]
  },
  {
   "cell_type": "code",
   "execution_count": null,
   "metadata": {},
   "outputs": [],
   "source": [
    "diamonds.color.cat.categories"
   ]
  },
  {
   "cell_type": "code",
   "execution_count": null,
   "metadata": {},
   "outputs": [],
   "source": [
    "diamonds.cut.cat.categories"
   ]
  },
  {
   "cell_type": "code",
   "execution_count": null,
   "metadata": {},
   "outputs": [],
   "source": [
    "diamonds.clarity.cat.categories"
   ]
  },
  {
   "cell_type": "code",
   "execution_count": null,
   "metadata": {},
   "outputs": [],
   "source": [
    "#create countplot for dataset - count observations \n",
    "#by the color feature (a categorical variable)\n",
    "#you specify the categorical variable in the x or y argument\n",
    "\n",
    "sns.countplot(x='color', data=diamonds)"
   ]
  },
  {
   "cell_type": "code",
   "execution_count": null,
   "metadata": {},
   "outputs": [],
   "source": [
    "#create countplot for dataset - count observations \n",
    "#by the color feature (a categorical variable)\n",
    "#you specify the categorical variable in the x or y argument\n",
    "\n",
    "#Using y argument just changes the orientation of the chart\n",
    "\n",
    "sns.countplot(y='color', data=diamonds)"
   ]
  },
  {
   "cell_type": "code",
   "execution_count": null,
   "metadata": {},
   "outputs": [],
   "source": [
    "#Seaborn just counts the number of observations in each group of the categorical variable color\n",
    "# and displays that with bars"
   ]
  },
  {
   "cell_type": "code",
   "execution_count": null,
   "metadata": {},
   "outputs": [],
   "source": [
    "#the countplot above is just plotting the numbers in what the following command shows:\n",
    "\n",
    "diamonds.color.value_counts(sort=False)"
   ]
  },
  {
   "cell_type": "code",
   "execution_count": null,
   "metadata": {},
   "outputs": [],
   "source": [
    "diamonds.clarity.value_counts(sort=False)"
   ]
  },
  {
   "cell_type": "code",
   "execution_count": null,
   "metadata": {},
   "outputs": [],
   "source": [
    "#Countplopt options: setting or changing the order of appearance of bars\n",
    "#to support effective communication\n",
    "\n",
    "\n",
    "\n",
    "\n",
    "\n"
   ]
  },
  {
   "cell_type": "code",
   "execution_count": null,
   "metadata": {},
   "outputs": [],
   "source": [
    "diamonds.dtypes"
   ]
  },
  {
   "cell_type": "code",
   "execution_count": null,
   "metadata": {},
   "outputs": [],
   "source": [
    "diamonds.color.cat.categories"
   ]
  },
  {
   "cell_type": "code",
   "execution_count": null,
   "metadata": {},
   "outputs": [],
   "source": [
    "diamonds.cut.cat.categories"
   ]
  },
  {
   "cell_type": "code",
   "execution_count": null,
   "metadata": {},
   "outputs": [],
   "source": [
    "diamonds.clarity.cat.categories"
   ]
  },
  {
   "cell_type": "code",
   "execution_count": null,
   "metadata": {},
   "outputs": [],
   "source": [
    "#You can change the presentation order for the bars:\n",
    "#Use the order = argument to pass a list of your prefered order\n",
    "\n",
    "\n",
    "color_order=['J','I','H','G','F','E','D']\n",
    "\n",
    "sns.countplot(x='color', data=diamonds, order=color_order)"
   ]
  },
  {
   "cell_type": "code",
   "execution_count": null,
   "metadata": {},
   "outputs": [],
   "source": [
    "#We might just want to sort the bars ascending or descending order\n",
    "#Since we have a data frame, its recommended you use the value_counts() method\n",
    "#will sort your data from most plentiful to least plentiful\n",
    "\n",
    "#value_counts().index gives a CategoricalIndex list of the most plentiful\n",
    "#to the least plentiful category\n",
    "\n",
    "diamonds.color.value_counts().index\n",
    "\n",
    "\n"
   ]
  },
  {
   "cell_type": "code",
   "execution_count": null,
   "metadata": {},
   "outputs": [],
   "source": [
    "#Then use the index as the value for the order argument\n",
    "#This sorts the bars in descending mode\n",
    "\n",
    "\n",
    "sns.countplot(x='color',data=diamonds,\n",
    "             order=diamonds.color.value_counts().index)"
   ]
  },
  {
   "cell_type": "code",
   "execution_count": null,
   "metadata": {},
   "outputs": [],
   "source": [
    "#To sort in ascending mode, reverse the index as shown below:\n",
    "\n",
    "\n",
    "sns.countplot(x='color',data=diamonds,\n",
    "             order=diamonds.color.value_counts().index[::-1]\n",
    "             )"
   ]
  },
  {
   "cell_type": "code",
   "execution_count": null,
   "metadata": {},
   "outputs": [],
   "source": [
    "#Use hue to condition your chart on another categorical variable\n",
    "#For example to get sense of how color cahnges by clarity,\n",
    "\n",
    "sns.countplot(x='color', data=diamonds, hue='clarity')\n",
    "\n",
    "\n"
   ]
  },
  {
   "cell_type": "code",
   "execution_count": null,
   "metadata": {},
   "outputs": [],
   "source": [
    "#We can streamline the choice for clarity to two categorical values:\n",
    "\n",
    "sns.countplot(x='color', data=diamonds, hue='clarity', hue_order=['SI1','VS2'])"
   ]
  },
  {
   "cell_type": "code",
   "execution_count": null,
   "metadata": {},
   "outputs": [],
   "source": [
    "#The plot above is a countplot of color - but with counts of subsets of clarity\n",
    "#within the overall count for color"
   ]
  },
  {
   "cell_type": "code",
   "execution_count": null,
   "metadata": {},
   "outputs": [],
   "source": [
    "#Styling options - give all bars the same color\n",
    "#Use the color = argument\n",
    "\n",
    "sns.countplot(x='color', data=diamonds, color='skyblue')\n",
    "\n"
   ]
  },
  {
   "cell_type": "code",
   "execution_count": null,
   "metadata": {},
   "outputs": [],
   "source": [
    "#You can also use the Seaborn palette to give each bar its own color\n",
    "\n",
    "\n",
    "sns.countplot(x='color', data=diamonds,palette='twilight')"
   ]
  },
  {
   "cell_type": "code",
   "execution_count": null,
   "metadata": {},
   "outputs": [],
   "source": [
    "#You can also use the Seaborn palette to give each bar its own color\n",
    "\n",
    "\n",
    "sns.countplot(x='color', data=diamonds,palette='spring')"
   ]
  },
  {
   "cell_type": "code",
   "execution_count": null,
   "metadata": {},
   "outputs": [],
   "source": [
    "#You can also use the Seaborn palette to give each bar its own color\n",
    "\n",
    "\n",
    "sns.countplot(x='color', data=diamonds,palette='winter')"
   ]
  },
  {
   "cell_type": "code",
   "execution_count": null,
   "metadata": {},
   "outputs": [],
   "source": [
    "#increase line width around the bars\n",
    "\n",
    "sns.countplot(x='color', data=diamonds,\n",
    "              lw=4,\n",
    "              palette='twilight')"
   ]
  },
  {
   "cell_type": "code",
   "execution_count": null,
   "metadata": {},
   "outputs": [],
   "source": [
    "#increase line width around the bars and change edge color around bars to black\n",
    "\n",
    "#lw = line width,\n",
    "#ec = edge color\n",
    "\n",
    "sns.countplot(x='color', data=diamonds,\n",
    "              lw=4,ec='black',\n",
    "              palette='twilight')"
   ]
  },
  {
   "cell_type": "code",
   "execution_count": null,
   "metadata": {},
   "outputs": [],
   "source": [
    "#Add pattern to chart using hatch argument\n",
    "\n",
    "#lw = line width,\n",
    "#ec = edge color\n",
    "\n",
    "sns.countplot(x='color', data=diamonds,\n",
    "              lw=4,ec='black',hatch='/'\n",
    "              ,palette='twilight')"
   ]
  },
  {
   "cell_type": "code",
   "execution_count": null,
   "metadata": {},
   "outputs": [],
   "source": []
  },
  {
   "cell_type": "code",
   "execution_count": null,
   "metadata": {},
   "outputs": [],
   "source": []
  },
  {
   "cell_type": "code",
   "execution_count": null,
   "metadata": {},
   "outputs": [],
   "source": []
  },
  {
   "cell_type": "code",
   "execution_count": null,
   "metadata": {},
   "outputs": [],
   "source": []
  },
  {
   "cell_type": "code",
   "execution_count": null,
   "metadata": {},
   "outputs": [],
   "source": []
  },
  {
   "cell_type": "code",
   "execution_count": null,
   "metadata": {},
   "outputs": [],
   "source": []
  },
  {
   "cell_type": "code",
   "execution_count": null,
   "metadata": {},
   "outputs": [],
   "source": []
  },
  {
   "cell_type": "code",
   "execution_count": null,
   "metadata": {},
   "outputs": [],
   "source": []
  },
  {
   "cell_type": "code",
   "execution_count": null,
   "metadata": {},
   "outputs": [],
   "source": []
  },
  {
   "cell_type": "code",
   "execution_count": null,
   "metadata": {},
   "outputs": [],
   "source": []
  },
  {
   "cell_type": "code",
   "execution_count": null,
   "metadata": {},
   "outputs": [],
   "source": []
  },
  {
   "cell_type": "code",
   "execution_count": null,
   "metadata": {},
   "outputs": [],
   "source": []
  },
  {
   "cell_type": "code",
   "execution_count": null,
   "metadata": {},
   "outputs": [],
   "source": [
    "#Load car data frame and drop rows with missing values\n",
    "\n",
    "cars = sns.load_dataset('mpg').dropna()\n",
    "\n",
    "#Filter out 4-,6-,8-cylinder cars\n",
    "\n",
    "cars=cars[cars.cylinders.isin([4,6,8])]\n",
    "\n",
    "#Add old/new column\n",
    "\n",
    "cars['type'] = ['old' if x<=76 else 'new' for x in cars.model_year]"
   ]
  },
  {
   "cell_type": "code",
   "execution_count": null,
   "metadata": {},
   "outputs": [],
   "source": [
    "cars.head()"
   ]
  },
  {
   "cell_type": "code",
   "execution_count": null,
   "metadata": {},
   "outputs": [],
   "source": [
    "cars.shape()"
   ]
  },
  {
   "cell_type": "code",
   "execution_count": null,
   "metadata": {},
   "outputs": [],
   "source": [
    "sns.set_style('dark')"
   ]
  },
  {
   "cell_type": "code",
   "execution_count": null,
   "metadata": {},
   "outputs": [],
   "source": [
    "sns.pairplot(cars)"
   ]
  },
  {
   "cell_type": "code",
   "execution_count": null,
   "metadata": {},
   "outputs": [],
   "source": [
    "# Build first catplot with catplot() function\n",
    "#Specify what feature you would like to plot\n",
    "\n",
    "sns.catplot(x='horsepower', data=cars)"
   ]
  },
  {
   "cell_type": "code",
   "execution_count": null,
   "metadata": {},
   "outputs": [],
   "source": [
    "#Class Discussion\n",
    "\n",
    "#1. Seaborn's default cat plot is the stripplot - until you specify otherwise\n",
    "# x references the feature you want to plot or what axis you \n",
    "# want to feature to be on\n",
    "\n",
    "#You can change the axis to y as well\n"
   ]
  },
  {
   "cell_type": "code",
   "execution_count": null,
   "metadata": {},
   "outputs": [],
   "source": [
    "#plot horizontal strip plot using catplot() function\n",
    "\n",
    "sns.catplot(y='horsepower', data=cars)"
   ]
  },
  {
   "cell_type": "code",
   "execution_count": null,
   "metadata": {},
   "outputs": [],
   "source": [
    "#Change the type of plot (from default stripplot) using the kind argument\n",
    "# in the catplot() function\n",
    "\n",
    "#Change kind from strip plot to boxplot\n",
    "\n",
    "\n",
    "sns.catplot(x='horsepower', data=cars, kind='box')"
   ]
  },
  {
   "cell_type": "code",
   "execution_count": null,
   "metadata": {},
   "outputs": [],
   "source": [
    "#Change the type of plot (from default stripplot) using the kind argument\n",
    "# in the catplot() function\n",
    "\n",
    "#Change kind from strip plot to violinplot\n",
    "\n",
    "\n",
    "sns.catplot(x='horsepower', data=cars, kind='violin')"
   ]
  },
  {
   "cell_type": "code",
   "execution_count": null,
   "metadata": {},
   "outputs": [],
   "source": [
    "#We can also use the x argument to breakout the data with \n",
    "#another categorical feature using the x axis first\n",
    "sns.catplot(y='horsepower',\n",
    "           data=cars,\n",
    "           kind='box',\n",
    "           x='origin')"
   ]
  },
  {
   "cell_type": "code",
   "execution_count": null,
   "metadata": {},
   "outputs": [],
   "source": [
    "#We can also use the hue argument to further breakout the data with a second \n",
    "#categorical feature after using the x axis first\n",
    "sns.catplot(y='horsepower',\n",
    "           data=cars,\n",
    "           kind='box',\n",
    "           x='origin',\n",
    "           hue='cylinders')"
   ]
  },
  {
   "cell_type": "code",
   "execution_count": null,
   "metadata": {},
   "outputs": [],
   "source": [
    "#We can also use the hue argument to further breakout the data with a second \n",
    "#categorical feature after using the x axis first\n",
    "\n",
    "#You can still change the kind of chart as well\n",
    "\n",
    "#Change from boxplot to violin plot\n",
    "\n",
    "sns.catplot(y='horsepower',\n",
    "           data=cars,\n",
    "           kind='violin',\n",
    "           x='origin',\n",
    "           hue='cylinders')"
   ]
  },
  {
   "cell_type": "code",
   "execution_count": null,
   "metadata": {},
   "outputs": [],
   "source": [
    "#We can also use the hue argument to further breakout the data with a second \n",
    "#categorical feature after using the x axis first\n",
    "\n",
    "#You can still change the kind of chart as well\n",
    "\n",
    "#Change from boxplot to strip plot plot\n",
    "\n",
    "sns.catplot(y='horsepower',\n",
    "           data=cars,\n",
    "           kind='strip',\n",
    "           x='origin',\n",
    "           hue='cylinders')"
   ]
  },
  {
   "cell_type": "code",
   "execution_count": null,
   "metadata": {},
   "outputs": [],
   "source": [
    "#We can also use the hue argument to further breakout the data with a second \n",
    "#categorical feature after using the x axis first\n",
    "\n",
    "#You can still change the kind of chart as well\n",
    "\n",
    "#Change from stripplot to swarm plot plot\n",
    "\n",
    "sns.catplot(y='horsepower',\n",
    "           data=cars,\n",
    "           kind='swarm',\n",
    "           x='origin',\n",
    "           hue='cylinders')"
   ]
  },
  {
   "cell_type": "code",
   "execution_count": null,
   "metadata": {},
   "outputs": [],
   "source": [
    "#We can also use the Cat Plot Facet Grid to build multiple charts\n",
    "\n",
    "#The Cat plot is built on a Facet Grid - so you can use these features\n",
    "\n",
    "# We can create a separate chart for each cylinder on one row\n",
    "\n",
    "#Use the col argument to put the separate chart in one row and multiple columns\n",
    "\n",
    "sns.catplot(y='horsepower',\n",
    "           data=cars,\n",
    "           kind='box',\n",
    "           x='cylinders',\n",
    "           col='origin',\n",
    "           )"
   ]
  },
  {
   "cell_type": "code",
   "execution_count": null,
   "metadata": {},
   "outputs": [],
   "source": [
    "#Note that we now have horsepower broken out by cylinder\n",
    "#The col argument is an alternative to the hue argument\n",
    "\n",
    "#While the hue argument allows you breakout your chart with a second \n",
    "#categorical variable - but everything remains on frame\n",
    "\n",
    "#col allows you breakout your chart with a second \n",
    "#categorical variable - but you create a separate frame for each \n",
    "# value of the second variable"
   ]
  },
  {
   "cell_type": "code",
   "execution_count": null,
   "metadata": {},
   "outputs": [],
   "source": [
    "# You can still change the kind of chart you have with multiple frames\n",
    "\n",
    "sns.catplot(y='horsepower',\n",
    "           data=cars,\n",
    "           kind='swarm',\n",
    "           x='cylinders',\n",
    "           col='origin',\n",
    "           )"
   ]
  },
  {
   "cell_type": "code",
   "execution_count": null,
   "metadata": {},
   "outputs": [],
   "source": [
    "# You can still change the kind of chart you have with multiple frames\n",
    "\n",
    "sns.catplot(y='horsepower',\n",
    "           data=cars,\n",
    "           kind='strip',\n",
    "           x='cylinders',\n",
    "           col='origin',\n",
    "           )"
   ]
  },
  {
   "cell_type": "code",
   "execution_count": null,
   "metadata": {},
   "outputs": [],
   "source": [
    "# You can still change the kind of chart you have with multiple frames\n",
    "# and also change the arrangement of the frames from column and rows\n",
    "\n",
    "sns.catplot(y='horsepower',\n",
    "           data=cars,\n",
    "           kind='strip',\n",
    "           x='cylinders',\n",
    "           row='origin',\n",
    "           )"
   ]
  },
  {
   "cell_type": "code",
   "execution_count": null,
   "metadata": {},
   "outputs": [],
   "source": [
    "# You can still change the kind of chart you have with multiple frames\n",
    "# You can have different charts arranged on rows and columns\n",
    "\n",
    "sns.catplot(y='horsepower',\n",
    "           data=cars,\n",
    "           kind='strip',\n",
    "           x='cylinders',\n",
    "           row='origin',\n",
    "            col='type'\n",
    "           )"
   ]
  },
  {
   "cell_type": "code",
   "execution_count": null,
   "metadata": {},
   "outputs": [],
   "source": [
    "# You can still change the kind of chart you have with multiple frames\n",
    "# You can have different charts arranged on rows and columns\n",
    "\n",
    "sns.catplot(y='horsepower',\n",
    "           data=cars,\n",
    "           kind='box',\n",
    "           x='cylinders',\n",
    "           col='origin',\n",
    "            row='type'\n",
    "           )"
   ]
  },
  {
   "cell_type": "code",
   "execution_count": null,
   "metadata": {},
   "outputs": [],
   "source": [
    "# You can have different charts arranged on rows and columns\n",
    "\n",
    "#We can have Seaborn change the order of the charts\n",
    "\n",
    "#Make Seaborn put the horsepower chart when type = new first\n",
    "# on the top row and the horsepower chart when type = old on the\n",
    "# bottom row\n",
    "\n",
    "#Use row_order argument\n",
    "\n",
    "sns.catplot(y='horsepower',\n",
    "           data=cars,\n",
    "           kind='box',\n",
    "           x='cylinders',\n",
    "           col='origin',\n",
    "            row='type',\n",
    "            row_order=['new','old']\n",
    "           )"
   ]
  },
  {
   "cell_type": "code",
   "execution_count": null,
   "metadata": {},
   "outputs": [],
   "source": [
    "# You can have different charts arranged on rows and columns\n",
    "\n",
    "#We can have Seaborn change the order of the charts\n",
    "\n",
    "#Make Seaborn put the horsepower chart when type = new first\n",
    "# on the top row and the horsepower chart when type = old on the\n",
    "# bottom row\n",
    "\n",
    "#Use row_order argument\n",
    "\n",
    "sns.catplot(y='horsepower',\n",
    "           data=cars,\n",
    "           kind='box',\n",
    "           x='cylinders',\n",
    "           col='origin',\n",
    "            col_order=['europe','usa','japan'],\n",
    "            row='type',\n",
    "            row_order=['new','old']\n",
    "           )"
   ]
  },
  {
   "cell_type": "code",
   "execution_count": null,
   "metadata": {},
   "outputs": [],
   "source": [
    "#You can style the plot referenced in the kind argument\n",
    "\n",
    "#In this example, we have kind='box', so we get to style the boxplot\n",
    "#We can change the color palette that works with box plots\n",
    "\n",
    "sns.catplot(y='horsepower',\n",
    "           data=cars,\n",
    "           kind='box',\n",
    "           x='cylinders',\n",
    "           col='origin',\n",
    "            row='type',\n",
    "            row_order=['new','old'],\n",
    "            palette='winter'\n",
    "           )"
   ]
  },
  {
   "cell_type": "code",
   "execution_count": null,
   "metadata": {},
   "outputs": [],
   "source": [
    "#You can style the plot referenced in the kind argument\n",
    "\n",
    "#In this example, we have kind='box', so we get to style the boxplot\n",
    "#We can change the color palette\n",
    "\n",
    "sns.catplot(y='horsepower',\n",
    "           data=cars,\n",
    "           kind='box',\n",
    "           x='cylinders',\n",
    "           col='origin',\n",
    "            row='type',\n",
    "            row_order=['new','old'],\n",
    "            palette='autumn'\n",
    "           )"
   ]
  },
  {
   "cell_type": "code",
   "execution_count": null,
   "metadata": {},
   "outputs": [],
   "source": [
    "#You can style the plot referenced in the kind argument\n",
    "\n",
    "#In this example, we have kind='box', so we get to style the boxplot\n",
    "#We can change the color palette\n",
    "\n",
    "sns.catplot(y='horsepower',\n",
    "           data=cars,\n",
    "           kind='box',\n",
    "           x='cylinders',\n",
    "           col='origin',\n",
    "            row='type',\n",
    "            row_order=['new','old'],\n",
    "            palette='spring'\n",
    "           )"
   ]
  },
  {
   "cell_type": "code",
   "execution_count": null,
   "metadata": {},
   "outputs": [],
   "source": [
    "#You can style the plot referenced in the kind argument\n",
    "\n",
    "#In this example, we have kind='box', so we get to style the boxplot\n",
    "#We can change the color palette\n",
    "\n",
    "sns.catplot(y='horsepower',\n",
    "           data=cars,\n",
    "           kind='box',\n",
    "           x='cylinders',\n",
    "           col='origin',\n",
    "            row='type',\n",
    "            row_order=['new','old'],\n",
    "            palette='summer'\n",
    "           )"
   ]
  },
  {
   "cell_type": "code",
   "execution_count": null,
   "metadata": {},
   "outputs": [],
   "source": [
    "#You can incerase the font size on all the charts using font_scale argument\n",
    "\n",
    "sns.set(style='darkgrid', font_scale=1.5)\n",
    "\n",
    "#You can style the plot referenced in the kind argument\n",
    "\n",
    "#In this example, we have kind='box', so we get to style the boxplot\n",
    "#We can change the color palette\n",
    "\n",
    "sns.catplot(y='horsepower',\n",
    "           data=cars,\n",
    "           kind='box',\n",
    "           x='cylinders',\n",
    "           col='origin',\n",
    "            row='type',\n",
    "            row_order=['new','old'],\n",
    "            palette='autumn'\n",
    "           )"
   ]
  },
  {
   "cell_type": "code",
   "execution_count": null,
   "metadata": {},
   "outputs": [],
   "source": [
    "#You can incerase the font size on all the charts using font_scale argument\n",
    "\n",
    "sns.set(style='darkgrid', font_scale=1.5)\n",
    "\n",
    "#You can style the plot referenced in the kind argument\n",
    "\n",
    "#In this example, we have kind='box', so we get to style the boxplot\n",
    "#We can change use a list in the color palette as well\n",
    "\n",
    "sns.catplot(y='horsepower',\n",
    "           data=cars,\n",
    "           kind='box',\n",
    "           x='cylinders',\n",
    "           col='origin',\n",
    "            row='type',\n",
    "            row_order=['new','old'],\n",
    "            palette=['green','red','blue']\n",
    "           )"
   ]
  },
  {
   "cell_type": "code",
   "execution_count": null,
   "metadata": {},
   "outputs": [],
   "source": []
  },
  {
   "cell_type": "code",
   "execution_count": null,
   "metadata": {},
   "outputs": [],
   "source": []
  },
  {
   "cell_type": "code",
   "execution_count": null,
   "metadata": {},
   "outputs": [],
   "source": []
  },
  {
   "cell_type": "code",
   "execution_count": null,
   "metadata": {},
   "outputs": [],
   "source": []
  },
  {
   "cell_type": "markdown",
   "metadata": {},
   "source": [
    "# Seaborn Relplot"
   ]
  },
  {
   "cell_type": "code",
   "execution_count": null,
   "metadata": {},
   "outputs": [],
   "source": [
    "#What is It?\n",
    "\n",
    "#1.Relplot stands for Relational Plot\n",
    "\n",
    "#2. It is built on the Seaborn relational plot Facet Grid\n",
    "\n",
    "#3. You largely have two options: (1) scatter plot and (2) line plot\n",
    "\n",
    "\n",
    "#When do you use it?\n",
    "\n",
    "#1. When you want more flexibility to build out or customize your scatterplot and line plots\n",
    "# using Seaborn Facet Grid\n"
   ]
  },
  {
   "cell_type": "code",
   "execution_count": null,
   "metadata": {},
   "outputs": [],
   "source": [
    "import seaborn as sns\n",
    "from matplotlib import pyplot as plt\n",
    "import numpy as np\n"
   ]
  },
  {
   "cell_type": "code",
   "execution_count": null,
   "metadata": {},
   "outputs": [],
   "source": [
    "df=sns.load_dataset('titanic')\n",
    "\n",
    "df.head()\n",
    "\n"
   ]
  },
  {
   "cell_type": "code",
   "execution_count": null,
   "metadata": {},
   "outputs": [],
   "source": [
    "#Create 'decade' - a new feature for df, which aggregates the age feature by 10 years\n",
    "# Basically an age group bucket\n",
    "\n",
    "df['decade'] = [x//10*10 for x in df.age] # or df['decade'] = [age//10*10 for age in df.age]\n",
    "\n",
    "df.head()"
   ]
  },
  {
   "cell_type": "code",
   "execution_count": null,
   "metadata": {},
   "outputs": [],
   "source": [
    "sns.set(style='darkgrid', font_scale=1.2)\n",
    "\n"
   ]
  },
  {
   "cell_type": "code",
   "execution_count": null,
   "metadata": {},
   "outputs": [],
   "source": [
    "#Feature definitions:\n",
    "\n",
    "#age: passenger age\n",
    "#fare: price paid by passenger to get on the Titanic\n",
    "#pclass: class of cabin paid for by passenger\n"
   ]
  },
  {
   "cell_type": "code",
   "execution_count": null,
   "metadata": {},
   "outputs": [],
   "source": [
    "#CASE 1: Work with Scatterplot\n",
    "\n",
    "#Create first relplot\n",
    "#reference Seaborn library and use relplot() function\n",
    "\n",
    "#Plot age on horizontal axis and fare on vertical axis\n",
    "\n",
    "sns.relplot(x= 'age', y='fare', data=df)\n"
   ]
  },
  {
   "cell_type": "code",
   "execution_count": null,
   "metadata": {},
   "outputs": [],
   "source": [
    "#Use class as a feature to breakout the data frame\n",
    "# to see if there is a difference for different cabin classes\n",
    "#Use the hue argument to breakout your data\n",
    "\n",
    "\n",
    "sns.relplot(x='age', y='fare',\n",
    "           data=df,\n",
    "           hue='pclass')"
   ]
  },
  {
   "cell_type": "code",
   "execution_count": null,
   "metadata": {},
   "outputs": [],
   "source": [
    "#The scatterplot above shows that:\n",
    "\n",
    "#1. There is a difference between what passengers paid for various cabins\n",
    "#2. Pasengers paid more for pclass=1 than pclass=3"
   ]
  },
  {
   "cell_type": "code",
   "execution_count": null,
   "metadata": {},
   "outputs": [],
   "source": [
    "#Use class as a feature to breakout the data frame\n",
    "# to see if there is a difference for different cabin classes\n",
    "#Use the hue argument to breakout your data\n",
    "#Use style to produce different markers for the hue value \n",
    "\n",
    "\n",
    "sns.relplot(x='age', y='fare',\n",
    "           data=df,\n",
    "           hue='pclass',\n",
    "           style='pclass')"
   ]
  },
  {
   "cell_type": "code",
   "execution_count": null,
   "metadata": {},
   "outputs": [],
   "source": [
    "#Use class as a feature to breakout the data frame\n",
    "# to see if there is a difference for different cabin classes\n",
    "#Use the hue argument to breakout your data\n",
    "#Use style to produce different markers for the hue value \n",
    "\n",
    "\n",
    "sns.relplot(x='age', y='fare',\n",
    "           data=df,\n",
    "           hue='pclass',\n",
    "           style='pclass',\n",
    "           size='pclass')"
   ]
  },
  {
   "cell_type": "code",
   "execution_count": null,
   "metadata": {},
   "outputs": [],
   "source": [
    "#CASE 2: Work with Lineplots\n",
    "\n",
    "#Use the kind argument to switch between scatterplot and lineplot\n",
    "#Note that scatterplots are Seaborn's default for relplots\n",
    "\n",
    "sns.relplot(x='age',y='fare',data=df,\n",
    "           kind='line')"
   ]
  },
  {
   "cell_type": "code",
   "execution_count": null,
   "metadata": {},
   "outputs": [],
   "source": [
    "#Seaborn aggregates the passengers based on feature age\n",
    "# and plots the mean value of feature fare\n",
    "\n",
    "#The chart above shows a lot of variance (or volatility), which we \n",
    "# can smooth out by decreasing the granularity inherent in the age feature"
   ]
  },
  {
   "cell_type": "code",
   "execution_count": null,
   "metadata": {},
   "outputs": [],
   "source": [
    "#To smooth out the lineplot, we can aggregate based on \n",
    "# feature decade, rather than age\n",
    "\n",
    "sns.relplot(x='decade',y='fare',data=df,\n",
    "           kind='line')\n"
   ]
  },
  {
   "cell_type": "code",
   "execution_count": null,
   "metadata": {},
   "outputs": [],
   "source": [
    "#To smooth out the lineplot, we can aggregate based on \n",
    "# feature decade, rather than age\n",
    "\n",
    "sns.relplot(x='decade',y='fare',data=df[df<60.decade.isin(['20,40,60']),\n",
    "           kind='line')"
   ]
  },
  {
   "cell_type": "code",
   "execution_count": null,
   "metadata": {},
   "outputs": [],
   "source": [
    "#To smooth out the lineplot, we can aggregate based on \n",
    "# feature decade, rather than age\n",
    "#Plot the fare-decade relationship for nearest decade less than 60\n",
    "\n",
    "sns.relplot(x='decade',y='fare',data=df[df.decade<60],\n",
    "           kind='line')"
   ]
  },
  {
   "cell_type": "code",
   "execution_count": null,
   "metadata": {},
   "outputs": [],
   "source": [
    "#To smooth out the lineplot, we can aggregate based on \n",
    "# feature decade, rather than age\n",
    "\n",
    "sns.relplot(x='decade',y='fare',data=df,\n",
    "           kind='line')"
   ]
  },
  {
   "cell_type": "code",
   "execution_count": null,
   "metadata": {},
   "outputs": [],
   "source": [
    "#The line plot above shows that younger people (age in lower decaded) paid \n",
    "# lower fares than older people(age in higher decades)"
   ]
  },
  {
   "cell_type": "code",
   "execution_count": null,
   "metadata": {},
   "outputs": [],
   "source": [
    "#We can breakout the chart by class of cabin (pclass)\n",
    "\n",
    "sns.relplot(x='decade',y='fare',data=df,\n",
    "           kind='line',\n",
    "           hue='pclass')"
   ]
  },
  {
   "cell_type": "code",
   "execution_count": null,
   "metadata": {},
   "outputs": [],
   "source": [
    "#The chart above shows that passengers in pclass=3 paid lower fares than\n",
    "# passengers in pclass=2 and passengers in pclass=2"
   ]
  },
  {
   "cell_type": "code",
   "execution_count": null,
   "metadata": {},
   "outputs": [],
   "source": [
    "#We can breakout the chart by class of cabin (pclass)\n",
    "#Change the type of marker used for the hue argument (pclass)\n",
    "\n",
    "sns.relplot(x='decade',y='fare',data=df,\n",
    "           kind='line',\n",
    "           hue='pclass',\n",
    "           style='pclass')"
   ]
  },
  {
   "cell_type": "code",
   "execution_count": null,
   "metadata": {},
   "outputs": [],
   "source": [
    "#We can create multiple scatterplot charts on a \n",
    "# single row by using the col argument\n",
    "\n",
    "# Facet Grid the chart by a single row:\n",
    "\n",
    "\n",
    "sns.relplot(x='age', y='fare',\n",
    "           data=df,\n",
    "           col='pclass')"
   ]
  },
  {
   "cell_type": "code",
   "execution_count": null,
   "metadata": {},
   "outputs": [],
   "source": [
    "#We can see that \n",
    "\n",
    "#1. passengers in Pclass=1 are paying above 100 compared with \n",
    "#passengers in pclass=2 and pclass = 1 that are paying less than 100\n",
    "\n",
    "#2. Passengers in pclass=1 paid a varied array of fares compared with \n",
    "# passengers in pclass= 2 and pclass=3, who appear to have paid more subdued fares"
   ]
  },
  {
   "cell_type": "code",
   "execution_count": null,
   "metadata": {},
   "outputs": [],
   "source": [
    "#We can create multiple scatterplot charts on a \n",
    "# single col by using the row argument\n",
    "\n",
    "# Facet Grid the chart by a single column:\n",
    "\n",
    "\n",
    "sns.relplot(x='age', y='fare',\n",
    "           data=df,\n",
    "           row='pclass')"
   ]
  },
  {
   "cell_type": "code",
   "execution_count": null,
   "metadata": {},
   "outputs": [],
   "source": [
    "#We can also create multiple lineplot charts on a \n",
    "#single col by using the row argument\n",
    "\n",
    "# Facet Grid the chart by a single column:\n",
    "\n",
    "\n",
    "sns.relplot(x='decade', y='fare',\n",
    "           data=df,\n",
    "            kind='line',\n",
    "           row='pclass')"
   ]
  },
  {
   "cell_type": "code",
   "execution_count": null,
   "metadata": {},
   "outputs": [],
   "source": [
    "#We can also create multiple lineplot charts on a \n",
    "#single col by using the row argument\n",
    "\n",
    "# Facet Grid the chart by a single column:\n",
    "\n",
    "\n",
    "sns.relplot(x='decade', y='fare',\n",
    "           data=df,\n",
    "            kind='line',\n",
    "           col='pclass')"
   ]
  },
  {
   "cell_type": "code",
   "execution_count": null,
   "metadata": {},
   "outputs": [],
   "source": [
    "#When we arange the charts in a single row, we get the \n",
    "# added benefit of being able to tell a story with the charts\n",
    "\n",
    "#What insights can we see from left to right or vice versa about the fares\n",
    "# paid by passengers in pclass=1 to pclass=3?"
   ]
  },
  {
   "cell_type": "code",
   "execution_count": null,
   "metadata": {},
   "outputs": [],
   "source": [
    "#If we want to arrange the charts by a categorical variable\n",
    "# with a lot of entries, we can use the col=wrap to wrap the charts\n",
    "\n",
    "\n",
    "sns.relplot(x='age', y='fare',\n",
    "           data=df,\n",
    "           col='deck')"
   ]
  },
  {
   "cell_type": "code",
   "execution_count": null,
   "metadata": {},
   "outputs": [],
   "source": [
    "#Since deck is a feature with 7 values/categories, \n",
    "# we can wrap the charts/facets - \n",
    "# similar to how we wrap text\n",
    "\n",
    "sns.relplot(x='age',y='fare',\n",
    "           data=df,\n",
    "           col='deck',\n",
    "           col_wrap=3)"
   ]
  },
  {
   "cell_type": "code",
   "execution_count": null,
   "metadata": {},
   "outputs": [],
   "source": [
    "#We can breakout the charts by another categorical features\n",
    "\n",
    "sns.relplot(x='age',y='fare',\n",
    "           data=df,\n",
    "           col='deck',\n",
    "            hue='survived',\n",
    "           col_wrap=3)"
   ]
  },
  {
   "cell_type": "code",
   "execution_count": null,
   "metadata": {},
   "outputs": [],
   "source": [
    "#We can breakout the charts by another categorical features\n",
    "\n",
    "sns.relplot(x='age',y='fare',\n",
    "           data=df,\n",
    "           col='pclass',\n",
    "            hue='survived',\n",
    "           )"
   ]
  },
  {
   "cell_type": "code",
   "execution_count": null,
   "metadata": {},
   "outputs": [],
   "source": [
    "#The charts above show that relatively more passengers in pclass=1\n",
    "# lived(survived=1), but paid relatively more than passengers \n",
    "# that did not (survived=0)"
   ]
  },
  {
   "cell_type": "code",
   "execution_count": null,
   "metadata": {},
   "outputs": [],
   "source": [
    "#Change size of dots\n",
    "#Use a different color palette\n",
    "\n",
    "sns.relplot(x='age',y='fare',\n",
    "           data=df,\n",
    "           col='pclass',\n",
    "            hue='survived',\n",
    "            s=150,\n",
    "            palette=['green','pink']\n",
    "        \n",
    "           )"
   ]
  },
  {
   "cell_type": "code",
   "execution_count": null,
   "metadata": {},
   "outputs": [],
   "source": [
    "#Change plt type to lineplot\n",
    "#Use a different color palette\n",
    "\n",
    "sns.relplot(x='decade',y='survived',\n",
    "           data=df[df.decade<70],\n",
    "           kind='line')"
   ]
  },
  {
   "cell_type": "code",
   "execution_count": null,
   "metadata": {},
   "outputs": [],
   "source": [
    "#Arrange plots on a single row\n",
    "#Use a different color palette\n",
    "\n",
    "sns.relplot(x='decade',y='survived',\n",
    "           data=df,\n",
    "           col='pclass',\n",
    "            kind='line')"
   ]
  },
  {
   "cell_type": "code",
   "execution_count": null,
   "metadata": {},
   "outputs": [],
   "source": [
    "#Breakout chart by another variable\n",
    "\n",
    "sns.relplot(x='decade',y='survived',\n",
    "           data=df[df.decade<70],\n",
    "            kind='line',\n",
    "            hue='sex',\n",
    "            ci=None\n",
    "           )"
   ]
  },
  {
   "cell_type": "code",
   "execution_count": null,
   "metadata": {},
   "outputs": [],
   "source": [
    "\n",
    "\n",
    "#work with the Facet Grid object returned by the relplot() function\n",
    "\n",
    "g=sns.relplot(x='decade',y='survived',\n",
    "           data=df[df.decade<70],\n",
    "            kind='line',\n",
    "            hue='sex',\n",
    "            ci=None\n",
    "           )\n",
    "\n",
    "#We can change the labels for the verical and horizontal axis\n",
    "\n",
    "g.set_xlabels('Passenger Age Group')\n",
    "g.set_ylabels('Percent Survived')"
   ]
  },
  {
   "cell_type": "code",
   "execution_count": null,
   "metadata": {},
   "outputs": [],
   "source": [
    "#work with the Facet Grid object returned by the relplot() function\n",
    "\n",
    "g=sns.relplot(x='decade',y='survived',\n",
    "           data=df[df.decade<70],\n",
    "            kind='line',\n",
    "            hue='sex',\n",
    "            col='pclass',\n",
    "            ci=None\n",
    "           )\n",
    "\n",
    "#We can change the labels for the verical and horizontal axis\n",
    "\n",
    "g.set_xlabels('Passenger Age Group')\n",
    "g.set_ylabels('Percent Survived')"
   ]
  },
  {
   "cell_type": "code",
   "execution_count": null,
   "metadata": {},
   "outputs": [],
   "source": [
    "#What insights can we get from the charts above?\n",
    "#What story can you tell reading the charts from left to right?"
   ]
  },
  {
   "cell_type": "code",
   "execution_count": null,
   "metadata": {},
   "outputs": [],
   "source": []
  },
  {
   "cell_type": "code",
   "execution_count": null,
   "metadata": {},
   "outputs": [],
   "source": []
  },
  {
   "cell_type": "code",
   "execution_count": null,
   "metadata": {},
   "outputs": [],
   "source": []
  },
  {
   "cell_type": "code",
   "execution_count": null,
   "metadata": {},
   "outputs": [],
   "source": []
  },
  {
   "cell_type": "code",
   "execution_count": null,
   "metadata": {},
   "outputs": [],
   "source": [
    "#Additional xkcd: color options\n",
    "\n",
    "'xkcd:red purple', 'xkcd:pale teal', 'xkcd:warm purple', 'xkcd:light forest green', 'xkcd:blue with a hint of purple'"
   ]
  },
  {
   "cell_type": "code",
   "execution_count": null,
   "metadata": {},
   "outputs": [],
   "source": []
  },
  {
   "cell_type": "code",
   "execution_count": null,
   "metadata": {},
   "outputs": [],
   "source": []
  },
  {
   "cell_type": "code",
   "execution_count": null,
   "metadata": {},
   "outputs": [],
   "source": []
  },
  {
   "cell_type": "code",
   "execution_count": null,
   "metadata": {},
   "outputs": [],
   "source": []
  },
  {
   "cell_type": "code",
   "execution_count": null,
   "metadata": {},
   "outputs": [],
   "source": []
  },
  {
   "cell_type": "code",
   "execution_count": null,
   "metadata": {},
   "outputs": [],
   "source": []
  },
  {
   "cell_type": "code",
   "execution_count": null,
   "metadata": {},
   "outputs": [],
   "source": []
  },
  {
   "cell_type": "code",
   "execution_count": null,
   "metadata": {},
   "outputs": [],
   "source": []
  },
  {
   "cell_type": "code",
   "execution_count": null,
   "metadata": {},
   "outputs": [],
   "source": []
  },
  {
   "cell_type": "code",
   "execution_count": null,
   "metadata": {},
   "outputs": [],
   "source": []
  },
  {
   "cell_type": "code",
   "execution_count": null,
   "metadata": {},
   "outputs": [],
   "source": []
  },
  {
   "cell_type": "markdown",
   "metadata": {},
   "source": [
    "# No Homework\n",
    "\n",
    "#Homework 4: Due October 14 , 2022\n",
    "\n",
    "Instructions:\n",
    "\n",
    "Include your name and student ID in the placeholders below\n",
    "\n",
    "Follow the prompts (i.e. text beginning with #) in each cell to answer each question\n",
    "\n",
    "Start your homework by running the code from the beginning of the homework i.e. the setup section\n",
    "\n",
    "You can try to confirm your answer by running each cell\n",
    "\n",
    "Remember each question is for one point\n",
    "\n",
    "Remember to SAVE YOUR WORK\n",
    "\n",
    "Upload your completed Jupyter notebook to Canvas before or on the due date"
   ]
  },
  {
   "cell_type": "code",
   "execution_count": null,
   "metadata": {},
   "outputs": [],
   "source": []
  },
  {
   "cell_type": "code",
   "execution_count": null,
   "metadata": {},
   "outputs": [],
   "source": []
  },
  {
   "cell_type": "code",
   "execution_count": null,
   "metadata": {},
   "outputs": [],
   "source": []
  },
  {
   "cell_type": "code",
   "execution_count": null,
   "metadata": {},
   "outputs": [],
   "source": []
  },
  {
   "cell_type": "code",
   "execution_count": null,
   "metadata": {},
   "outputs": [],
   "source": []
  }
 ],
 "metadata": {
  "kernelspec": {
   "display_name": "Python 3 (ipykernel)",
   "language": "python",
   "name": "python3"
  },
  "language_info": {
   "codemirror_mode": {
    "name": "ipython",
    "version": 3
   },
   "file_extension": ".py",
   "mimetype": "text/x-python",
   "name": "python",
   "nbconvert_exporter": "python",
   "pygments_lexer": "ipython3",
   "version": "3.9.12"
  }
 },
 "nbformat": 4,
 "nbformat_minor": 4
}
