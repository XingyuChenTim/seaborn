{
 "cells": [
  {
   "cell_type": "markdown",
   "metadata": {},
   "source": [
    "# Week 13, Day 1 - ECDF Plot"
   ]
  },
  {
   "cell_type": "markdown",
   "metadata": {},
   "source": [
    "#What is it?:\n",
    "\n",
    "\n",
    "1. ECDF stands for Empirical Cumulative Distribution Function\n",
    "\n",
    "2. The Seaborn ECDF plot is a variable distribution plot. Like the displot, histplot and kdeplot, the ECDF plot allows you look at the distribution of your single numeric variables\n",
    "\n",
    "3. An ECDF represents the proportion or count of observations falling below each unique value in a dataset. \n",
    "\n",
    "Advantages of the ECDF plot include:\n",
    "\n",
    "1. No binning or smoothing done in generating the plot - we can see how much each observation is affecting the cumulative distribution plot\n",
    "\n",
    "2. With the ECDF, it is easier to compare category distributions - since we are just comparing lines across categories\n",
    "\n",
    "3. Compared to a histogram or density plot, it has the advantage that each observation is visualized directly, meaning that there are no binning or smoothing parameters that need to be adjusted. \n",
    "\n",
    "4. The ECDF aids direct comparisons between multiple distributions. \n",
    "\n",
    "Disadvantages of the ECDF plot include:\n",
    "\n",
    "1. We are no longer able to see the central tendencies - like median, mean of the distributions\n",
    "\n",
    "2. The dispersion of data around their mean (i.e. variance) is harder to detect with ECDF plots\n",
    "\n",
    "3. Unlike the case of the kdeplot, it is harder to detect when we have bi-modality for a variable\n",
    "\n",
    "4. A downside of the ECDF is that the relationship between the appearance of the plot and the basic properties of the distribution (such as its central tendency, variance, and the presence of any bimodality) may not be as intuitive.\n",
    "\n",
    "\n"
   ]
  },
  {
   "cell_type": "code",
   "execution_count": null,
   "metadata": {},
   "outputs": [],
   "source": [
    "import seaborn as sns\n",
    "\n",
    "from matplotlib import pyplot as plt\n",
    "\n",
    "import numpy as np\n"
   ]
  },
  {
   "cell_type": "code",
   "execution_count": null,
   "metadata": {},
   "outputs": [],
   "source": [
    "tips= sns.load_dataset('tips')"
   ]
  },
  {
   "cell_type": "code",
   "execution_count": null,
   "metadata": {},
   "outputs": [],
   "source": [
    "tips.head()"
   ]
  },
  {
   "cell_type": "code",
   "execution_count": null,
   "metadata": {},
   "outputs": [],
   "source": [
    "tips.shape"
   ]
  },
  {
   "cell_type": "code",
   "execution_count": null,
   "metadata": {},
   "outputs": [],
   "source": []
  },
  {
   "cell_type": "code",
   "execution_count": null,
   "metadata": {},
   "outputs": [],
   "source": [
    "sns.set_style('darkgrid')"
   ]
  },
  {
   "cell_type": "code",
   "execution_count": null,
   "metadata": {},
   "outputs": [],
   "source": [
    "sns.ecdfplot(x='tip', data=tips)"
   ]
  },
  {
   "cell_type": "code",
   "execution_count": null,
   "metadata": {},
   "outputs": [],
   "source": [
    "#The horizontal axis shows the values for the tip feature\n",
    "\n",
    "#The vertical axis (proportion axis) \n",
    "#shows the proportion of data we have seen so far reading from left to right\n",
    "# on the horizontal axis\n",
    "\n",
    "#So for example, at the $4 tip level, it appears we have seen 80% (0.8)\n",
    "# of the entire observation for the tip variable.Furthermore, at tip value $10\n",
    "# we note that we have seen 100% (1.0) of the observations in the variable tip"
   ]
  },
  {
   "cell_type": "code",
   "execution_count": null,
   "metadata": {},
   "outputs": [],
   "source": [
    "tips.tip.min()"
   ]
  },
  {
   "cell_type": "code",
   "execution_count": null,
   "metadata": {},
   "outputs": [],
   "source": [
    "tips.tip.max()"
   ]
  },
  {
   "cell_type": "code",
   "execution_count": null,
   "metadata": {},
   "outputs": [],
   "source": [
    "#Your ECDF plot will range between the min value and max value of \n",
    "#whatever variable you plot"
   ]
  },
  {
   "cell_type": "code",
   "execution_count": null,
   "metadata": {},
   "outputs": [],
   "source": [
    "#The vertical lines (e.g at tip=2) suggest the concentration of data \n",
    "# (or large proportion) of that value for the variable\n",
    "\n",
    "tips.tip.value_counts().head()"
   ]
  },
  {
   "cell_type": "code",
   "execution_count": null,
   "metadata": {},
   "outputs": [],
   "source": [
    "#We notice that 2 is a high proportion of the observations for \n",
    "# the tip variable\n",
    "\n",
    "#Vertical jumps indicate that a lot of observations at that particular value\n"
   ]
  },
  {
   "cell_type": "code",
   "execution_count": null,
   "metadata": {},
   "outputs": [],
   "source": [
    "#We can use the ECDF plot and a vertical line to see what proportion of\n",
    "# the variable are below or above a particular value\n",
    "\n",
    "\n",
    "sns.ecdfplot(x='tip', data=tips)\n",
    "plt.axvline(4, c='red')\n"
   ]
  },
  {
   "cell_type": "code",
   "execution_count": null,
   "metadata": {},
   "outputs": [],
   "source": [
    "#From the chart above, we can see that at value tip=4, we have seen 80% of the observations\n",
    "# for the variable tip \n",
    "\n",
    "# 80% of the observations are below tip=4 \n",
    "# and 20% of the observations are above tip=4\n",
    "\n",
    "\n",
    "#We can also see that when tip=10, we have seen 100% of the observations\n",
    "# in the variable"
   ]
  },
  {
   "cell_type": "code",
   "execution_count": null,
   "metadata": {},
   "outputs": [],
   "source": [
    "#We can tilt the chart so it plots on the vertical axis\n",
    "\n",
    "#We can then use the plt.axvline to show us percentile values\n",
    "\n",
    "sns.ecdfplot(y='tip', data=tips)\n",
    "plt.axvline(0.5, c='black')#Gives us the 50% percentile of the variable tip"
   ]
  },
  {
   "cell_type": "code",
   "execution_count": null,
   "metadata": {},
   "outputs": [],
   "source": [
    "tips.tip.median()"
   ]
  },
  {
   "cell_type": "code",
   "execution_count": null,
   "metadata": {},
   "outputs": [],
   "source": [
    "#We can tilt the chart so it plots on the vertical axis\n",
    "\n",
    "#We can then use the plt.axvline to show us percentile values\n",
    "\n",
    "sns.ecdfplot(y='tip', data=tips)\n",
    "plt.axvline(0.9, c='black')#Gives us the 90% percentile of the variable tip"
   ]
  },
  {
   "cell_type": "code",
   "execution_count": null,
   "metadata": {},
   "outputs": [],
   "source": [
    "#Using hue to condition your ECDF plot on a categorical variable\n",
    "\n",
    "sns.ecdfplot(x='tip', data=tips, hue='time')"
   ]
  },
  {
   "cell_type": "code",
   "execution_count": null,
   "metadata": {},
   "outputs": [],
   "source": [
    "#The chart above gives us a sense of the following:\n",
    "\n",
    "#1. minimum and maximum values for the variable on the horizontal axis\n",
    "#2. what category has relatively larger proportion of values for each value of the variable on the horizontal axis\n",
    "#3. what category has relatively larger values for the plotted variable within a range \n",
    "\n",
    "\n",
    "#Overall, we see that the tip values from time=Dinner appear to be relatively greater\n",
    "#than total tips from time=Lunch at least from tip >2\n",
    "\n",
    "#We also observe that when tip > 2 and tip < 4, time=Lunch has a relatively larger proportion \n",
    "# of observations for tip in the data than time=Dinner \n",
    "\n",
    "#When tip >2 and tip <4, time=Dinner has relatively larger values for tip than time=Lunch"
   ]
  },
  {
   "cell_type": "code",
   "execution_count": null,
   "metadata": {},
   "outputs": [],
   "source": [
    "#Use hue to condition your ECDF plot on a categorical variable\n",
    "\n",
    "sns.ecdfplot(x='tip', data=tips, hue='day')"
   ]
  },
  {
   "cell_type": "code",
   "execution_count": null,
   "metadata": {},
   "outputs": [],
   "source": [
    "#We see that overall, the tips on day=Sun appear to be larger than when day=Thur for tip < 4\n",
    "#Can we infer that day=Sat appears to be when we have the largest proportion of tips for tip > 7?\n"
   ]
  },
  {
   "cell_type": "code",
   "execution_count": null,
   "metadata": {},
   "outputs": [],
   "source": [
    "#We can switch from proportion to count on the vertical axis\n",
    "#Use the stat= argument to switch from proportion to count\n",
    "\n",
    "sns.ecdfplot(x='tip', data=tips, stat='count', hue='day')"
   ]
  },
  {
   "cell_type": "code",
   "execution_count": null,
   "metadata": {},
   "outputs": [],
   "source": [
    "#The count is giving you how many observations we have seen so far for \n",
    "#each value of the variable on the horizontal axis, \n",
    "# per category (if you condition on a categorical variable)\n",
    "\n",
    "\n",
    "#So when tip=4, we have seen less than 20 tip observations for day = Fri\n",
    "\n",
    "#when tip=4, we have seen more than 70 tip observations for day = Sat\n",
    "\n",
    "#When tip = 10, we have seen over 80 tip observations for day = Sat\n",
    "\n",
    "#When tip = 6, we have seen more than 80 tip observations for day = Sat, between 70 and 80 observations for day = Sun\n",
    "# and slightly more than 60 observations for day = Thur\n",
    "\n",
    "\n",
    "#We also note that when tip is between 2 and 4, there appears to be more tip observations for day = Sat\n",
    "#than any other category of day. This is also the case when tip is between 4 and 6"
   ]
  },
  {
   "cell_type": "code",
   "execution_count": null,
   "metadata": {},
   "outputs": [],
   "source": [
    "sns.ecdfplot(x='tip', data=tips)\n",
    "plt.axhline(0.5, c='red')"
   ]
  },
  {
   "cell_type": "code",
   "execution_count": null,
   "metadata": {},
   "outputs": [],
   "source": [
    "#We see above that when proportion is 50%, the value of tip is about $3\n",
    "\n",
    "\n",
    "#So we can see that 50% of the observations for tip is at or below $3"
   ]
  },
  {
   "cell_type": "code",
   "execution_count": null,
   "metadata": {},
   "outputs": [],
   "source": [
    "#Styling your ECDF plot\n",
    "\n"
   ]
  },
  {
   "cell_type": "code",
   "execution_count": null,
   "metadata": {},
   "outputs": [],
   "source": [
    "# Change the color palette for your ECDF plot\n",
    "\n",
    "sns.ecdfplot(x='tip', data=tips, hue='day', palette='summer')"
   ]
  },
  {
   "cell_type": "code",
   "execution_count": null,
   "metadata": {},
   "outputs": [],
   "source": [
    "#Change the line width - make it thicker\n",
    "\n",
    "sns.ecdfplot(x='tip', data=tips, hue='day', palette='summer', lw=3)"
   ]
  },
  {
   "cell_type": "code",
   "execution_count": null,
   "metadata": {},
   "outputs": [],
   "source": [
    "import pandas as pd\n",
    "import seaborn as sns\n",
    "import numpy as np\n",
    "from matplotlib import pyplot as plt\n",
    "import matplotlib\n",
    "Wage_data = pd.read_csv(\"https://vincentarelbundock.github.io/Rdatasets/csv/AER/CPS1985.csv\", index_col=0).dropna()\n",
    "Wage_data.head()"
   ]
  },
  {
   "cell_type": "code",
   "execution_count": null,
   "metadata": {},
   "outputs": [],
   "source": [
    "#Plot an ECDF for the wage feature and use a horizontal line to indicate the 50th percentile\n",
    "#Break out the chart by ethnicity\n",
    "\n",
    "sns.ecdfplot(x='wage', data=Wage_data,hue='ethnicity', palette='summer', stat='count')\n",
    "plt.axhline(250, c='black')\n",
    "plt.axvline(10, c='black')"
   ]
  },
  {
   "cell_type": "code",
   "execution_count": null,
   "metadata": {},
   "outputs": [],
   "source": [
    "#Questions:\n",
    "\n",
    "#1. Overall, is it clear which ethnicity has the largest proportion of wages?\n",
    "\n",
    "#2. At the 50% line, which ethnicity appears to have the largest proportion of wages?"
   ]
  },
  {
   "cell_type": "code",
   "execution_count": null,
   "metadata": {},
   "outputs": [],
   "source": [
    "#Break out the chart by ethnicity\n",
    "\n",
    "sns.ecdfplot(x='wage', data=Wage_data, hue='ethnicity', palette='summer')\n",
    "plt.axhline(0.85, c='red')"
   ]
  },
  {
   "cell_type": "code",
   "execution_count": null,
   "metadata": {},
   "outputs": [],
   "source": [
    "#2. At the 85% line, which ethnicity has larger wages?"
   ]
  },
  {
   "cell_type": "code",
   "execution_count": null,
   "metadata": {},
   "outputs": [],
   "source": [
    "#Break out the chart by ethnicity and apply a line at wage =10 and proportion = 85%\n",
    "\n",
    "sns.ecdfplot(x='wage', data=Wage_data, hue='ethnicity', palette='summer')\n",
    "plt.axvline(10, c='red')\n",
    "plt.axhline(0.85, c='red')"
   ]
  },
  {
   "cell_type": "code",
   "execution_count": null,
   "metadata": {},
   "outputs": [],
   "source": [
    "#Questions\n",
    "\n",
    "#1. What insights can we draw about the distribution of the wage variable in the bottom left part of the chart?\n",
    "#2. what insights can we draw from the top-right part of the chart above?\n",
    "#3. What insights can we draw about the bottom-right part of the chart above?"
   ]
  },
  {
   "cell_type": "code",
   "execution_count": null,
   "metadata": {},
   "outputs": [],
   "source": [
    "#Break out the chart by region and apply a line at wage =10 and proportion = 85%\n",
    "\n",
    "sns.ecdfplot(x='wage', data=Wage_data, hue='region', palette='summer')\n",
    "plt.axvline(10, c='red')\n",
    "plt.axhline(0.85, c='red')"
   ]
  },
  {
   "cell_type": "code",
   "execution_count": null,
   "metadata": {},
   "outputs": [],
   "source": [
    "#Questions\n",
    "\n",
    "#1. What insights can we draw about the distribution of the wage variable in the bottom left part of the chart?\n",
    "#2. what insights can we draw from the top-right part of the chart above?\n",
    "#3. What insights can we draw about the bottom-right part of the chart above?\n",
    "#4. Overall what can we conclude about the variable wage when examined by region?"
   ]
  },
  {
   "cell_type": "code",
   "execution_count": null,
   "metadata": {},
   "outputs": [],
   "source": [
    "#Build an ECDF of the education feature\n",
    "\n",
    "#Break out the chart by gender and apply a line at wage =20 and proportion = 70%\n",
    "\n",
    "sns.ecdfplot(x='education', data=Wage_data, hue='gender', palette='summer')\n",
    "plt.axvline(20, c='red')\n",
    "plt.axhline(0.70, c='red')"
   ]
  },
  {
   "cell_type": "code",
   "execution_count": null,
   "metadata": {},
   "outputs": [],
   "source": [
    "#What insights can we draw about the distribution of the education variable from the chart above?\n",
    "\n"
   ]
  },
  {
   "cell_type": "code",
   "execution_count": null,
   "metadata": {},
   "outputs": [],
   "source": [
    "#Day 2 - \n",
    "\n",
    "#Build an ECDF plot for the education variable\n",
    "#Choose 'count' rather than the default 'proportion' as the statistic to display\n",
    "\n",
    "#Break out the chart by gender \n",
    "\n",
    "sns.ecdfplot(x='education', data=Wage_data, hue='gender', stat='count')\n"
   ]
  },
  {
   "cell_type": "code",
   "execution_count": null,
   "metadata": {},
   "outputs": [],
   "source": [
    "#What is clear about the chart above when education = 12?\n",
    "\n",
    "#Overall, what gender value arguably has relatively larger observations for the education feature?Is it clear from the chart?\n",
    "\n",
    "#When education < 12, which gender value appears to have relatively larger observations for the education feature?\n",
    "\n",
    "#When education is > 12 and <18, what can we infer about which gender value has larger observations for education?\n",
    "\n",
    "#When education = 12, what gender value has a larger count of observations?\n",
    "\n"
   ]
  },
  {
   "cell_type": "code",
   "execution_count": null,
   "metadata": {},
   "outputs": [],
   "source": [
    "#Build an ECDF of the experience feature and show the proportion of observations\n",
    "\n",
    "\n",
    "\n",
    "sns.ecdfplot(x='experience', data=Wage_data, hue='gender', palette='winter')\n"
   ]
  },
  {
   "cell_type": "code",
   "execution_count": null,
   "metadata": {},
   "outputs": [],
   "source": [
    "#Break out the chart by gender and apply a line at wage =20 and proportion = 70%\n",
    "\n",
    "sns.ecdfplot(x='experience', data=Wage_data, hue='gender', palette='winter')\n",
    "plt.axvline(20, c='red')\n",
    "plt.axhline(0.70, c='red')"
   ]
  },
  {
   "cell_type": "code",
   "execution_count": 12,
   "metadata": {},
   "outputs": [
    {
     "data": {
      "text/html": [
       "<div>\n",
       "<style scoped>\n",
       "    .dataframe tbody tr th:only-of-type {\n",
       "        vertical-align: middle;\n",
       "    }\n",
       "\n",
       "    .dataframe tbody tr th {\n",
       "        vertical-align: top;\n",
       "    }\n",
       "\n",
       "    .dataframe thead th {\n",
       "        text-align: right;\n",
       "    }\n",
       "</style>\n",
       "<table border=\"1\" class=\"dataframe\">\n",
       "  <thead>\n",
       "    <tr style=\"text-align: right;\">\n",
       "      <th></th>\n",
       "      <th>visits</th>\n",
       "      <th>exposure</th>\n",
       "      <th>children</th>\n",
       "      <th>age</th>\n",
       "      <th>income</th>\n",
       "      <th>health1</th>\n",
       "      <th>health2</th>\n",
       "      <th>access</th>\n",
       "      <th>married</th>\n",
       "      <th>gender</th>\n",
       "      <th>ethnicity</th>\n",
       "      <th>school</th>\n",
       "      <th>enroll</th>\n",
       "      <th>program</th>\n",
       "    </tr>\n",
       "  </thead>\n",
       "  <tbody>\n",
       "    <tr>\n",
       "      <th>1</th>\n",
       "      <td>0</td>\n",
       "      <td>100</td>\n",
       "      <td>1</td>\n",
       "      <td>24</td>\n",
       "      <td>14.500</td>\n",
       "      <td>0.495</td>\n",
       "      <td>-0.854</td>\n",
       "      <td>0.50</td>\n",
       "      <td>no</td>\n",
       "      <td>female</td>\n",
       "      <td>cauc</td>\n",
       "      <td>13</td>\n",
       "      <td>yes</td>\n",
       "      <td>afdc</td>\n",
       "    </tr>\n",
       "    <tr>\n",
       "      <th>2</th>\n",
       "      <td>1</td>\n",
       "      <td>90</td>\n",
       "      <td>3</td>\n",
       "      <td>19</td>\n",
       "      <td>6.000</td>\n",
       "      <td>0.520</td>\n",
       "      <td>-0.969</td>\n",
       "      <td>0.17</td>\n",
       "      <td>no</td>\n",
       "      <td>female</td>\n",
       "      <td>cauc</td>\n",
       "      <td>11</td>\n",
       "      <td>yes</td>\n",
       "      <td>afdc</td>\n",
       "    </tr>\n",
       "    <tr>\n",
       "      <th>3</th>\n",
       "      <td>0</td>\n",
       "      <td>106</td>\n",
       "      <td>4</td>\n",
       "      <td>17</td>\n",
       "      <td>8.377</td>\n",
       "      <td>-1.227</td>\n",
       "      <td>0.317</td>\n",
       "      <td>0.42</td>\n",
       "      <td>no</td>\n",
       "      <td>female</td>\n",
       "      <td>cauc</td>\n",
       "      <td>12</td>\n",
       "      <td>yes</td>\n",
       "      <td>afdc</td>\n",
       "    </tr>\n",
       "    <tr>\n",
       "      <th>4</th>\n",
       "      <td>0</td>\n",
       "      <td>114</td>\n",
       "      <td>2</td>\n",
       "      <td>29</td>\n",
       "      <td>6.000</td>\n",
       "      <td>-1.524</td>\n",
       "      <td>0.457</td>\n",
       "      <td>0.33</td>\n",
       "      <td>no</td>\n",
       "      <td>female</td>\n",
       "      <td>cauc</td>\n",
       "      <td>12</td>\n",
       "      <td>yes</td>\n",
       "      <td>afdc</td>\n",
       "    </tr>\n",
       "    <tr>\n",
       "      <th>5</th>\n",
       "      <td>11</td>\n",
       "      <td>115</td>\n",
       "      <td>1</td>\n",
       "      <td>26</td>\n",
       "      <td>8.500</td>\n",
       "      <td>0.173</td>\n",
       "      <td>-0.599</td>\n",
       "      <td>0.67</td>\n",
       "      <td>no</td>\n",
       "      <td>female</td>\n",
       "      <td>cauc</td>\n",
       "      <td>16</td>\n",
       "      <td>yes</td>\n",
       "      <td>afdc</td>\n",
       "    </tr>\n",
       "  </tbody>\n",
       "</table>\n",
       "</div>"
      ],
      "text/plain": [
       "   visits  exposure  children  age  income  health1  health2  access married  \\\n",
       "1       0       100         1   24  14.500    0.495   -0.854    0.50      no   \n",
       "2       1        90         3   19   6.000    0.520   -0.969    0.17      no   \n",
       "3       0       106         4   17   8.377   -1.227    0.317    0.42      no   \n",
       "4       0       114         2   29   6.000   -1.524    0.457    0.33      no   \n",
       "5      11       115         1   26   8.500    0.173   -0.599    0.67      no   \n",
       "\n",
       "   gender ethnicity  school enroll program  \n",
       "1  female      cauc      13    yes    afdc  \n",
       "2  female      cauc      11    yes    afdc  \n",
       "3  female      cauc      12    yes    afdc  \n",
       "4  female      cauc      12    yes    afdc  \n",
       "5  female      cauc      16    yes    afdc  "
      ]
     },
     "execution_count": 12,
     "metadata": {},
     "output_type": "execute_result"
    }
   ],
   "source": [
    "import pandas as pd\n",
    "import seaborn as sns\n",
    "import numpy as np\n",
    "from matplotlib import pyplot as plt\n",
    "import matplotlib\n",
    "Medicaid_data = pd.read_csv(\"https://vincentarelbundock.github.io/Rdatasets/csv/AER/Medicaid1986.csv\", index_col=0).dropna()\n",
    "Medicaid_data.head()"
   ]
  },
  {
   "cell_type": "code",
   "execution_count": null,
   "metadata": {},
   "outputs": [],
   "source": [
    "#Variable Definitions\n",
    "\n",
    "Medicaid Utilization Data\n",
    "Description\n",
    "Cross-section data originating from the 1986 Medicaid Consumer Survey. The data comprise two groups of Medicaid eligibles at two sites in California (Santa Barbara and Ventura counties): a group enrolled in a managed care demonstration program and a fee-for-service comparison group of non-enrollees.\n",
    "\n",
    "Usage\n",
    "data(\"Medicaid1986\")\n",
    "Format\n",
    "A data frame containing 996 observations on 14 variables.\n",
    "\n",
    "visits\n",
    "Number of doctor visits.\n",
    "\n",
    "exposure\n",
    "Length of observation period for ambulatory care (days).\n",
    "\n",
    "children\n",
    "Total number of children in the household.\n",
    "\n",
    "age\n",
    "Age of the respondent.\n",
    "\n",
    "income\n",
    "Annual household income (average of income range in million USD).\n",
    "\n",
    "health1\n",
    "The first principal component (divided by 1000) of three health-status variables: functional limitations, acute conditions, and chronic conditions.\n",
    "\n",
    "health2\n",
    "The second principal component (divided by 1000) of three health-status variables: functional limitations, acute conditions, and chronic conditions.\n",
    "\n",
    "access\n",
    "Availability of health services (0 = low access, 1 = high access).\n",
    "\n",
    "married\n",
    "Factor. Is the individual married?\n",
    "\n",
    "gender\n",
    "Factor indicating gender.\n",
    "\n",
    "ethnicity\n",
    "Factor indicating ethnicity (\"cauc\" or \"other\").\n",
    "\n",
    "school\n",
    "Number of years completed in school.\n",
    "\n",
    "enroll\n",
    "Factor. Is the individual enrolled in a demonstration program?\n",
    "\n",
    "program\n",
    "Factor indicating the managed care demonstration program: Aid to Families with Dependent Children (\"afdc\") or non-institutionalized Supplementary Security Income (\"ssi\")."
   ]
  },
  {
   "cell_type": "code",
   "execution_count": 13,
   "metadata": {},
   "outputs": [
    {
     "data": {
      "text/plain": [
       "<AxesSubplot:xlabel='income', ylabel='Proportion'>"
      ]
     },
     "execution_count": 13,
     "metadata": {},
     "output_type": "execute_result"
    },
    {
     "data": {
      "image/png": "[encoded data removed]",
      "text/plain": [
       "<Figure size 432x288 with 1 Axes>"
      ]
     },
     "metadata": {
      "needs_background": "light"
     },
     "output_type": "display_data"
    }
   ],
   "source": [
    "#Build an ECDF plot to examine the income feature\n",
    "#Use palette = winter as color scheme\n",
    "\n",
    "\n",
    "sns.ecdfplot(x='income', data=Medicaid_data,palette='winter')"
   ]
  },
  {
   "cell_type": "code",
   "execution_count": null,
   "metadata": {},
   "outputs": [],
   "source": [
    "#Class discussion:\n",
    "\n",
    "#In what range of values for income can we infer most observations are concentrated? Why?\n",
    "\n",
    "# Which of the following ranges has more observations: \n",
    "\n",
    "# 0.0 - 2.5\n",
    "# 2.5 - 5.0\n",
    "# 5.0 - 7.5\n",
    "# 7.5 - 12.5"
   ]
  },
  {
   "cell_type": "code",
   "execution_count": 16,
   "metadata": {},
   "outputs": [
    {
     "data": {
      "text/plain": [
       "<AxesSubplot:xlabel='income', ylabel='Proportion'>"
      ]
     },
     "execution_count": 16,
     "metadata": {},
     "output_type": "execute_result"
    },
    {
     "data": {
      "image/png": "[encoded data removed]",
      "text/plain": [
       "<Figure size 432x288 with 1 Axes>"
      ]
     },
     "metadata": {
      "needs_background": "light"
     },
     "output_type": "display_data"
    }
   ],
   "source": [
    "#Build an ECDF plot to examine the income feature\n",
    "\n",
    "#Break out the chart by the married categorical variable\n",
    "\n",
    "sns.ecdfplot(x='income', data=Medicaid_data, hue='married', palette='winter')\n"
   ]
  },
  {
   "cell_type": "code",
   "execution_count": null,
   "metadata": {},
   "outputs": [],
   "source": [
    "#Questions\n",
    "\n",
    "#1. In the range 5.0 - 10.0, what value of the married feature appears to have more observations?\n",
    "\n",
    "#2. In what range does married = yes appear to contribute more to the observations for income?\n"
   ]
  },
  {
   "cell_type": "code",
   "execution_count": 21,
   "metadata": {},
   "outputs": [
    {
     "data": {
      "text/plain": [
       "<matplotlib.lines.Line2D at 0x225b066c9d0>"
      ]
     },
     "execution_count": 21,
     "metadata": {},
     "output_type": "execute_result"
    },
    {
     "data": {
      "image/png": "[encoded data removed]",
      "text/plain": [
       "<Figure size 432x288 with 1 Axes>"
      ]
     },
     "metadata": {
      "needs_background": "light"
     },
     "output_type": "display_data"
    }
   ],
   "source": [
    "#Build an ECDF plot to examine the income feature\n",
    "\n",
    "#Break out the chart by the married categorical variable\n",
    "\n",
    "#Set a horizontal line at 50% proportion. Use red color for this horizontal line\n",
    "\n",
    "sns.ecdfplot(x='income', data=Medicaid_data, hue='married', palette='winter')\n",
    "\n",
    "plt.axhline(0.50, c='black')"
   ]
  },
  {
   "cell_type": "code",
   "execution_count": null,
   "metadata": {},
   "outputs": [],
   "source": [
    "#We can see that when we have observed 50% of the observations for the income attribute, we have only seen:\n",
    "\n",
    "#1. values below 7.5 for the income variable when married = no\n",
    "#2. values below 10.0 for the income variable when married = yes\n"
   ]
  },
  {
   "cell_type": "code",
   "execution_count": 22,
   "metadata": {},
   "outputs": [
    {
     "data": {
      "text/plain": [
       "<matplotlib.lines.Line2D at 0x225b0509370>"
      ]
     },
     "execution_count": 22,
     "metadata": {},
     "output_type": "execute_result"
    },
    {
     "data": {
      "image/png": "[encoded data removed]",
      "text/plain": [
       "<Figure size 432x288 with 1 Axes>"
      ]
     },
     "metadata": {
      "needs_background": "light"
     },
     "output_type": "display_data"
    }
   ],
   "source": [
    "#Build an ECDF plot to examine the income feature\n",
    "\n",
    "#Break out the chart by the married categorical variable\n",
    "\n",
    "#Set a horizontal line at 75% proportion. Use red color for this horizontal line\n",
    "\n",
    "sns.ecdfplot(x='income', data=Medicaid_data, hue='married', palette='winter')\n",
    "plt.axhline(0.75, c='red')"
   ]
  },
  {
   "cell_type": "code",
   "execution_count": null,
   "metadata": {},
   "outputs": [],
   "source": [
    "#When we have seen 75% of observations for the income variable, we have:\n",
    "\n",
    "#1. Not seen income values larger than 12.5 when married = yes\n",
    "#2, Not seen income values larger than 10.0 when married = no\n",
    "\n",
    "#The points above suggest that values beyond 12.5 are in the upper 25% of all observations for income\n",
    "# for both values of the categorical feature married"
   ]
  },
  {
   "cell_type": "code",
   "execution_count": 23,
   "metadata": {},
   "outputs": [
    {
     "data": {
      "text/plain": [
       "<matplotlib.lines.Line2D at 0x225b073a400>"
      ]
     },
     "execution_count": 23,
     "metadata": {},
     "output_type": "execute_result"
    },
    {
     "data": {
      "image/png": "[encoded data removed]",
      "text/plain": [
       "<Figure size 432x288 with 1 Axes>"
      ]
     },
     "metadata": {
      "needs_background": "light"
     },
     "output_type": "display_data"
    }
   ],
   "source": [
    "#Build an ECDF plot to examine the visits feature\n",
    "\n",
    "#Break out the chart by the married categorical variable\n",
    "\n",
    "#Set a horizontal line at 75% proportion. Use red color for this horizontal line\n",
    "\n",
    "sns.ecdfplot(x='visits', data=Medicaid_data, hue='married', palette='winter')\n",
    "plt.axhline(0.75, c='red')"
   ]
  },
  {
   "cell_type": "code",
   "execution_count": null,
   "metadata": {},
   "outputs": [],
   "source": [
    "#We can see that at 75% observations viewed:\n",
    "\n",
    "#1. Number of visits for both categories of the married feature is less than 10\n",
    "#2. The values of the visits feature appear to be similar for the most part across both categories for the married feature\n"
   ]
  },
  {
   "cell_type": "code",
   "execution_count": 24,
   "metadata": {},
   "outputs": [
    {
     "data": {
      "text/plain": [
       "<matplotlib.lines.Line2D at 0x225ae6892e0>"
      ]
     },
     "execution_count": 24,
     "metadata": {},
     "output_type": "execute_result"
    },
    {
     "data": {
      "image/png": "[encoded data removed]",
      "text/plain": [
       "<Figure size 432x288 with 1 Axes>"
      ]
     },
     "metadata": {
      "needs_background": "light"
     },
     "output_type": "display_data"
    }
   ],
   "source": [
    "#Build an ECDF plot to examine the visits feature\n",
    "\n",
    "#Break out the chart by the married categorical variable\n",
    "\n",
    "#Set a vertical line at visits = 10. Use red color for this horizontal line\n",
    "\n",
    "sns.ecdfplot(x='visits', data=Medicaid_data, hue='married', palette='winter')\n",
    "plt.axvline(10, c='red')"
   ]
  },
  {
   "cell_type": "code",
   "execution_count": null,
   "metadata": {},
   "outputs": [],
   "source": [
    "#At visits = 10, it appears we have witnessed close to 100% of the observations in the dataset\n",
    "#At what value of visits can we definitely say we have seen 100% of the observations in the dataset?"
   ]
  },
  {
   "cell_type": "code",
   "execution_count": null,
   "metadata": {},
   "outputs": [],
   "source": [
    "#Build an ECDF plot to examine the exposure feature\n",
    "\n",
    "#Break out the chart by the ethnicity categorical variable\n",
    "\n",
    "#Set a horizontal line at 75% proportion\n",
    "#Set a vertical line at the \n",
    "\n",
    "sns.ecdfplot(x='exposure', data=Medicaid_data, hue='ethnicity', palette='winter')\n",
    "plt.axhline(0.75, c='red')"
   ]
  },
  {
   "cell_type": "code",
   "execution_count": null,
   "metadata": {},
   "outputs": [],
   "source": []
  },
  {
   "cell_type": "code",
   "execution_count": 25,
   "metadata": {},
   "outputs": [
    {
     "data": {
      "text/html": [
       "<div>\n",
       "<style scoped>\n",
       "    .dataframe tbody tr th:only-of-type {\n",
       "        vertical-align: middle;\n",
       "    }\n",
       "\n",
       "    .dataframe tbody tr th {\n",
       "        vertical-align: top;\n",
       "    }\n",
       "\n",
       "    .dataframe thead th {\n",
       "        text-align: right;\n",
       "    }\n",
       "</style>\n",
       "<table border=\"1\" class=\"dataframe\">\n",
       "  <thead>\n",
       "    <tr style=\"text-align: right;\">\n",
       "      <th></th>\n",
       "      <th>gender</th>\n",
       "      <th>ethnicity</th>\n",
       "      <th>score</th>\n",
       "      <th>fcollege</th>\n",
       "      <th>mcollege</th>\n",
       "      <th>home</th>\n",
       "      <th>urban</th>\n",
       "      <th>unemp</th>\n",
       "      <th>wage</th>\n",
       "      <th>distance</th>\n",
       "      <th>tuition</th>\n",
       "      <th>education</th>\n",
       "      <th>income</th>\n",
       "      <th>region</th>\n",
       "    </tr>\n",
       "  </thead>\n",
       "  <tbody>\n",
       "    <tr>\n",
       "      <th>1</th>\n",
       "      <td>male</td>\n",
       "      <td>other</td>\n",
       "      <td>39.150002</td>\n",
       "      <td>yes</td>\n",
       "      <td>no</td>\n",
       "      <td>yes</td>\n",
       "      <td>yes</td>\n",
       "      <td>6.2</td>\n",
       "      <td>8.09</td>\n",
       "      <td>0.2</td>\n",
       "      <td>0.88915</td>\n",
       "      <td>12</td>\n",
       "      <td>high</td>\n",
       "      <td>other</td>\n",
       "    </tr>\n",
       "    <tr>\n",
       "      <th>2</th>\n",
       "      <td>female</td>\n",
       "      <td>other</td>\n",
       "      <td>48.869999</td>\n",
       "      <td>no</td>\n",
       "      <td>no</td>\n",
       "      <td>yes</td>\n",
       "      <td>yes</td>\n",
       "      <td>6.2</td>\n",
       "      <td>8.09</td>\n",
       "      <td>0.2</td>\n",
       "      <td>0.88915</td>\n",
       "      <td>12</td>\n",
       "      <td>low</td>\n",
       "      <td>other</td>\n",
       "    </tr>\n",
       "    <tr>\n",
       "      <th>3</th>\n",
       "      <td>male</td>\n",
       "      <td>other</td>\n",
       "      <td>48.740002</td>\n",
       "      <td>no</td>\n",
       "      <td>no</td>\n",
       "      <td>yes</td>\n",
       "      <td>yes</td>\n",
       "      <td>6.2</td>\n",
       "      <td>8.09</td>\n",
       "      <td>0.2</td>\n",
       "      <td>0.88915</td>\n",
       "      <td>12</td>\n",
       "      <td>low</td>\n",
       "      <td>other</td>\n",
       "    </tr>\n",
       "    <tr>\n",
       "      <th>4</th>\n",
       "      <td>male</td>\n",
       "      <td>afam</td>\n",
       "      <td>40.400002</td>\n",
       "      <td>no</td>\n",
       "      <td>no</td>\n",
       "      <td>yes</td>\n",
       "      <td>yes</td>\n",
       "      <td>6.2</td>\n",
       "      <td>8.09</td>\n",
       "      <td>0.2</td>\n",
       "      <td>0.88915</td>\n",
       "      <td>12</td>\n",
       "      <td>low</td>\n",
       "      <td>other</td>\n",
       "    </tr>\n",
       "    <tr>\n",
       "      <th>5</th>\n",
       "      <td>female</td>\n",
       "      <td>other</td>\n",
       "      <td>40.480000</td>\n",
       "      <td>no</td>\n",
       "      <td>no</td>\n",
       "      <td>no</td>\n",
       "      <td>yes</td>\n",
       "      <td>5.6</td>\n",
       "      <td>8.09</td>\n",
       "      <td>0.4</td>\n",
       "      <td>0.88915</td>\n",
       "      <td>13</td>\n",
       "      <td>low</td>\n",
       "      <td>other</td>\n",
       "    </tr>\n",
       "  </tbody>\n",
       "</table>\n",
       "</div>"
      ],
      "text/plain": [
       "   gender ethnicity      score fcollege mcollege home urban  unemp  wage  \\\n",
       "1    male     other  39.150002      yes       no  yes   yes    6.2  8.09   \n",
       "2  female     other  48.869999       no       no  yes   yes    6.2  8.09   \n",
       "3    male     other  48.740002       no       no  yes   yes    6.2  8.09   \n",
       "4    male      afam  40.400002       no       no  yes   yes    6.2  8.09   \n",
       "5  female     other  40.480000       no       no   no   yes    5.6  8.09   \n",
       "\n",
       "   distance  tuition  education income region  \n",
       "1       0.2  0.88915         12   high  other  \n",
       "2       0.2  0.88915         12    low  other  \n",
       "3       0.2  0.88915         12    low  other  \n",
       "4       0.2  0.88915         12    low  other  \n",
       "5       0.4  0.88915         13    low  other  "
      ]
     },
     "execution_count": 25,
     "metadata": {},
     "output_type": "execute_result"
    }
   ],
   "source": [
    "import pandas as pd\n",
    "import seaborn as sns\n",
    "import numpy as np\n",
    "from matplotlib import pyplot as plt\n",
    "import matplotlib\n",
    "School_data = pd.read_csv(\"https://vincentarelbundock.github.io/Rdatasets/csv/AER/CollegeDistance.csv\", index_col=0).dropna()\n",
    "School_data.head()"
   ]
  },
  {
   "cell_type": "code",
   "execution_count": null,
   "metadata": {},
   "outputs": [],
   "source": [
    "#Variable descriptions\n",
    "\n",
    "\n",
    "gender\n",
    "factor indicating gender.\n",
    "\n",
    "ethnicity\n",
    "factor indicating ethnicity (African-American, Hispanic or other).\n",
    "\n",
    "score\n",
    "base year composite test score. These are achievement tests given to high school seniors in the sample.\n",
    "\n",
    "fcollege\n",
    "factor. Is the father a college graduate?\n",
    "\n",
    "mcollege\n",
    "factor. Is the mother a college graduate?\n",
    "\n",
    "home\n",
    "factor. Does the family own their home?\n",
    "\n",
    "urban\n",
    "factor. Is the school in an urban area?\n",
    "\n",
    "unemp\n",
    "county unemployment rate in 1980.\n",
    "\n",
    "wage\n",
    "state hourly wage in manufacturing in 1980.\n",
    "\n",
    "distance\n",
    "distance from 4-year college (in 10 miles).\n",
    "\n",
    "tuition\n",
    "average state 4-year college tuition (in 1000 USD).\n",
    "\n",
    "education\n",
    "number of years of education.\n",
    "\n",
    "income\n",
    "factor. Is the family income above USD 25,000 per year?\n",
    "\n",
    "region\n",
    "factor indicating region (West or other)."
   ]
  },
  {
   "cell_type": "code",
   "execution_count": 26,
   "metadata": {},
   "outputs": [
    {
     "data": {
      "text/plain": [
       "<AxesSubplot:xlabel='score', ylabel='Proportion'>"
      ]
     },
     "execution_count": 26,
     "metadata": {},
     "output_type": "execute_result"
    },
    {
     "data": {
      "image/png": "[encoded data removed]",
      "text/plain": [
       "<Figure size 432x288 with 1 Axes>"
      ]
     },
     "metadata": {
      "needs_background": "light"
     },
     "output_type": "display_data"
    }
   ],
   "source": [
    "#Build an ECDF plot to examine the score feature\n",
    "#Use palette = winter as color scheme\n",
    "\n",
    "\n",
    "sns.ecdfplot(x='score', data=School_data,palette='winter')"
   ]
  },
  {
   "cell_type": "code",
   "execution_count": 27,
   "metadata": {},
   "outputs": [
    {
     "data": {
      "text/plain": [
       "<matplotlib.lines.Line2D at 0x225b188fdc0>"
      ]
     },
     "execution_count": 27,
     "metadata": {},
     "output_type": "execute_result"
    },
    {
     "data": {
      "image/png": "[encoded data removed]",
      "text/plain": [
       "<Figure size 432x288 with 1 Axes>"
      ]
     },
     "metadata": {
      "needs_background": "light"
     },
     "output_type": "display_data"
    }
   ],
   "source": [
    "#Insert a horizontal line to indicate 75% of the observations for score\n",
    "#Use red color for the line\n",
    "\n",
    "sns.ecdfplot(x='score', data=School_data,palette='winter')\n",
    "plt.axhline(0.75, c='red')"
   ]
  },
  {
   "cell_type": "code",
   "execution_count": null,
   "metadata": {},
   "outputs": [],
   "source": [
    "#The chart above tells us that 75% of the observations of the score variable lie below 60\n",
    "#The chart also indicates that score is more likely to be a continuous rather than a discrete variable - \n",
    "# as there are no sharp vertical lines for particular values of score\n",
    "\n",
    "#ECDF plots the observations from minimum value to maximum value\n",
    "\n",
    "#How do we show/determine the percentage of observations that lie at the score = 50 point?"
   ]
  },
  {
   "cell_type": "code",
   "execution_count": 28,
   "metadata": {},
   "outputs": [
    {
     "data": {
      "text/plain": [
       "<matplotlib.lines.Line2D at 0x225b18d9b50>"
      ]
     },
     "execution_count": 28,
     "metadata": {},
     "output_type": "execute_result"
    },
    {
     "data": {
      "image/png": "[encoded data removed]",
      "text/plain": [
       "<Figure size 432x288 with 1 Axes>"
      ]
     },
     "metadata": {
      "needs_background": "light"
     },
     "output_type": "display_data"
    }
   ],
   "source": [
    "#Use the code below to show the percentage of observations that have been plotted at the score= 50 point\n",
    "\n",
    "sns.ecdfplot(x='score', data=School_data,palette='winter')\n",
    "plt.axvline(50, c='red')"
   ]
  },
  {
   "cell_type": "code",
   "execution_count": null,
   "metadata": {},
   "outputs": [],
   "source": [
    "#We can infer that at the score=50 line, we have seen/plotted approximately 40-45% of the observations"
   ]
  },
  {
   "cell_type": "code",
   "execution_count": 29,
   "metadata": {},
   "outputs": [
    {
     "data": {
      "text/plain": [
       "<AxesSubplot:xlabel='score', ylabel='Proportion'>"
      ]
     },
     "execution_count": 29,
     "metadata": {},
     "output_type": "execute_result"
    },
    {
     "data": {
      "image/png": "[encoded data removed]",
      "text/plain": [
       "<Figure size 432x288 with 1 Axes>"
      ]
     },
     "metadata": {
      "needs_background": "light"
     },
     "output_type": "display_data"
    }
   ],
   "source": [
    "#Build an ECDF plot to examine the score feature\n",
    "#Use palette = winter as color scheme\n",
    "#Break out the chart using the fcollege categorical variable\n",
    "\n",
    "sns.ecdfplot(x='score', data=School_data,hue='fcollege', palette='winter')"
   ]
  },
  {
   "cell_type": "code",
   "execution_count": null,
   "metadata": {},
   "outputs": [],
   "source": [
    "#We can see that score observations for which fcollege=yes are relatively larger than observations\n",
    "# for which fcollege=no regardless of proportion of the variable plotted"
   ]
  },
  {
   "cell_type": "code",
   "execution_count": 30,
   "metadata": {},
   "outputs": [
    {
     "data": {
      "text/plain": [
       "<AxesSubplot:xlabel='score', ylabel='Proportion'>"
      ]
     },
     "execution_count": 30,
     "metadata": {},
     "output_type": "execute_result"
    },
    {
     "data": {
      "image/png": "[encoded data removed]",
      "text/plain": [
       "<Figure size 432x288 with 1 Axes>"
      ]
     },
     "metadata": {
      "needs_background": "light"
     },
     "output_type": "display_data"
    }
   ],
   "source": [
    "#Build an ECDF plot to examine the score feature\n",
    "#Use palette = winter as color scheme\n",
    "#Break out the chart using the mcollege categorical variable\n",
    "\n",
    "sns.ecdfplot(x='score', data=School_data,hue='mcollege', palette='winter')"
   ]
  },
  {
   "cell_type": "code",
   "execution_count": null,
   "metadata": {},
   "outputs": [],
   "source": [
    "#We can see that score observations for which mcollege=yes are relatively larger than observations\n",
    "# for which mcollege=no regardless of proportion of the variable already plotted"
   ]
  },
  {
   "cell_type": "code",
   "execution_count": null,
   "metadata": {},
   "outputs": [],
   "source": [
    "#So we can infer from both charts that when we condition score on fcollege and mcollege, there are\n",
    "# larger values for score when mcollege, fcollege have value \"yes\" than when they have value \"no\"\n",
    "\n",
    "#In english: the score for a student appears to be/likely larger if the mother and father went to college"
   ]
  },
  {
   "cell_type": "code",
   "execution_count": 31,
   "metadata": {},
   "outputs": [
    {
     "data": {
      "text/plain": [
       "<AxesSubplot:xlabel='score', ylabel='Proportion'>"
      ]
     },
     "execution_count": 31,
     "metadata": {},
     "output_type": "execute_result"
    },
    {
     "data": {
      "image/png": "[encoded data removed]",
      "text/plain": [
       "<Figure size 432x288 with 1 Axes>"
      ]
     },
     "metadata": {
      "needs_background": "light"
     },
     "output_type": "display_data"
    }
   ],
   "source": [
    "#Build an ECDF plot to examine the score feature\n",
    "#Use palette = winter as color scheme\n",
    "#Break out the chart using the home categorical variable\n",
    "\n",
    "sns.ecdfplot(x='score', data=School_data,hue='home', palette='winter')"
   ]
  },
  {
   "cell_type": "code",
   "execution_count": null,
   "metadata": {},
   "outputs": [],
   "source": [
    "#When we condition on home, score observations for home = yes are larger\n",
    "# than score observations for home = no regardless of proportion of score plotted"
   ]
  },
  {
   "cell_type": "code",
   "execution_count": 32,
   "metadata": {},
   "outputs": [
    {
     "data": {
      "text/plain": [
       "<AxesSubplot:xlabel='score', ylabel='Proportion'>"
      ]
     },
     "execution_count": 32,
     "metadata": {},
     "output_type": "execute_result"
    },
    {
     "data": {
      "image/png": "[encoded data removed]",
      "text/plain": [
       "<Figure size 432x288 with 1 Axes>"
      ]
     },
     "metadata": {
      "needs_background": "light"
     },
     "output_type": "display_data"
    }
   ],
   "source": [
    "#Build an ECDF plot to examine the score feature\n",
    "#Use palette = winter as color scheme\n",
    "#Break out the chart using the urban categorical variable\n",
    "\n",
    "sns.ecdfplot(x='score', data=School_data,hue='urban', palette='winter')"
   ]
  },
  {
   "cell_type": "code",
   "execution_count": null,
   "metadata": {},
   "outputs": [],
   "source": [
    "#When we condition on urban, score observations for urban = no are larger\n",
    "# than score observations for urban = yes regardless of proportion of score plotted"
   ]
  },
  {
   "cell_type": "code",
   "execution_count": null,
   "metadata": {},
   "outputs": [],
   "source": [
    "#So we can infer from both charts that when we condition score on home and urban, there are\n",
    "# larger values for score when home = yes, and urban = no\n",
    "\n",
    "#In english: the score for a student appears/likely larger if student family owns their home but \n",
    "# the school is not in an urban area"
   ]
  },
  {
   "cell_type": "code",
   "execution_count": 33,
   "metadata": {},
   "outputs": [
    {
     "data": {
      "text/plain": [
       "<AxesSubplot:xlabel='score', ylabel='Proportion'>"
      ]
     },
     "execution_count": 33,
     "metadata": {},
     "output_type": "execute_result"
    },
    {
     "data": {
      "image/png": "[encoded data removed]",
      "text/plain": [
       "<Figure size 432x288 with 1 Axes>"
      ]
     },
     "metadata": {
      "needs_background": "light"
     },
     "output_type": "display_data"
    }
   ],
   "source": [
    "#Build an ECDF plot to examine the score feature\n",
    "#Use palette = winter as color scheme\n",
    "#Break out the chart using the income categorical variable\n",
    "\n",
    "sns.ecdfplot(x='score', data=School_data,hue='income', palette='winter')"
   ]
  },
  {
   "cell_type": "code",
   "execution_count": 34,
   "metadata": {},
   "outputs": [
    {
     "data": {
      "text/plain": [
       "<AxesSubplot:xlabel='score', ylabel='Proportion'>"
      ]
     },
     "execution_count": 34,
     "metadata": {},
     "output_type": "execute_result"
    },
    {
     "data": {
      "image/png": "[encoded data removed]",
      "text/plain": [
       "<Figure size 432x288 with 1 Axes>"
      ]
     },
     "metadata": {
      "needs_background": "light"
     },
     "output_type": "display_data"
    }
   ],
   "source": [
    "#Build an ECDF plot to examine the score feature\n",
    "#Use palette = winter as color scheme\n",
    "#Break out the chart using the region categorical variable\n",
    "\n",
    "sns.ecdfplot(x='score', data=School_data,hue='region', palette='winter')"
   ]
  },
  {
   "cell_type": "code",
   "execution_count": null,
   "metadata": {},
   "outputs": [],
   "source": []
  },
  {
   "cell_type": "code",
   "execution_count": null,
   "metadata": {},
   "outputs": [],
   "source": []
  },
  {
   "cell_type": "code",
   "execution_count": null,
   "metadata": {},
   "outputs": [],
   "source": []
  },
  {
   "cell_type": "code",
   "execution_count": null,
   "metadata": {},
   "outputs": [],
   "source": []
  },
  {
   "cell_type": "code",
   "execution_count": null,
   "metadata": {},
   "outputs": [],
   "source": []
  },
  {
   "cell_type": "code",
   "execution_count": null,
   "metadata": {},
   "outputs": [],
   "source": []
  },
  {
   "cell_type": "code",
   "execution_count": null,
   "metadata": {},
   "outputs": [],
   "source": []
  },
  {
   "cell_type": "code",
   "execution_count": null,
   "metadata": {},
   "outputs": [],
   "source": []
  },
  {
   "cell_type": "code",
   "execution_count": null,
   "metadata": {},
   "outputs": [],
   "source": []
  },
  {
   "cell_type": "code",
   "execution_count": null,
   "metadata": {},
   "outputs": [],
   "source": []
  },
  {
   "cell_type": "code",
   "execution_count": null,
   "metadata": {},
   "outputs": [],
   "source": []
  },
  {
   "cell_type": "code",
   "execution_count": null,
   "metadata": {},
   "outputs": [],
   "source": []
  },
  {
   "cell_type": "code",
   "execution_count": null,
   "metadata": {},
   "outputs": [],
   "source": [
    "#Build an ECDF plot to examine the income feature\n",
    "\n",
    "#Break out the chart by the married categorical variable\n",
    "\n",
    "#Set a horizontal line at 50% proportion\n",
    "\n",
    "sns.ecdfplot(x='income', data=Medicaid_data, hue='married', palette='winter')\n",
    "plt.axvline(20, c='red')\n",
    "plt.axhline(0.70, c='red')"
   ]
  },
  {
   "cell_type": "code",
   "execution_count": null,
   "metadata": {},
   "outputs": [],
   "source": []
  },
  {
   "cell_type": "code",
   "execution_count": null,
   "metadata": {},
   "outputs": [],
   "source": []
  },
  {
   "cell_type": "code",
   "execution_count": null,
   "metadata": {},
   "outputs": [],
   "source": []
  },
  {
   "cell_type": "code",
   "execution_count": null,
   "metadata": {},
   "outputs": [],
   "source": []
  },
  {
   "cell_type": "code",
   "execution_count": null,
   "metadata": {},
   "outputs": [],
   "source": []
  },
  {
   "cell_type": "code",
   "execution_count": null,
   "metadata": {},
   "outputs": [],
   "source": []
  },
  {
   "cell_type": "code",
   "execution_count": null,
   "metadata": {},
   "outputs": [],
   "source": []
  },
  {
   "cell_type": "code",
   "execution_count": null,
   "metadata": {},
   "outputs": [],
   "source": []
  },
  {
   "cell_type": "code",
   "execution_count": null,
   "metadata": {},
   "outputs": [],
   "source": []
  },
  {
   "cell_type": "code",
   "execution_count": null,
   "metadata": {},
   "outputs": [],
   "source": []
  },
  {
   "cell_type": "code",
   "execution_count": null,
   "metadata": {},
   "outputs": [],
   "source": []
  },
  {
   "cell_type": "code",
   "execution_count": null,
   "metadata": {},
   "outputs": [],
   "source": []
  },
  {
   "cell_type": "code",
   "execution_count": null,
   "metadata": {},
   "outputs": [],
   "source": []
  },
  {
   "cell_type": "code",
   "execution_count": null,
   "metadata": {},
   "outputs": [],
   "source": []
  },
  {
   "cell_type": "code",
   "execution_count": null,
   "metadata": {},
   "outputs": [],
   "source": []
  },
  {
   "cell_type": "code",
   "execution_count": null,
   "metadata": {},
   "outputs": [],
   "source": []
  },
  {
   "cell_type": "code",
   "execution_count": null,
   "metadata": {},
   "outputs": [],
   "source": []
  },
  {
   "cell_type": "code",
   "execution_count": null,
   "metadata": {},
   "outputs": [],
   "source": []
  },
  {
   "cell_type": "code",
   "execution_count": null,
   "metadata": {},
   "outputs": [],
   "source": []
  },
  {
   "cell_type": "code",
   "execution_count": null,
   "metadata": {},
   "outputs": [],
   "source": []
  },
  {
   "cell_type": "code",
   "execution_count": null,
   "metadata": {},
   "outputs": [],
   "source": []
  },
  {
   "cell_type": "code",
   "execution_count": null,
   "metadata": {},
   "outputs": [],
   "source": []
  },
  {
   "cell_type": "code",
   "execution_count": null,
   "metadata": {},
   "outputs": [],
   "source": []
  },
  {
   "cell_type": "code",
   "execution_count": null,
   "metadata": {},
   "outputs": [],
   "source": [
    "Penguins_data.head()"
   ]
  },
  {
   "cell_type": "code",
   "execution_count": null,
   "metadata": {},
   "outputs": [],
   "source": [
    "sns.set_style('dark')"
   ]
  },
  {
   "cell_type": "code",
   "execution_count": null,
   "metadata": {},
   "outputs": [],
   "source": [
    "#Build lmplot for bill_length_mm and bill_depth_mm\n",
    "\n",
    "sns.lmplot(x='bill_length_mm', y='bill_depth_mm', data=Penguins_data)"
   ]
  },
  {
   "cell_type": "code",
   "execution_count": null,
   "metadata": {},
   "outputs": [],
   "source": [
    "#We see an apparent negative bill_length_mm - bill_depth_mm relationship "
   ]
  },
  {
   "cell_type": "code",
   "execution_count": null,
   "metadata": {},
   "outputs": [],
   "source": [
    "sns.lmplot(x='bill_length_mm', y='bill_depth_mm', \n",
    "           hue='species',\n",
    "           data=Penguins_data)"
   ]
  },
  {
   "cell_type": "code",
   "execution_count": null,
   "metadata": {},
   "outputs": [],
   "source": [
    "# The assciation between bill_length_mm and bill_depth_mm appear to have\n",
    "# reversed. This phenomenon is known as Simposon's Paradox"
   ]
  },
  {
   "cell_type": "code",
   "execution_count": null,
   "metadata": {},
   "outputs": [],
   "source": [
    "#Simpson's Paradox Explained:\n",
    "\n",
    "# Simpson's Paradox is a statistical phenomenon where \n",
    "# an association between two variables in a population emerges, disappears or reverses \n",
    "# when the population is divided into subpopulations\n",
    "\n",
    "\n",
    "#Simpson's Paradox happens because disaggregation of the data (e.g., splitting it into subgroups) can cause certain \n",
    "# subgroups to have an imbalanced representation compared to other subgroups\n",
    "\n",
    "\n",
    "#Dealing with Simpson's Paradox:\n",
    "\n",
    "#To avoid Simpson's Paradox leading us to two opposite conclusions, \n",
    "#we need to choose to segregate the data in groups or aggregate it together.\n",
    "\n",
    "#Simpson's paradox can be avoided in a study if the most accurate experimental design is used. \n",
    "#During the planning stage, the selection of the analysis should include the \n",
    "#confounding variables so that the most correct answer to \n",
    "#the research question will be obtained when the study is being analyzed"
   ]
  },
  {
   "cell_type": "code",
   "execution_count": null,
   "metadata": {},
   "outputs": [],
   "source": [
    "#The Facet Grid option of the lmplot allows you to separate\n",
    "# regplots into \"Small Multiples\" or a grid of regplots \n",
    "#when you have many categories in one categorical variable\n",
    "\n",
    "# in the case of the species categorical variable, we have only 3 categories/groups\n",
    "\n"
   ]
  },
  {
   "cell_type": "code",
   "execution_count": null,
   "metadata": {},
   "outputs": [],
   "source": [
    "#Working with Small Multiples (using FacetGrid)\n",
    "\n",
    "#Arrange regplots for the various categories separately\n",
    "\n",
    "#Use the col= argument\n",
    "\n",
    "sns.lmplot(x='bill_length_mm', y='bill_depth_mm',\n",
    "          hue='species',\n",
    "           col='species',\n",
    "          data=Penguins_data)\n",
    "           \n",
    "          "
   ]
  },
  {
   "cell_type": "code",
   "execution_count": null,
   "metadata": {},
   "outputs": [],
   "source": [
    "#We see we can breakout the relationship into small multiples using the FacetGrid\n",
    "# instead of having them in one chart\n",
    "\n"
   ]
  },
  {
   "cell_type": "code",
   "execution_count": null,
   "metadata": {},
   "outputs": [],
   "source": [
    "#Arrange regplots for the various categories separately\n",
    "\n",
    "#Use the col= argument and the row=\n",
    "\n",
    "sns.lmplot(x='bill_length_mm', y='bill_depth_mm',\n",
    "          hue='species',\n",
    "           col='species',\n",
    "           row='sex',\n",
    "          data=Penguins_data)"
   ]
  },
  {
   "cell_type": "code",
   "execution_count": null,
   "metadata": {},
   "outputs": [],
   "source": [
    "# To remove the whitespace around the plots above\n",
    "# use the Truncate= argument, which makes the plot span the \n",
    "# entire range of the chart\n",
    "\n",
    "\n",
    "#Arrange regplots for the various categories separately\n",
    "\n",
    "#Use the col= argument and the row=\n",
    "\n",
    "sns.lmplot(x='bill_length_mm', y='bill_depth_mm',\n",
    "          hue='species',\n",
    "           col='species',\n",
    "           row='sex',\n",
    "           truncate=False,\n",
    "          data=Penguins_data)\n"
   ]
  },
  {
   "cell_type": "code",
   "execution_count": null,
   "metadata": {},
   "outputs": [],
   "source": []
  },
  {
   "cell_type": "code",
   "execution_count": null,
   "metadata": {},
   "outputs": [],
   "source": []
  },
  {
   "cell_type": "code",
   "execution_count": null,
   "metadata": {},
   "outputs": [],
   "source": []
  },
  {
   "cell_type": "code",
   "execution_count": null,
   "metadata": {},
   "outputs": [],
   "source": [
    "#Countplot"
   ]
  },
  {
   "cell_type": "code",
   "execution_count": null,
   "metadata": {},
   "outputs": [],
   "source": [
    "#Count the number of observations you have per category in your dataset - and then\n",
    "#display that information in bars\n",
    "\n",
    "#Countplot differs from the barplot because it focuses on counts, while the barplot\n",
    "# focuses on various extimates e.g. means, standard deviation etc\n",
    "\n",
    "#You can think of countplot as a histogram but for categorical data"
   ]
  },
  {
   "cell_type": "code",
   "execution_count": null,
   "metadata": {},
   "outputs": [],
   "source": [
    "import seaborn as sns\n",
    "import matplotlib\n",
    "from matplotlib import pyplot as plt\n",
    "import numpy as np"
   ]
  },
  {
   "cell_type": "code",
   "execution_count": null,
   "metadata": {},
   "outputs": [],
   "source": [
    "diamonds = sns.load_dataset('diamonds')\n",
    "\n",
    "diamonds.head()"
   ]
  },
  {
   "cell_type": "code",
   "execution_count": null,
   "metadata": {},
   "outputs": [],
   "source": [
    "#lets filter the data by a categorical variable and restrict the values to 2 \n",
    "\n",
    "diamonds = diamonds[diamonds.clarity.isin(['ST1', 'VS2'])]"
   ]
  },
  {
   "cell_type": "code",
   "execution_count": null,
   "metadata": {},
   "outputs": [],
   "source": [
    "diamonds.head()"
   ]
  },
  {
   "cell_type": "code",
   "execution_count": null,
   "metadata": {},
   "outputs": [],
   "source": [
    "diamonds.shape"
   ]
  },
  {
   "cell_type": "code",
   "execution_count": null,
   "metadata": {},
   "outputs": [],
   "source": [
    "#the filtered dataset has 12258 rows and 10 columns"
   ]
  },
  {
   "cell_type": "code",
   "execution_count": null,
   "metadata": {},
   "outputs": [],
   "source": [
    "sns.set_style('darkgrid')"
   ]
  },
  {
   "cell_type": "code",
   "execution_count": null,
   "metadata": {},
   "outputs": [],
   "source": [
    "diamonds.dtypes"
   ]
  },
  {
   "cell_type": "code",
   "execution_count": null,
   "metadata": {},
   "outputs": [],
   "source": [
    "diamonds.color.cat.categories"
   ]
  },
  {
   "cell_type": "code",
   "execution_count": null,
   "metadata": {},
   "outputs": [],
   "source": [
    "diamonds.cut.cat.categories"
   ]
  },
  {
   "cell_type": "code",
   "execution_count": null,
   "metadata": {},
   "outputs": [],
   "source": [
    "diamonds.clarity.cat.categories"
   ]
  },
  {
   "cell_type": "code",
   "execution_count": null,
   "metadata": {},
   "outputs": [],
   "source": [
    "#create countplot for dataset - count observations \n",
    "#by the color feature (a categorical variable)\n",
    "#you specify the categorical variable in the x or y argument\n",
    "\n",
    "sns.countplot(x='color', data=diamonds)"
   ]
  },
  {
   "cell_type": "code",
   "execution_count": null,
   "metadata": {},
   "outputs": [],
   "source": [
    "#create countplot for dataset - count observations \n",
    "#by the color feature (a categorical variable)\n",
    "#you specify the categorical variable in the x or y argument\n",
    "\n",
    "#Using y argument just changes the orientation of the chart\n",
    "\n",
    "sns.countplot(y='color', data=diamonds)"
   ]
  },
  {
   "cell_type": "code",
   "execution_count": null,
   "metadata": {},
   "outputs": [],
   "source": [
    "#Seaborn just counts the number of observations in each group of the categorical variable color\n",
    "# and displays that with bars"
   ]
  },
  {
   "cell_type": "code",
   "execution_count": null,
   "metadata": {},
   "outputs": [],
   "source": [
    "#the countplot above is just plotting the numbers in what the following command shows:\n",
    "\n",
    "diamonds.color.value_counts(sort=False)"
   ]
  },
  {
   "cell_type": "code",
   "execution_count": null,
   "metadata": {},
   "outputs": [],
   "source": [
    "diamonds.clarity.value_counts(sort=False)"
   ]
  },
  {
   "cell_type": "code",
   "execution_count": null,
   "metadata": {},
   "outputs": [],
   "source": [
    "#Countplopt options: setting or changing the order of appearance of bars\n",
    "#to support effective communication\n",
    "\n",
    "\n",
    "\n",
    "\n",
    "\n"
   ]
  },
  {
   "cell_type": "code",
   "execution_count": null,
   "metadata": {},
   "outputs": [],
   "source": [
    "diamonds.dtypes"
   ]
  },
  {
   "cell_type": "code",
   "execution_count": null,
   "metadata": {},
   "outputs": [],
   "source": [
    "diamonds.color.cat.categories"
   ]
  },
  {
   "cell_type": "code",
   "execution_count": null,
   "metadata": {},
   "outputs": [],
   "source": [
    "diamonds.cut.cat.categories"
   ]
  },
  {
   "cell_type": "code",
   "execution_count": null,
   "metadata": {},
   "outputs": [],
   "source": [
    "diamonds.clarity.cat.categories"
   ]
  },
  {
   "cell_type": "code",
   "execution_count": null,
   "metadata": {},
   "outputs": [],
   "source": [
    "#You can change the presentation order for the bars:\n",
    "#Use the order = argument to pass a list of your prefered order\n",
    "\n",
    "\n",
    "color_order=['J','I','H','G','F','E','D']\n",
    "\n",
    "sns.countplot(x='color', data=diamonds, order=color_order)"
   ]
  },
  {
   "cell_type": "code",
   "execution_count": null,
   "metadata": {},
   "outputs": [],
   "source": [
    "#We might just want to sort the bars ascending or descending order\n",
    "#Since we have a data frame, its recommended you use the value_counts() method\n",
    "#will sort your data from most plentiful to least plentiful\n",
    "\n",
    "#value_counts().index gives a CategoricalIndex list of the most plentiful\n",
    "#to the least plentiful category\n",
    "\n",
    "diamonds.color.value_counts().index\n",
    "\n",
    "\n"
   ]
  },
  {
   "cell_type": "code",
   "execution_count": null,
   "metadata": {},
   "outputs": [],
   "source": [
    "#Then use the index as the value for the order argument\n",
    "#This sorts the bars in descending mode\n",
    "\n",
    "\n",
    "sns.countplot(x='color',data=diamonds,\n",
    "             order=diamonds.color.value_counts().index)"
   ]
  },
  {
   "cell_type": "code",
   "execution_count": null,
   "metadata": {},
   "outputs": [],
   "source": [
    "#To sort in ascending mode, reverse the index as shown below:\n",
    "\n",
    "\n",
    "sns.countplot(x='color',data=diamonds,\n",
    "             order=diamonds.color.value_counts().index[::-1]\n",
    "             )"
   ]
  },
  {
   "cell_type": "code",
   "execution_count": null,
   "metadata": {},
   "outputs": [],
   "source": [
    "#Use hue to condition your chart on another categorical variable\n",
    "#For example to get sense of how color cahnges by clarity,\n",
    "\n",
    "sns.countplot(x='color', data=diamonds, hue='clarity')\n",
    "\n",
    "\n"
   ]
  },
  {
   "cell_type": "code",
   "execution_count": null,
   "metadata": {},
   "outputs": [],
   "source": [
    "#We can streamline the choice for clarity to two categorical values:\n",
    "\n",
    "sns.countplot(x='color', data=diamonds, hue='clarity', hue_order=['SI1','VS2'])"
   ]
  },
  {
   "cell_type": "code",
   "execution_count": null,
   "metadata": {},
   "outputs": [],
   "source": [
    "#The plot above is a countplot of color - but with counts of subsets of clarity\n",
    "#within the overall count for color"
   ]
  },
  {
   "cell_type": "code",
   "execution_count": null,
   "metadata": {},
   "outputs": [],
   "source": [
    "#Styling options - give all bars the same color\n",
    "#Use the color = argument\n",
    "\n",
    "sns.countplot(x='color', data=diamonds, color='skyblue')\n",
    "\n"
   ]
  },
  {
   "cell_type": "code",
   "execution_count": null,
   "metadata": {},
   "outputs": [],
   "source": [
    "#You can also use the Seaborn palette to give each bar its own color\n",
    "\n",
    "\n",
    "sns.countplot(x='color', data=diamonds,palette='twilight')"
   ]
  },
  {
   "cell_type": "code",
   "execution_count": null,
   "metadata": {},
   "outputs": [],
   "source": [
    "#You can also use the Seaborn palette to give each bar its own color\n",
    "\n",
    "\n",
    "sns.countplot(x='color', data=diamonds,palette='spring')"
   ]
  },
  {
   "cell_type": "code",
   "execution_count": null,
   "metadata": {},
   "outputs": [],
   "source": [
    "#You can also use the Seaborn palette to give each bar its own color\n",
    "\n",
    "\n",
    "sns.countplot(x='color', data=diamonds,palette='winter')"
   ]
  },
  {
   "cell_type": "code",
   "execution_count": null,
   "metadata": {},
   "outputs": [],
   "source": [
    "#increase line width around the bars\n",
    "\n",
    "sns.countplot(x='color', data=diamonds,\n",
    "              lw=4,\n",
    "              palette='twilight')"
   ]
  },
  {
   "cell_type": "code",
   "execution_count": null,
   "metadata": {},
   "outputs": [],
   "source": [
    "#increase line width around the bars and change edge color around bars to black\n",
    "\n",
    "#lw = line width,\n",
    "#ec = edge color\n",
    "\n",
    "sns.countplot(x='color', data=diamonds,\n",
    "              lw=4,ec='black',\n",
    "              palette='twilight')"
   ]
  },
  {
   "cell_type": "code",
   "execution_count": null,
   "metadata": {},
   "outputs": [],
   "source": [
    "#Add pattern to chart using hatch argument\n",
    "\n",
    "#lw = line width,\n",
    "#ec = edge color\n",
    "\n",
    "sns.countplot(x='color', data=diamonds,\n",
    "              lw=4,ec='black',hatch='/'\n",
    "              ,palette='twilight')"
   ]
  },
  {
   "cell_type": "code",
   "execution_count": null,
   "metadata": {},
   "outputs": [],
   "source": []
  },
  {
   "cell_type": "code",
   "execution_count": null,
   "metadata": {},
   "outputs": [],
   "source": []
  },
  {
   "cell_type": "code",
   "execution_count": null,
   "metadata": {},
   "outputs": [],
   "source": []
  },
  {
   "cell_type": "code",
   "execution_count": null,
   "metadata": {},
   "outputs": [],
   "source": []
  },
  {
   "cell_type": "code",
   "execution_count": null,
   "metadata": {},
   "outputs": [],
   "source": []
  },
  {
   "cell_type": "code",
   "execution_count": null,
   "metadata": {},
   "outputs": [],
   "source": []
  },
  {
   "cell_type": "code",
   "execution_count": null,
   "metadata": {},
   "outputs": [],
   "source": []
  },
  {
   "cell_type": "code",
   "execution_count": null,
   "metadata": {},
   "outputs": [],
   "source": []
  },
  {
   "cell_type": "code",
   "execution_count": null,
   "metadata": {},
   "outputs": [],
   "source": []
  },
  {
   "cell_type": "code",
   "execution_count": null,
   "metadata": {},
   "outputs": [],
   "source": []
  },
  {
   "cell_type": "code",
   "execution_count": null,
   "metadata": {},
   "outputs": [],
   "source": []
  },
  {
   "cell_type": "code",
   "execution_count": null,
   "metadata": {},
   "outputs": [],
   "source": []
  },
  {
   "cell_type": "code",
   "execution_count": null,
   "metadata": {},
   "outputs": [],
   "source": [
    "#Load car data frame and drop rows with missing values\n",
    "\n",
    "cars = sns.load_dataset('mpg').dropna()\n",
    "\n",
    "#Filter out 4-,6-,8-cylinder cars\n",
    "\n",
    "cars=cars[cars.cylinders.isin([4,6,8])]\n",
    "\n",
    "#Add old/new column\n",
    "\n",
    "cars['type'] = ['old' if x<=76 else 'new' for x in cars.model_year]"
   ]
  },
  {
   "cell_type": "code",
   "execution_count": null,
   "metadata": {},
   "outputs": [],
   "source": [
    "cars.head()"
   ]
  },
  {
   "cell_type": "code",
   "execution_count": null,
   "metadata": {},
   "outputs": [],
   "source": [
    "cars.shape()"
   ]
  },
  {
   "cell_type": "code",
   "execution_count": null,
   "metadata": {},
   "outputs": [],
   "source": [
    "sns.set_style('dark')"
   ]
  },
  {
   "cell_type": "code",
   "execution_count": null,
   "metadata": {},
   "outputs": [],
   "source": [
    "sns.pairplot(cars)"
   ]
  },
  {
   "cell_type": "code",
   "execution_count": null,
   "metadata": {},
   "outputs": [],
   "source": [
    "# Build first catplot with catplot() function\n",
    "#Specify what feature you would like to plot\n",
    "\n",
    "sns.catplot(x='horsepower', data=cars)"
   ]
  },
  {
   "cell_type": "code",
   "execution_count": null,
   "metadata": {},
   "outputs": [],
   "source": [
    "#Class Discussion\n",
    "\n",
    "#1. Seaborn's default cat plot is the stripplot - until you specify otherwise\n",
    "# x references the feature you want to plot or what axis you \n",
    "# want to feature to be on\n",
    "\n",
    "#You can change the axis to y as well\n"
   ]
  },
  {
   "cell_type": "code",
   "execution_count": null,
   "metadata": {},
   "outputs": [],
   "source": [
    "#plot horizontal strip plot using catplot() function\n",
    "\n",
    "sns.catplot(y='horsepower', data=cars)"
   ]
  },
  {
   "cell_type": "code",
   "execution_count": null,
   "metadata": {},
   "outputs": [],
   "source": [
    "#Change the type of plot (from default stripplot) using the kind argument\n",
    "# in the catplot() function\n",
    "\n",
    "#Change kind from strip plot to boxplot\n",
    "\n",
    "\n",
    "sns.catplot(x='horsepower', data=cars, kind='box')"
   ]
  },
  {
   "cell_type": "code",
   "execution_count": null,
   "metadata": {},
   "outputs": [],
   "source": [
    "#Change the type of plot (from default stripplot) using the kind argument\n",
    "# in the catplot() function\n",
    "\n",
    "#Change kind from strip plot to violinplot\n",
    "\n",
    "\n",
    "sns.catplot(x='horsepower', data=cars, kind='violin')"
   ]
  },
  {
   "cell_type": "code",
   "execution_count": null,
   "metadata": {},
   "outputs": [],
   "source": [
    "#We can also use the x argument to breakout the data with \n",
    "#another categorical feature using the x axis first\n",
    "sns.catplot(y='horsepower',\n",
    "           data=cars,\n",
    "           kind='box',\n",
    "           x='origin')"
   ]
  },
  {
   "cell_type": "code",
   "execution_count": null,
   "metadata": {},
   "outputs": [],
   "source": [
    "#We can also use the hue argument to further breakout the data with a second \n",
    "#categorical feature after using the x axis first\n",
    "sns.catplot(y='horsepower',\n",
    "           data=cars,\n",
    "           kind='box',\n",
    "           x='origin',\n",
    "           hue='cylinders')"
   ]
  },
  {
   "cell_type": "code",
   "execution_count": null,
   "metadata": {},
   "outputs": [],
   "source": [
    "#We can also use the hue argument to further breakout the data with a second \n",
    "#categorical feature after using the x axis first\n",
    "\n",
    "#You can still change the kind of chart as well\n",
    "\n",
    "#Change from boxplot to violin plot\n",
    "\n",
    "sns.catplot(y='horsepower',\n",
    "           data=cars,\n",
    "           kind='violin',\n",
    "           x='origin',\n",
    "           hue='cylinders')"
   ]
  },
  {
   "cell_type": "code",
   "execution_count": null,
   "metadata": {},
   "outputs": [],
   "source": [
    "#We can also use the hue argument to further breakout the data with a second \n",
    "#categorical feature after using the x axis first\n",
    "\n",
    "#You can still change the kind of chart as well\n",
    "\n",
    "#Change from boxplot to strip plot plot\n",
    "\n",
    "sns.catplot(y='horsepower',\n",
    "           data=cars,\n",
    "           kind='strip',\n",
    "           x='origin',\n",
    "           hue='cylinders')"
   ]
  },
  {
   "cell_type": "code",
   "execution_count": null,
   "metadata": {},
   "outputs": [],
   "source": [
    "#We can also use the hue argument to further breakout the data with a second \n",
    "#categorical feature after using the x axis first\n",
    "\n",
    "#You can still change the kind of chart as well\n",
    "\n",
    "#Change from stripplot to swarm plot plot\n",
    "\n",
    "sns.catplot(y='horsepower',\n",
    "           data=cars,\n",
    "           kind='swarm',\n",
    "           x='origin',\n",
    "           hue='cylinders')"
   ]
  },
  {
   "cell_type": "code",
   "execution_count": null,
   "metadata": {},
   "outputs": [],
   "source": [
    "#We can also use the Cat Plot Facet Grid to build multiple charts\n",
    "\n",
    "#The Cat plot is built on a Facet Grid - so you can use these features\n",
    "\n",
    "# We can create a separate chart for each cylinder on one row\n",
    "\n",
    "#Use the col argument to put the separate chart in one row and multiple columns\n",
    "\n",
    "sns.catplot(y='horsepower',\n",
    "           data=cars,\n",
    "           kind='box',\n",
    "           x='cylinders',\n",
    "           col='origin',\n",
    "           )"
   ]
  },
  {
   "cell_type": "code",
   "execution_count": null,
   "metadata": {},
   "outputs": [],
   "source": [
    "#Note that we now have horsepower broken out by cylinder\n",
    "#The col argument is an alternative to the hue argument\n",
    "\n",
    "#While the hue argument allows you breakout your chart with a second \n",
    "#categorical variable - but everything remains on frame\n",
    "\n",
    "#col allows you breakout your chart with a second \n",
    "#categorical variable - but you create a separate frame for each \n",
    "# value of the second variable"
   ]
  },
  {
   "cell_type": "code",
   "execution_count": null,
   "metadata": {},
   "outputs": [],
   "source": [
    "# You can still change the kind of chart you have with multiple frames\n",
    "\n",
    "sns.catplot(y='horsepower',\n",
    "           data=cars,\n",
    "           kind='swarm',\n",
    "           x='cylinders',\n",
    "           col='origin',\n",
    "           )"
   ]
  },
  {
   "cell_type": "code",
   "execution_count": null,
   "metadata": {},
   "outputs": [],
   "source": [
    "# You can still change the kind of chart you have with multiple frames\n",
    "\n",
    "sns.catplot(y='horsepower',\n",
    "           data=cars,\n",
    "           kind='strip',\n",
    "           x='cylinders',\n",
    "           col='origin',\n",
    "           )"
   ]
  },
  {
   "cell_type": "code",
   "execution_count": null,
   "metadata": {},
   "outputs": [],
   "source": [
    "# You can still change the kind of chart you have with multiple frames\n",
    "# and also change the arrangement of the frames from column and rows\n",
    "\n",
    "sns.catplot(y='horsepower',\n",
    "           data=cars,\n",
    "           kind='strip',\n",
    "           x='cylinders',\n",
    "           row='origin',\n",
    "           )"
   ]
  },
  {
   "cell_type": "code",
   "execution_count": null,
   "metadata": {},
   "outputs": [],
   "source": [
    "# You can still change the kind of chart you have with multiple frames\n",
    "# You can have different charts arranged on rows and columns\n",
    "\n",
    "sns.catplot(y='horsepower',\n",
    "           data=cars,\n",
    "           kind='strip',\n",
    "           x='cylinders',\n",
    "           row='origin',\n",
    "            col='type'\n",
    "           )"
   ]
  },
  {
   "cell_type": "code",
   "execution_count": null,
   "metadata": {},
   "outputs": [],
   "source": [
    "# You can still change the kind of chart you have with multiple frames\n",
    "# You can have different charts arranged on rows and columns\n",
    "\n",
    "sns.catplot(y='horsepower',\n",
    "           data=cars,\n",
    "           kind='box',\n",
    "           x='cylinders',\n",
    "           col='origin',\n",
    "            row='type'\n",
    "           )"
   ]
  },
  {
   "cell_type": "code",
   "execution_count": null,
   "metadata": {},
   "outputs": [],
   "source": [
    "# You can have different charts arranged on rows and columns\n",
    "\n",
    "#We can have Seaborn change the order of the charts\n",
    "\n",
    "#Make Seaborn put the horsepower chart when type = new first\n",
    "# on the top row and the horsepower chart when type = old on the\n",
    "# bottom row\n",
    "\n",
    "#Use row_order argument\n",
    "\n",
    "sns.catplot(y='horsepower',\n",
    "           data=cars,\n",
    "           kind='box',\n",
    "           x='cylinders',\n",
    "           col='origin',\n",
    "            row='type',\n",
    "            row_order=['new','old']\n",
    "           )"
   ]
  },
  {
   "cell_type": "code",
   "execution_count": null,
   "metadata": {},
   "outputs": [],
   "source": [
    "# You can have different charts arranged on rows and columns\n",
    "\n",
    "#We can have Seaborn change the order of the charts\n",
    "\n",
    "#Make Seaborn put the horsepower chart when type = new first\n",
    "# on the top row and the horsepower chart when type = old on the\n",
    "# bottom row\n",
    "\n",
    "#Use row_order argument\n",
    "\n",
    "sns.catplot(y='horsepower',\n",
    "           data=cars,\n",
    "           kind='box',\n",
    "           x='cylinders',\n",
    "           col='origin',\n",
    "            col_order=['europe','usa','japan'],\n",
    "            row='type',\n",
    "            row_order=['new','old']\n",
    "           )"
   ]
  },
  {
   "cell_type": "code",
   "execution_count": null,
   "metadata": {},
   "outputs": [],
   "source": [
    "#You can style the plot referenced in the kind argument\n",
    "\n",
    "#In this example, we have kind='box', so we get to style the boxplot\n",
    "#We can change the color palette that works with box plots\n",
    "\n",
    "sns.catplot(y='horsepower',\n",
    "           data=cars,\n",
    "           kind='box',\n",
    "           x='cylinders',\n",
    "           col='origin',\n",
    "            row='type',\n",
    "            row_order=['new','old'],\n",
    "            palette='winter'\n",
    "           )"
   ]
  },
  {
   "cell_type": "code",
   "execution_count": null,
   "metadata": {},
   "outputs": [],
   "source": [
    "#You can style the plot referenced in the kind argument\n",
    "\n",
    "#In this example, we have kind='box', so we get to style the boxplot\n",
    "#We can change the color palette\n",
    "\n",
    "sns.catplot(y='horsepower',\n",
    "           data=cars,\n",
    "           kind='box',\n",
    "           x='cylinders',\n",
    "           col='origin',\n",
    "            row='type',\n",
    "            row_order=['new','old'],\n",
    "            palette='autumn'\n",
    "           )"
   ]
  },
  {
   "cell_type": "code",
   "execution_count": null,
   "metadata": {},
   "outputs": [],
   "source": [
    "#You can style the plot referenced in the kind argument\n",
    "\n",
    "#In this example, we have kind='box', so we get to style the boxplot\n",
    "#We can change the color palette\n",
    "\n",
    "sns.catplot(y='horsepower',\n",
    "           data=cars,\n",
    "           kind='box',\n",
    "           x='cylinders',\n",
    "           col='origin',\n",
    "            row='type',\n",
    "            row_order=['new','old'],\n",
    "            palette='spring'\n",
    "           )"
   ]
  },
  {
   "cell_type": "code",
   "execution_count": null,
   "metadata": {},
   "outputs": [],
   "source": [
    "#You can style the plot referenced in the kind argument\n",
    "\n",
    "#In this example, we have kind='box', so we get to style the boxplot\n",
    "#We can change the color palette\n",
    "\n",
    "sns.catplot(y='horsepower',\n",
    "           data=cars,\n",
    "           kind='box',\n",
    "           x='cylinders',\n",
    "           col='origin',\n",
    "            row='type',\n",
    "            row_order=['new','old'],\n",
    "            palette='summer'\n",
    "           )"
   ]
  },
  {
   "cell_type": "code",
   "execution_count": null,
   "metadata": {},
   "outputs": [],
   "source": [
    "#You can incerase the font size on all the charts using font_scale argument\n",
    "\n",
    "sns.set(style='darkgrid', font_scale=1.5)\n",
    "\n",
    "#You can style the plot referenced in the kind argument\n",
    "\n",
    "#In this example, we have kind='box', so we get to style the boxplot\n",
    "#We can change the color palette\n",
    "\n",
    "sns.catplot(y='horsepower',\n",
    "           data=cars,\n",
    "           kind='box',\n",
    "           x='cylinders',\n",
    "           col='origin',\n",
    "            row='type',\n",
    "            row_order=['new','old'],\n",
    "            palette='autumn'\n",
    "           )"
   ]
  },
  {
   "cell_type": "code",
   "execution_count": null,
   "metadata": {},
   "outputs": [],
   "source": [
    "#You can incerase the font size on all the charts using font_scale argument\n",
    "\n",
    "sns.set(style='darkgrid', font_scale=1.5)\n",
    "\n",
    "#You can style the plot referenced in the kind argument\n",
    "\n",
    "#In this example, we have kind='box', so we get to style the boxplot\n",
    "#We can change use a list in the color palette as well\n",
    "\n",
    "sns.catplot(y='horsepower',\n",
    "           data=cars,\n",
    "           kind='box',\n",
    "           x='cylinders',\n",
    "           col='origin',\n",
    "            row='type',\n",
    "            row_order=['new','old'],\n",
    "            palette=['green','red','blue']\n",
    "           )"
   ]
  },
  {
   "cell_type": "code",
   "execution_count": null,
   "metadata": {},
   "outputs": [],
   "source": []
  },
  {
   "cell_type": "code",
   "execution_count": null,
   "metadata": {},
   "outputs": [],
   "source": []
  },
  {
   "cell_type": "code",
   "execution_count": null,
   "metadata": {},
   "outputs": [],
   "source": []
  },
  {
   "cell_type": "code",
   "execution_count": null,
   "metadata": {},
   "outputs": [],
   "source": []
  },
  {
   "cell_type": "markdown",
   "metadata": {},
   "source": [
    "# Seaborn Relplot"
   ]
  },
  {
   "cell_type": "code",
   "execution_count": null,
   "metadata": {},
   "outputs": [],
   "source": [
    "#What is It?\n",
    "\n",
    "#1.Relplot stands for Relational Plot\n",
    "\n",
    "#2. It is built on the Seaborn relational plot Facet Grid\n",
    "\n",
    "#3. You largely have two options: (1) scatter plot and (2) line plot\n",
    "\n",
    "\n",
    "#When do you use it?\n",
    "\n",
    "#1. When you want more flexibility to build out or customize your scatterplot and line plots\n",
    "# using Seaborn Facet Grid\n"
   ]
  },
  {
   "cell_type": "code",
   "execution_count": null,
   "metadata": {},
   "outputs": [],
   "source": [
    "import seaborn as sns\n",
    "from matplotlib import pyplot as plt\n",
    "import numpy as np\n"
   ]
  },
  {
   "cell_type": "code",
   "execution_count": null,
   "metadata": {},
   "outputs": [],
   "source": [
    "df=sns.load_dataset('titanic')\n",
    "\n",
    "df.head()\n",
    "\n"
   ]
  },
  {
   "cell_type": "code",
   "execution_count": null,
   "metadata": {},
   "outputs": [],
   "source": [
    "#Create 'decade' - a new feature for df, which aggregates the age feature by 10 years\n",
    "# Basically an age group bucket\n",
    "\n",
    "df['decade'] = [x//10*10 for x in df.age] # or df['decade'] = [age//10*10 for age in df.age]\n",
    "\n",
    "df.head()"
   ]
  },
  {
   "cell_type": "code",
   "execution_count": null,
   "metadata": {},
   "outputs": [],
   "source": [
    "sns.set(style='darkgrid', font_scale=1.2)\n",
    "\n"
   ]
  },
  {
   "cell_type": "code",
   "execution_count": null,
   "metadata": {},
   "outputs": [],
   "source": [
    "#Feature definitions:\n",
    "\n",
    "#age: passenger age\n",
    "#fare: price paid by passenger to get on the Titanic\n",
    "#pclass: class of cabin paid for by passenger\n"
   ]
  },
  {
   "cell_type": "code",
   "execution_count": null,
   "metadata": {},
   "outputs": [],
   "source": [
    "#CASE 1: Work with Scatterplot\n",
    "\n",
    "#Create first relplot\n",
    "#reference Seaborn library and use relplot() function\n",
    "\n",
    "#Plot age on horizontal axis and fare on vertical axis\n",
    "\n",
    "sns.relplot(x= 'age', y='fare', data=df)\n"
   ]
  },
  {
   "cell_type": "code",
   "execution_count": null,
   "metadata": {},
   "outputs": [],
   "source": [
    "#Use class as a feature to breakout the data frame\n",
    "# to see if there is a difference for different cabin classes\n",
    "#Use the hue argument to breakout your data\n",
    "\n",
    "\n",
    "sns.relplot(x='age', y='fare',\n",
    "           data=df,\n",
    "           hue='pclass')"
   ]
  },
  {
   "cell_type": "code",
   "execution_count": null,
   "metadata": {},
   "outputs": [],
   "source": [
    "#The scatterplot above shows that:\n",
    "\n",
    "#1. There is a difference between what passengers paid for various cabins\n",
    "#2. Pasengers paid more for pclass=1 than pclass=3"
   ]
  },
  {
   "cell_type": "code",
   "execution_count": null,
   "metadata": {},
   "outputs": [],
   "source": [
    "#Use class as a feature to breakout the data frame\n",
    "# to see if there is a difference for different cabin classes\n",
    "#Use the hue argument to breakout your data\n",
    "#Use style to produce different markers for the hue value \n",
    "\n",
    "\n",
    "sns.relplot(x='age', y='fare',\n",
    "           data=df,\n",
    "           hue='pclass',\n",
    "           style='pclass')"
   ]
  },
  {
   "cell_type": "code",
   "execution_count": null,
   "metadata": {},
   "outputs": [],
   "source": [
    "#Use class as a feature to breakout the data frame\n",
    "# to see if there is a difference for different cabin classes\n",
    "#Use the hue argument to breakout your data\n",
    "#Use style to produce different markers for the hue value \n",
    "\n",
    "\n",
    "sns.relplot(x='age', y='fare',\n",
    "           data=df,\n",
    "           hue='pclass',\n",
    "           style='pclass',\n",
    "           size='pclass')"
   ]
  },
  {
   "cell_type": "code",
   "execution_count": null,
   "metadata": {},
   "outputs": [],
   "source": [
    "#CASE 2: Work with Lineplots\n",
    "\n",
    "#Use the kind argument to switch between scatterplot and lineplot\n",
    "#Note that scatterplots are Seaborn's default for relplots\n",
    "\n",
    "sns.relplot(x='age',y='fare',data=df,\n",
    "           kind='line')"
   ]
  },
  {
   "cell_type": "code",
   "execution_count": null,
   "metadata": {},
   "outputs": [],
   "source": [
    "#Seaborn aggregates the passengers based on feature age\n",
    "# and plots the mean value of feature fare\n",
    "\n",
    "#The chart above shows a lot of variance (or volatility), which we \n",
    "# can smooth out by decreasing the granularity inherent in the age feature"
   ]
  },
  {
   "cell_type": "code",
   "execution_count": null,
   "metadata": {},
   "outputs": [],
   "source": [
    "#To smooth out the lineplot, we can aggregate based on \n",
    "# feature decade, rather than age\n",
    "\n",
    "sns.relplot(x='decade',y='fare',data=df,\n",
    "           kind='line')\n"
   ]
  },
  {
   "cell_type": "code",
   "execution_count": null,
   "metadata": {},
   "outputs": [],
   "source": [
    "#To smooth out the lineplot, we can aggregate based on \n",
    "# feature decade, rather than age\n",
    "\n",
    "sns.relplot(x='decade',y='fare',data=df[df<60.decade.isin(['20,40,60']),\n",
    "           kind='line')"
   ]
  },
  {
   "cell_type": "code",
   "execution_count": null,
   "metadata": {},
   "outputs": [],
   "source": [
    "#To smooth out the lineplot, we can aggregate based on \n",
    "# feature decade, rather than age\n",
    "#Plot the fare-decade relationship for nearest decade less than 60\n",
    "\n",
    "sns.relplot(x='decade',y='fare',data=df[df.decade<60],\n",
    "           kind='line')"
   ]
  },
  {
   "cell_type": "code",
   "execution_count": null,
   "metadata": {},
   "outputs": [],
   "source": [
    "#To smooth out the lineplot, we can aggregate based on \n",
    "# feature decade, rather than age\n",
    "\n",
    "sns.relplot(x='decade',y='fare',data=df,\n",
    "           kind='line')"
   ]
  },
  {
   "cell_type": "code",
   "execution_count": null,
   "metadata": {},
   "outputs": [],
   "source": [
    "#The line plot above shows that younger people (age in lower decaded) paid \n",
    "# lower fares than older people(age in higher decades)"
   ]
  },
  {
   "cell_type": "code",
   "execution_count": null,
   "metadata": {},
   "outputs": [],
   "source": [
    "#We can breakout the chart by class of cabin (pclass)\n",
    "\n",
    "sns.relplot(x='decade',y='fare',data=df,\n",
    "           kind='line',\n",
    "           hue='pclass')"
   ]
  },
  {
   "cell_type": "code",
   "execution_count": null,
   "metadata": {},
   "outputs": [],
   "source": [
    "#The chart above shows that passengers in pclass=3 paid lower fares than\n",
    "# passengers in pclass=2 and passengers in pclass=2"
   ]
  },
  {
   "cell_type": "code",
   "execution_count": null,
   "metadata": {},
   "outputs": [],
   "source": [
    "#We can breakout the chart by class of cabin (pclass)\n",
    "#Change the type of marker used for the hue argument (pclass)\n",
    "\n",
    "sns.relplot(x='decade',y='fare',data=df,\n",
    "           kind='line',\n",
    "           hue='pclass',\n",
    "           style='pclass')"
   ]
  },
  {
   "cell_type": "code",
   "execution_count": null,
   "metadata": {},
   "outputs": [],
   "source": [
    "#We can create multiple scatterplot charts on a \n",
    "# single row by using the col argument\n",
    "\n",
    "# Facet Grid the chart by a single row:\n",
    "\n",
    "\n",
    "sns.relplot(x='age', y='fare',\n",
    "           data=df,\n",
    "           col='pclass')"
   ]
  },
  {
   "cell_type": "code",
   "execution_count": null,
   "metadata": {},
   "outputs": [],
   "source": [
    "#We can see that \n",
    "\n",
    "#1. passengers in Pclass=1 are paying above 100 compared with \n",
    "#passengers in pclass=2 and pclass = 1 that are paying less than 100\n",
    "\n",
    "#2. Passengers in pclass=1 paid a varied array of fares compared with \n",
    "# passengers in pclass= 2 and pclass=3, who appear to have paid more subdued fares"
   ]
  },
  {
   "cell_type": "code",
   "execution_count": null,
   "metadata": {},
   "outputs": [],
   "source": [
    "#We can create multiple scatterplot charts on a \n",
    "# single col by using the row argument\n",
    "\n",
    "# Facet Grid the chart by a single column:\n",
    "\n",
    "\n",
    "sns.relplot(x='age', y='fare',\n",
    "           data=df,\n",
    "           row='pclass')"
   ]
  },
  {
   "cell_type": "code",
   "execution_count": null,
   "metadata": {},
   "outputs": [],
   "source": [
    "#We can also create multiple lineplot charts on a \n",
    "#single col by using the row argument\n",
    "\n",
    "# Facet Grid the chart by a single column:\n",
    "\n",
    "\n",
    "sns.relplot(x='decade', y='fare',\n",
    "           data=df,\n",
    "            kind='line',\n",
    "           row='pclass')"
   ]
  },
  {
   "cell_type": "code",
   "execution_count": null,
   "metadata": {},
   "outputs": [],
   "source": [
    "#We can also create multiple lineplot charts on a \n",
    "#single col by using the row argument\n",
    "\n",
    "# Facet Grid the chart by a single column:\n",
    "\n",
    "\n",
    "sns.relplot(x='decade', y='fare',\n",
    "           data=df,\n",
    "            kind='line',\n",
    "           col='pclass')"
   ]
  },
  {
   "cell_type": "code",
   "execution_count": null,
   "metadata": {},
   "outputs": [],
   "source": [
    "#When we arange the charts in a single row, we get the \n",
    "# added benefit of being able to tell a story with the charts\n",
    "\n",
    "#What insights can we see from left to right or vice versa about the fares\n",
    "# paid by passengers in pclass=1 to pclass=3?"
   ]
  },
  {
   "cell_type": "code",
   "execution_count": null,
   "metadata": {},
   "outputs": [],
   "source": [
    "#If we want to arrange the charts by a categorical variable\n",
    "# with a lot of entries, we can use the col=wrap to wrap the charts\n",
    "\n",
    "\n",
    "sns.relplot(x='age', y='fare',\n",
    "           data=df,\n",
    "           col='deck')"
   ]
  },
  {
   "cell_type": "code",
   "execution_count": null,
   "metadata": {},
   "outputs": [],
   "source": [
    "#Since deck is a feature with 7 values/categories, \n",
    "# we can wrap the charts/facets - \n",
    "# similar to how we wrap text\n",
    "\n",
    "sns.relplot(x='age',y='fare',\n",
    "           data=df,\n",
    "           col='deck',\n",
    "           col_wrap=3)"
   ]
  },
  {
   "cell_type": "code",
   "execution_count": null,
   "metadata": {},
   "outputs": [],
   "source": [
    "#We can breakout the charts by another categorical features\n",
    "\n",
    "sns.relplot(x='age',y='fare',\n",
    "           data=df,\n",
    "           col='deck',\n",
    "            hue='survived',\n",
    "           col_wrap=3)"
   ]
  },
  {
   "cell_type": "code",
   "execution_count": null,
   "metadata": {},
   "outputs": [],
   "source": [
    "#We can breakout the charts by another categorical features\n",
    "\n",
    "sns.relplot(x='age',y='fare',\n",
    "           data=df,\n",
    "           col='pclass',\n",
    "            hue='survived',\n",
    "           )"
   ]
  },
  {
   "cell_type": "code",
   "execution_count": null,
   "metadata": {},
   "outputs": [],
   "source": [
    "#The charts above show that relatively more passengers in pclass=1\n",
    "# lived(survived=1), but paid relatively more than passengers \n",
    "# that did not (survived=0)"
   ]
  },
  {
   "cell_type": "code",
   "execution_count": null,
   "metadata": {},
   "outputs": [],
   "source": [
    "#Change size of dots\n",
    "#Use a different color palette\n",
    "\n",
    "sns.relplot(x='age',y='fare',\n",
    "           data=df,\n",
    "           col='pclass',\n",
    "            hue='survived',\n",
    "            s=150,\n",
    "            palette=['green','pink']\n",
    "        \n",
    "           )"
   ]
  },
  {
   "cell_type": "code",
   "execution_count": null,
   "metadata": {},
   "outputs": [],
   "source": [
    "#Change plt type to lineplot\n",
    "#Use a different color palette\n",
    "\n",
    "sns.relplot(x='decade',y='survived',\n",
    "           data=df[df.decade<70],\n",
    "           kind='line')"
   ]
  },
  {
   "cell_type": "code",
   "execution_count": null,
   "metadata": {},
   "outputs": [],
   "source": [
    "#Arrange plots on a single row\n",
    "#Use a different color palette\n",
    "\n",
    "sns.relplot(x='decade',y='survived',\n",
    "           data=df,\n",
    "           col='pclass',\n",
    "            kind='line')"
   ]
  },
  {
   "cell_type": "code",
   "execution_count": null,
   "metadata": {},
   "outputs": [],
   "source": [
    "#Breakout chart by another variable\n",
    "\n",
    "sns.relplot(x='decade',y='survived',\n",
    "           data=df[df.decade<70],\n",
    "            kind='line',\n",
    "            hue='sex',\n",
    "            ci=None\n",
    "           )"
   ]
  },
  {
   "cell_type": "code",
   "execution_count": null,
   "metadata": {},
   "outputs": [],
   "source": [
    "\n",
    "\n",
    "#work with the Facet Grid object returned by the relplot() function\n",
    "\n",
    "g=sns.relplot(x='decade',y='survived',\n",
    "           data=df[df.decade<70],\n",
    "            kind='line',\n",
    "            hue='sex',\n",
    "            ci=None\n",
    "           )\n",
    "\n",
    "#We can change the labels for the verical and horizontal axis\n",
    "\n",
    "g.set_xlabels('Passenger Age Group')\n",
    "g.set_ylabels('Percent Survived')"
   ]
  },
  {
   "cell_type": "code",
   "execution_count": null,
   "metadata": {},
   "outputs": [],
   "source": [
    "#work with the Facet Grid object returned by the relplot() function\n",
    "\n",
    "g=sns.relplot(x='decade',y='survived',\n",
    "           data=df[df.decade<70],\n",
    "            kind='line',\n",
    "            hue='sex',\n",
    "            col='pclass',\n",
    "            ci=None\n",
    "           )\n",
    "\n",
    "#We can change the labels for the verical and horizontal axis\n",
    "\n",
    "g.set_xlabels('Passenger Age Group')\n",
    "g.set_ylabels('Percent Survived')"
   ]
  },
  {
   "cell_type": "code",
   "execution_count": null,
   "metadata": {},
   "outputs": [],
   "source": [
    "#What insights can we get from the charts above?\n",
    "#What story can you tell reading the charts from left to right?"
   ]
  },
  {
   "cell_type": "code",
   "execution_count": null,
   "metadata": {},
   "outputs": [],
   "source": []
  },
  {
   "cell_type": "code",
   "execution_count": null,
   "metadata": {},
   "outputs": [],
   "source": []
  },
  {
   "cell_type": "code",
   "execution_count": null,
   "metadata": {},
   "outputs": [],
   "source": []
  },
  {
   "cell_type": "code",
   "execution_count": null,
   "metadata": {},
   "outputs": [],
   "source": []
  },
  {
   "cell_type": "code",
   "execution_count": null,
   "metadata": {},
   "outputs": [],
   "source": [
    "#Additional xkcd: color options\n",
    "\n",
    "'xkcd:red purple', 'xkcd:pale teal', 'xkcd:warm purple', 'xkcd:light forest green', 'xkcd:blue with a hint of purple'"
   ]
  },
  {
   "cell_type": "code",
   "execution_count": null,
   "metadata": {},
   "outputs": [],
   "source": []
  },
  {
   "cell_type": "code",
   "execution_count": null,
   "metadata": {},
   "outputs": [],
   "source": []
  },
  {
   "cell_type": "code",
   "execution_count": null,
   "metadata": {},
   "outputs": [],
   "source": []
  },
  {
   "cell_type": "code",
   "execution_count": null,
   "metadata": {},
   "outputs": [],
   "source": []
  },
  {
   "cell_type": "code",
   "execution_count": null,
   "metadata": {},
   "outputs": [],
   "source": []
  },
  {
   "cell_type": "code",
   "execution_count": null,
   "metadata": {},
   "outputs": [],
   "source": []
  },
  {
   "cell_type": "code",
   "execution_count": null,
   "metadata": {},
   "outputs": [],
   "source": []
  },
  {
   "cell_type": "code",
   "execution_count": null,
   "metadata": {},
   "outputs": [],
   "source": []
  },
  {
   "cell_type": "code",
   "execution_count": null,
   "metadata": {},
   "outputs": [],
   "source": []
  },
  {
   "cell_type": "code",
   "execution_count": null,
   "metadata": {},
   "outputs": [],
   "source": []
  },
  {
   "cell_type": "code",
   "execution_count": null,
   "metadata": {},
   "outputs": [],
   "source": []
  },
  {
   "cell_type": "markdown",
   "metadata": {},
   "source": [
    "# No Homework\n",
    "\n",
    "#Homework 4: Due October 14 , 2022\n",
    "\n",
    "Instructions:\n",
    "\n",
    "Include your name and student ID in the placeholders below\n",
    "\n",
    "Follow the prompts (i.e. text beginning with #) in each cell to answer each question\n",
    "\n",
    "Start your homework by running the code from the beginning of the homework i.e. the setup section\n",
    "\n",
    "You can try to confirm your answer by running each cell\n",
    "\n",
    "Remember each question is for one point\n",
    "\n",
    "Remember to SAVE YOUR WORK\n",
    "\n",
    "Upload your completed Jupyter notebook to Canvas before or on the due date"
   ]
  },
  {
   "cell_type": "code",
   "execution_count": null,
   "metadata": {},
   "outputs": [],
   "source": []
  },
  {
   "cell_type": "code",
   "execution_count": null,
   "metadata": {},
   "outputs": [],
   "source": []
  },
  {
   "cell_type": "code",
   "execution_count": null,
   "metadata": {},
   "outputs": [],
   "source": []
  },
  {
   "cell_type": "code",
   "execution_count": null,
   "metadata": {},
   "outputs": [],
   "source": []
  },
  {
   "cell_type": "code",
   "execution_count": null,
   "metadata": {},
   "outputs": [],
   "source": []
  }
 ],
 "metadata": {
  "kernelspec": {
   "display_name": "Python 3 (ipykernel)",
   "language": "python",
   "name": "python3"
  },
  "language_info": {
   "codemirror_mode": {
    "name": "ipython",
    "version": 3
   },
   "file_extension": ".py",
   "mimetype": "text/x-python",
   "name": "python",
   "nbconvert_exporter": "python",
   "pygments_lexer": "ipython3",
   "version": "3.9.12"
  }
 },
 "nbformat": 4,
 "nbformat_minor": 4
}
